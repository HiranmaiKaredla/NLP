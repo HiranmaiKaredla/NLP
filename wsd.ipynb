{
  "nbformat": 4,
  "nbformat_minor": 0,
  "metadata": {
    "colab": {
      "provenance": [],
      "include_colab_link": true
    },
    "kernelspec": {
      "name": "python3",
      "display_name": "Python 3"
    },
    "language_info": {
      "name": "python"
    }
  },
  "cells": [
    {
      "cell_type": "markdown",
      "metadata": {
        "id": "view-in-github",
        "colab_type": "text"
      },
      "source": [
        "<a href=\"https://colab.research.google.com/github/HiranmaiKaredla/NLP/blob/main/wsd.ipynb\" target=\"_parent\"><img src=\"https://colab.research.google.com/assets/colab-badge.svg\" alt=\"Open In Colab\"/></a>"
      ]
    },
    {
      "cell_type": "code",
      "source": [
        "'''\n",
        "Develop a decision list model for disambiguating the word \"car.\"\n",
        "Assume there are two morphological forms: [\"car\", \"cars\"]. “car”\n",
        "has five word senses. Focus on identifying the word\n",
        "features that can be used to disambiguate the senses\n",
        "[“car.n.01”, “car.n.02”, “car.n.04”, “cable_car.n.01”], for the\n",
        "provided sentences. For brevity, ignore the word sense\n",
        "“car.n.03”, related to their ships.\n",
        "\n",
        "Start by identifying the features (words) that will be used to\n",
        "disambiguate the senses. Then create a set of if-else statements\n",
        "to perform the disambiguation using the identified features.\n",
        "\n",
        "'''\n",
        "\n",
        "ambiguous_word = 'car'"
      ],
      "metadata": {
        "id": "b-MGHqJh-oY7"
      },
      "execution_count": null,
      "outputs": []
    },
    {
      "cell_type": "code",
      "execution_count": null,
      "metadata": {
        "id": "TB9HsB-kFLTO"
      },
      "outputs": [],
      "source": [
        "import sys\n",
        "from nltk.corpus import wordnet as wn\n",
        "import nltk\n",
        "from nltk.tokenize import word_tokenize, sent_tokenize, RegexpTokenizer\n"
      ]
    },
    {
      "cell_type": "code",
      "source": [
        "\n",
        "!{sys.executable} -m nltk.downloader 'punkt'\n",
        "!{sys.executable} -m nltk.downloader 'wordnet'\n",
        "!{sys.executable} -m nltk.downloader 'omw-1.4'\n"
      ],
      "metadata": {
        "id": "0LqgGn-JFtyD",
        "colab": {
          "base_uri": "https://localhost:8080/"
        },
        "outputId": "69c4d829-142b-40ed-a69f-367d5a8fe69e"
      },
      "execution_count": null,
      "outputs": [
        {
          "output_type": "stream",
          "name": "stdout",
          "text": [
            "/usr/lib/python3.8/runpy.py:127: RuntimeWarning: 'nltk.downloader' found in sys.modules after import of package 'nltk', but prior to execution of 'nltk.downloader'; this may result in unpredictable behaviour\n",
            "  warn(RuntimeWarning(msg))\n",
            "[nltk_data] Downloading package punkt to /root/nltk_data...\n",
            "[nltk_data]   Unzipping tokenizers/punkt.zip.\n",
            "/usr/lib/python3.8/runpy.py:127: RuntimeWarning: 'nltk.downloader' found in sys.modules after import of package 'nltk', but prior to execution of 'nltk.downloader'; this may result in unpredictable behaviour\n",
            "  warn(RuntimeWarning(msg))\n",
            "[nltk_data] Downloading package wordnet to /root/nltk_data...\n",
            "/usr/lib/python3.8/runpy.py:127: RuntimeWarning: 'nltk.downloader' found in sys.modules after import of package 'nltk', but prior to execution of 'nltk.downloader'; this may result in unpredictable behaviour\n",
            "  warn(RuntimeWarning(msg))\n",
            "[nltk_data] Downloading package omw-1.4 to /root/nltk_data...\n"
          ]
        }
      ]
    },
    {
      "cell_type": "code",
      "source": [
        "sentences = [ \\\n",
        "  'I drove the car to the store.',\n",
        "  'My car go to flat tire.',\n",
        "  'The train had many cars.',\n",
        "  'The last train car is the caboose.',\n",
        "  'The elevator ride was scary because the car kept vibrating.',\n",
        "  'Someone pressed all the buttons in the elevator car.',\n",
        "  'We took the cable car to the top of the mountain.',\n",
        "  'I got motion sick in the gondola, because the car kept swinging back and forth.',]\n",
        "for i, sent in enumerate(sentences):\n",
        "  print(i, sent)"
      ],
      "metadata": {
        "id": "TFFk7XWQ-Plz",
        "colab": {
          "base_uri": "https://localhost:8080/"
        },
        "outputId": "0028a0c6-ebb9-4641-84d7-2b071d85d960"
      },
      "execution_count": null,
      "outputs": [
        {
          "output_type": "stream",
          "name": "stdout",
          "text": [
            "0 I drove the car to the store.\n",
            "1 My car go to flat tire.\n",
            "2 The train had many cars.\n",
            "3 The last train car is the caboose.\n",
            "4 The elevator ride was scary because the car kept vibrating.\n",
            "5 Someone pressed all the buttons in the elevator car.\n",
            "6 We took the cable car to the top of the mountain.\n",
            "7 I got motion sick in the gondola, because the car kept swinging back and forth.\n"
          ]
        }
      ]
    },
    {
      "cell_type": "code",
      "source": [
        "# Get all senses\n",
        "senses = wn.synsets(ambiguous_word)\n",
        "\n",
        "#print(lemma)\n",
        "print(len(senses), senses)"
      ],
      "metadata": {
        "id": "jAtyZosAFV1b",
        "colab": {
          "base_uri": "https://localhost:8080/"
        },
        "outputId": "dac35092-c7bd-40a1-fa9d-fd3f9f52d346"
      },
      "execution_count": null,
      "outputs": [
        {
          "output_type": "stream",
          "name": "stdout",
          "text": [
            "5 [Synset('car.n.01'), Synset('car.n.02'), Synset('car.n.03'), Synset('car.n.04'), Synset('cable_car.n.01')]\n"
          ]
        }
      ]
    },
    {
      "cell_type": "code",
      "source": [
        "# Print all sense definitions\n",
        "for s in senses:\n",
        "  print(s, s.definition())"
      ],
      "metadata": {
        "id": "FANwLiYcHqgZ",
        "colab": {
          "base_uri": "https://localhost:8080/"
        },
        "outputId": "732d641f-14a3-48cc-e2a4-fd34b747daa1"
      },
      "execution_count": null,
      "outputs": [
        {
          "output_type": "stream",
          "name": "stdout",
          "text": [
            "Synset('car.n.01') a motor vehicle with four wheels; usually propelled by an internal combustion engine\n",
            "Synset('car.n.02') a wheeled vehicle adapted to the rails of railroad\n",
            "Synset('car.n.03') the compartment that is suspended from an airship and that carries personnel and the cargo and the power plant\n",
            "Synset('car.n.04') where passengers ride up and down\n",
            "Synset('cable_car.n.01') a conveyance for passengers or freight on a cable railway\n"
          ]
        }
      ]
    },
    {
      "cell_type": "code",
      "source": [
        "# Tokenize sentences\n",
        "tokenized = [word_tokenize(sent) for sent in sentences]\n",
        "\n",
        "for i, sent in enumerate(tokenized):\n",
        "  print(i, sent)"
      ],
      "metadata": {
        "id": "PM1RTu2sSZzV",
        "colab": {
          "base_uri": "https://localhost:8080/"
        },
        "outputId": "1b81c220-3d92-4a09-f99e-363151aeb26d"
      },
      "execution_count": null,
      "outputs": [
        {
          "output_type": "stream",
          "name": "stdout",
          "text": [
            "0 ['I', 'drove', 'the', 'car', 'to', 'the', 'store', '.']\n",
            "1 ['My', 'car', 'go', 'to', 'flat', 'tire', '.']\n",
            "2 ['The', 'train', 'had', 'many', 'cars', '.']\n",
            "3 ['The', 'last', 'train', 'car', 'is', 'the', 'caboose', '.']\n",
            "4 ['The', 'elevator', 'ride', 'was', 'scary', 'because', 'the', 'car', 'kept', 'vibrating', '.']\n",
            "5 ['Someone', 'pressed', 'all', 'the', 'buttons', 'in', 'the', 'elevator', 'car', '.']\n",
            "6 ['We', 'took', 'the', 'cable', 'car', 'to', 'the', 'top', 'of', 'the', 'mountain', '.']\n",
            "7 ['I', 'got', 'motion', 'sick', 'in', 'the', 'gondola', ',', 'because', 'the', 'car', 'kept', 'swinging', 'back', 'and', 'forth', '.']\n"
          ]
        }
      ]
    },
    {
      "cell_type": "code",
      "source": [
        "# Create function that resolves the word sense for an ambiguous word in context\n",
        "def disambiguate_sense(sentence, ambiguous_word):\n",
        "\n",
        "    s = 'unknown'\n",
        "    #  ADD IF-ELSE statements code here\n",
        "    if  set([\"drove\", \"store\", \"flat\", \"tire\"]).intersection(set(sentence)):\n",
        "      return 'car.n.01'\n",
        "    elif  set([\"train\", \"railway\", \"cable\"]).intersection(set(sentence)):\n",
        "      return 'cable_car.n.01'\n",
        "    elif  set([\"elevator\", \"lift\", \"swinging\"]).intersection(set(sentence)):\n",
        "      return 'cable_car.n.04'\n",
        "    # elif  set([\"elevator\", \"lift\"]).issubset(sentence):\n",
        "    #   return 'cable_car.n.04'\n",
        "\n",
        "\n",
        "    return s"
      ],
      "metadata": {
        "id": "X2owVVCTRlfT"
      },
      "execution_count": null,
      "outputs": []
    },
    {
      "cell_type": "code",
      "source": [
        "# Apply sense disambiguation function\n",
        "\n",
        "for i, sent in enumerate(tokenized):\n",
        "    s = disambiguate_sense(sent, ambiguous_word=ambiguous_word)\n",
        "    print(f'{i}: {ambiguous_word}-sense = {s}; sentence={sent}')"
      ],
      "metadata": {
        "id": "ACKhpfJFS_9O",
        "colab": {
          "base_uri": "https://localhost:8080/"
        },
        "outputId": "0cc299ef-c00f-4741-b74b-c151e70306e0"
      },
      "execution_count": null,
      "outputs": [
        {
          "output_type": "stream",
          "name": "stdout",
          "text": [
            "0: car-sense = car.n.01; sentence=['I', 'drove', 'the', 'car', 'to', 'the', 'store', '.']\n",
            "1: car-sense = car.n.01; sentence=['My', 'car', 'go', 'to', 'flat', 'tire', '.']\n",
            "2: car-sense = cable_car.n.01; sentence=['The', 'train', 'had', 'many', 'cars', '.']\n",
            "3: car-sense = cable_car.n.01; sentence=['The', 'last', 'train', 'car', 'is', 'the', 'caboose', '.']\n",
            "4: car-sense = cable_car.n.04; sentence=['The', 'elevator', 'ride', 'was', 'scary', 'because', 'the', 'car', 'kept', 'vibrating', '.']\n",
            "5: car-sense = cable_car.n.04; sentence=['Someone', 'pressed', 'all', 'the', 'buttons', 'in', 'the', 'elevator', 'car', '.']\n",
            "6: car-sense = cable_car.n.01; sentence=['We', 'took', 'the', 'cable', 'car', 'to', 'the', 'top', 'of', 'the', 'mountain', '.']\n",
            "7: car-sense = cable_car.n.04; sentence=['I', 'got', 'motion', 'sick', 'in', 'the', 'gondola', ',', 'because', 'the', 'car', 'kept', 'swinging', 'back', 'and', 'forth', '.']\n"
          ]
        }
      ]
    },
    {
      "cell_type": "code",
      "source": [],
      "metadata": {
        "id": "wzBxLFcmXEMu"
      },
      "execution_count": null,
      "outputs": []
    }
  ]
}