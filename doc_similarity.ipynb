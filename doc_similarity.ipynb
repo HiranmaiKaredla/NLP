{
  "cells": [
    {
      "cell_type": "markdown",
      "metadata": {
        "id": "view-in-github",
        "colab_type": "text"
      },
      "source": [
        "<a href=\"https://colab.research.google.com/github/HiranmaiKaredla/NLP/blob/main/doc_similarity.ipynb\" target=\"_parent\"><img src=\"https://colab.research.google.com/assets/colab-badge.svg\" alt=\"Open In Colab\"/></a>"
      ]
    },
    {
      "cell_type": "code",
      "execution_count": null,
      "id": "2a1f588e-7065-4190-984b-5c0136aeeecd",
      "metadata": {
        "id": "2a1f588e-7065-4190-984b-5c0136aeeecd",
        "colab": {
          "base_uri": "https://localhost:8080/"
        },
        "outputId": "64e1d7be-8917-4a65-b0b3-8de8b2d24992"
      },
      "outputs": [
        {
          "output_type": "stream",
          "name": "stdout",
          "text": [
            "Looking in indexes: https://pypi.org/simple, https://us-python.pkg.dev/colab-wheels/public/simple/\n",
            "Collecting wikipedia\n",
            "  Downloading wikipedia-1.4.0.tar.gz (27 kB)\n",
            "  Preparing metadata (setup.py) ... \u001b[?25l\u001b[?25hdone\n",
            "Requirement already satisfied: beautifulsoup4 in /usr/local/lib/python3.9/dist-packages (from wikipedia) (4.11.2)\n",
            "Requirement already satisfied: requests<3.0.0,>=2.0.0 in /usr/local/lib/python3.9/dist-packages (from wikipedia) (2.27.1)\n",
            "Requirement already satisfied: urllib3<1.27,>=1.21.1 in /usr/local/lib/python3.9/dist-packages (from requests<3.0.0,>=2.0.0->wikipedia) (1.26.15)\n",
            "Requirement already satisfied: charset-normalizer~=2.0.0 in /usr/local/lib/python3.9/dist-packages (from requests<3.0.0,>=2.0.0->wikipedia) (2.0.12)\n",
            "Requirement already satisfied: certifi>=2017.4.17 in /usr/local/lib/python3.9/dist-packages (from requests<3.0.0,>=2.0.0->wikipedia) (2022.12.7)\n",
            "Requirement already satisfied: idna<4,>=2.5 in /usr/local/lib/python3.9/dist-packages (from requests<3.0.0,>=2.0.0->wikipedia) (3.4)\n",
            "Requirement already satisfied: soupsieve>1.2 in /usr/local/lib/python3.9/dist-packages (from beautifulsoup4->wikipedia) (2.4)\n",
            "Building wheels for collected packages: wikipedia\n",
            "  Building wheel for wikipedia (setup.py) ... \u001b[?25l\u001b[?25hdone\n",
            "  Created wheel for wikipedia: filename=wikipedia-1.4.0-py3-none-any.whl size=11696 sha256=c1e3fce6e34346e4e2694278a58639daa22e4f72d3c98723086ca7ec72e147bb\n",
            "  Stored in directory: /root/.cache/pip/wheels/c2/46/f4/caa1bee71096d7b0cdca2f2a2af45cacf35c5760bee8f00948\n",
            "Successfully built wikipedia\n",
            "Installing collected packages: wikipedia\n",
            "Successfully installed wikipedia-1.4.0\n",
            "Import successful\n"
          ]
        }
      ],
      "source": [
        "#!pip install -U scikit-learn\n",
        "!pip install wikipedia\n",
        "\n",
        "from collections import OrderedDict\n",
        "import multiprocessing\n",
        "import psutil\n",
        "import pandas as pd\n",
        "pd.set_option('display.max_rows', None)\n",
        "import sklearn\n",
        "import re\n",
        "import numpy as np\n",
        "import wikipedia\n",
        "from tqdm.notebook import tqdm\n",
        "from sklearn.feature_extraction.text import TfidfVectorizer\n",
        "from sklearn.metrics.pairwise import cosine_similarity\n",
        "print('Import successful')\n",
        "\n",
        "\n"
      ]
    },
    {
      "cell_type": "code",
      "execution_count": null,
      "id": "3d0ae8ee-bb7b-47d7-ab2c-839fd291aad5",
      "metadata": {
        "id": "3d0ae8ee-bb7b-47d7-ab2c-839fd291aad5",
        "colab": {
          "base_uri": "https://localhost:8080/"
        },
        "outputId": "30f54dfd-4abe-417e-f299-0f890eed1807"
      },
      "outputs": [
        {
          "output_type": "stream",
          "name": "stdout",
          "text": [
            "pages 100 ['Science', 'Science (disambiguation)', 'Science fiction', 'Computer science', 'Bachelor of Science', 'Political science', 'Social science', 'Natural science', 'Science (journal)', 'Data science', 'Science in science fiction', 'Pseudoscience', 'Botany', 'Logic', 'Applied science', 'Master of Science', 'Forensic science', 'Medicine', 'Science of team science', 'E-Science']\n"
          ]
        }
      ],
      "source": [
        "# Build dataset\n",
        "\n",
        "# Get pages names\n",
        "search_term = \"science\"\n",
        "pages = wikipedia.search(\"science\", results=100)\n",
        "print('pages', len(pages), pages[:20])"
      ]
    },
    {
      "cell_type": "code",
      "execution_count": null,
      "id": "62e5491c-1428-4de8-b325-ff549c6592f8",
      "metadata": {
        "id": "62e5491c-1428-4de8-b325-ff549c6592f8",
        "colab": {
          "base_uri": "https://localhost:8080/",
          "height": 551,
          "referenced_widgets": [
            "7adb9571de4f4decb888aebb7cf35174",
            "6ef30a2a83d147abac0454c4d1d15b29",
            "4deadbfcdc8b4f2b96c827a9654b3e32",
            "c632293bf43944ba9b7b41452eca61e7",
            "eaed5944ef8d404d949b4cf64493fbfb",
            "51c71f05e2ca4690b712f5996f6b94d1",
            "5ae01a544ae343e5bd19cbbb1f18040f",
            "4590ff22afbd4aba919dcc3ca4a289ea",
            "ebd22a8cf2454d73bd6cea68cc8a25b7",
            "d849a25c9ac34106b833db8a59582caf",
            "46837b2312a444e89ffe2f4ee5d90965"
          ]
        },
        "outputId": "d14d4652-4814-4eba-b731-5972fca75cea"
      },
      "outputs": [
        {
          "output_type": "display_data",
          "data": {
            "text/plain": [
              "fetching docs: 0it [00:00, ?it/s]"
            ],
            "application/vnd.jupyter.widget-view+json": {
              "version_major": 2,
              "version_minor": 0,
              "model_id": "7adb9571de4f4decb888aebb7cf35174"
            }
          },
          "metadata": {}
        },
        {
          "output_type": "stream",
          "name": "stderr",
          "text": [
            "/usr/local/lib/python3.9/dist-packages/wikipedia/wikipedia.py:389: GuessedAtParserWarning: No parser was explicitly specified, so I'm using the best available HTML parser for this system (\"lxml\"). This usually isn't a problem, but if you run this code on another system, or in a different virtual environment, it may use a different parser and behave differently.\n",
            "\n",
            "The code that caused this warning is on line 389 of the file /usr/local/lib/python3.9/dist-packages/wikipedia/wikipedia.py. To get rid of this warning, pass the additional argument 'features=\"lxml\"' to the BeautifulSoup constructor.\n",
            "\n",
            "  lis = BeautifulSoup(html).find_all('li')\n"
          ]
        },
        {
          "output_type": "stream",
          "name": "stdout",
          "text": [
            "pages 88 ['Science fiction', 'Computer science', 'Bachelor of Science', 'Political science', 'Social science', 'Natural science', 'Science (journal)', 'Data science', 'Science in science fiction', 'Pseudoscience', 'Botany', 'Applied science', 'Master of Science', 'Forensic science', 'Medicine', 'Science of team science', 'E-Science', 'Chemistry', 'Military science', 'Actuarial science']\n",
            "\n",
            "\n",
            "Science fiction: Science fiction (sometimes shortened to sf or sci-fi) is a genre of speculative fiction, which typic...\n",
            "\n",
            "Computer science: Computer science is the study of computation, automation, and information....\n",
            "\n",
            "Bachelor of Science: A Bachelor of Science (BS, BSc, SB, or ScB; from the Latin scientiae baccalaureus) is a bachelor's d...\n",
            "\n",
            "Political science: Political science is the scientific study of politics....\n",
            "\n",
            "Social science: Social science is one of the branches of science, devoted to the study of societies and the relation...\n",
            "\n",
            "Natural science: Natural science is one of the branches of science concerned with the description, understanding and ...\n",
            "\n",
            "Science (journal): Science, also widely referred to as Science Magazine, is the peer-reviewed academic journal of the A...\n",
            "\n",
            "Data science: Data science is an interdisciplinary academic field  that uses statistics, scientific computing, sci...\n",
            "\n",
            "Science in science fiction: Science fiction (sometimes shortened to sf or sci-fi) is a genre of speculative fiction, which typic...\n",
            "\n",
            "Pseudoscience: Pseudoscience consists of statements, beliefs, or practices that claim to be both scientific and fac...\n"
          ]
        }
      ],
      "source": [
        "# Get page content\n",
        "documents = OrderedDict()\n",
        "for i, p in tqdm(enumerate(pages), desc='fetching docs'):\n",
        "    try:\n",
        "        text = wikipedia.summary(p, sentences=1)\n",
        "        documents[p] = text\n",
        "    except Exception as e:\n",
        "        # print('Could not load:', p)\n",
        "        pass\n",
        "\n",
        "\n",
        "print('pages', len(documents), list(documents.keys())[:20])\n",
        "print()\n",
        "\n",
        "for p, text in list(documents.items())[:10]:\n",
        "    print()\n",
        "    print(f'{p}: {text[:100]}...')\n",
        "\n",
        "\n"
      ]
    },
    {
      "cell_type": "code",
      "execution_count": null,
      "id": "c56de658-2bb0-40cc-89b9-58854bcc9907",
      "metadata": {
        "id": "c56de658-2bb0-40cc-89b9-58854bcc9907",
        "colab": {
          "base_uri": "https://localhost:8080/"
        },
        "outputId": "b22081eb-7bdf-42b5-c5eb-25a6109f8b0b"
      },
      "outputs": [
        {
          "output_type": "stream",
          "name": "stdout",
          "text": [
            "\n",
            "Science fiction  sometimes shortened to sf or sci fi  is a genre of speculative fiction  which typically deals with imaginative and futuristic concepts such as advanced science and technology  space exploration  time travel  parallel universes  and extraterrestrial life \n",
            "\n",
            "Computer science is the study of computation  automation  and information \n",
            "\n",
            "A Bachelor of Science  BS  BSc  SB  or ScB  from the Latin scientiae baccalaureus  is a bachelor s degree awarded for programs that generally last three to five years The first university to admit a student to the degree of Bachelor of Science was the University of London in      \n",
            "\n",
            "Political science is the scientific study of politics \n",
            "\n",
            "Social science is one of the branches of science  devoted to the study of societies and the relationships among individuals within those societies \n"
          ]
        }
      ],
      "source": [
        "# Preprocessing\n",
        "text_clean = []\n",
        "for k, text in documents.items():\n",
        "    text_clean.append(re.sub('[^a-zA-Z]', ' ', text))\n",
        "\n",
        "for t in text_clean[:5]:\n",
        "    print()\n",
        "    print(t)"
      ]
    },
    {
      "cell_type": "code",
      "execution_count": null,
      "id": "728724c7-c9f2-4e1d-bcc7-86f0d98ee931",
      "metadata": {
        "id": "728724c7-c9f2-4e1d-bcc7-86f0d98ee931"
      },
      "outputs": [],
      "source": [
        "# create tfidf vectorizer\n",
        "vectorizer = TfidfVectorizer( \\\n",
        "    stop_words = 'english',\n",
        "    lowercase = True,\n",
        "    #min_df refers words occur in 3 distinct documents,\n",
        "    min_df = 3 )\n"
      ]
    },
    {
      "cell_type": "code",
      "execution_count": null,
      "id": "5ea7b4ed-d23a-4945-97ca-f10fe95bc93a",
      "metadata": {
        "id": "5ea7b4ed-d23a-4945-97ca-f10fe95bc93a",
        "colab": {
          "base_uri": "https://localhost:8080/"
        },
        "outputId": "fae8d9ae-a50c-4d5d-d91f-58d7cda5e9a3"
      },
      "outputs": [
        {
          "output_type": "stream",
          "name": "stdout",
          "text": [
            "['academic' 'academy' 'advanced' 'ancient' 'application' 'awarded'\n",
            " 'bachelor' 'best' 'branch' 'branches' 'college' 'computer' 'computing'\n",
            " 'concerned' 'data' 'deals' 'degree' 'discipline' 'disciplines' 'earth'\n",
            " 'education' 'empirical' 'engineering' 'english' 'extraterrestrial' 'fi'\n",
            " 'fiction' 'field' 'fields' 'film' 'films' 'futuristic' 'genre' 'greek'\n",
            " 'group' 'history' 'human' 'imaginative' 'includes' 'including'\n",
            " 'information' 'interdisciplinary' 'knowledge' 'known' 'life' 'list'\n",
            " 'london' 'management' 'mathematics' 'medicine' 'method' 'methods'\n",
            " 'natural' 'organization' 'phenomena' 'philosophy' 'physical' 'political'\n",
            " 'practices' 'primarily' 'problems' 'processes' 'public' 'refer'\n",
            " 'referred' 'related' 'research' 'school' 'sci' 'science' 'sciences'\n",
            " 'scientific' 'shortened' 'social' 'speculative' 'studies' 'study'\n",
            " 'systems' 'technical' 'technology' 'term' 'time' 'travel' 'typically'\n",
            " 'universities' 'university' 'use' 'used' 'uses' 'various' 'world' 'years']\n",
            "92\n"
          ]
        }
      ],
      "source": [
        "# 'train' vectorizer on corpus\n",
        "vectorizer.fit(text_clean)\n",
        "\n",
        "feature_names = vectorizer.get_feature_names_out()\n",
        "print(feature_names)\n",
        "print(len(feature_names))\n"
      ]
    },
    {
      "cell_type": "code",
      "execution_count": null,
      "id": "95a3feab-b99d-4aea-b770-71dd8642b629",
      "metadata": {
        "id": "95a3feab-b99d-4aea-b770-71dd8642b629",
        "colab": {
          "base_uri": "https://localhost:8080/"
        },
        "outputId": "2f9aee0f-3a50-4d6c-8454-bdfdc0154c45"
      },
      "outputs": [
        {
          "output_type": "stream",
          "name": "stdout",
          "text": [
            "X content   (0, 83)\t0.21652613747132152\n",
            "  (0, 82)\t0.2507290189478579\n",
            "  (0, 81)\t0.22594759688209073\n",
            "  (0, 79)\t0.18890148150231345\n",
            "  (0, 74)\t0.23709081823516814\n",
            "  (0, 72)\t0.2507290189478579\n",
            "  (0, 69)\t0.14985726106688477\n",
            "  (0, 68)\t0.23709081823516814\n",
            "  (0, 44)\t0.21652613747132152\n",
            "  (0, 37)\t0.2507290189478579\n",
            "  (0, 32)\t0.21652613747132152\n",
            "  (0, 31)\t0.2507290189478579\n",
            "  (0, 26)\t0.36716695208983136\n",
            "  (0, 25)\t0.2507290189478579\n",
            "  (0, 24)\t0.2507290189478579\n",
            "  (0, 15)\t0.2507290189478579\n",
            "  (0, 2)\t0.2507290189478579\n",
            "  (1, 76)\t0.40769025851620105\n",
            "  (1, 69)\t0.2084633748948872\n",
            "  (1, 40)\t0.6286221736617421\n",
            "  (1, 11)\t0.6286221736617421\n",
            "  (2, 91)\t0.22639393132110128\n",
            "  (2, 85)\t0.42815883574736047\n",
            "  (2, 69)\t0.13531251632664082\n",
            "  (2, 46)\t0.22639393132110128\n",
            "  :\t:\n",
            "  (82, 10)\t0.24038225258661863\n",
            "  (83, 79)\t0.5635433451854571\n",
            "  (83, 71)\t0.463890524416264\n",
            "  (83, 69)\t0.22353202719833712\n",
            "  (83, 65)\t0.6459550388924837\n",
            "  (84, 49)\t0.7883306277633328\n",
            "  (84, 47)\t0.34039575194811117\n",
            "  (84, 15)\t0.3941653138816664\n",
            "  (84, 8)\t0.32756565558452055\n",
            "  (85, 86)\t0.5127447900156006\n",
            "  (85, 71)\t0.3682260145224045\n",
            "  (85, 39)\t0.53505528002679\n",
            "  (85, 22)\t0.5614429889634897\n",
            "  (86, 85)\t0.3458624177172709\n",
            "  (86, 69)\t0.10930409496851821\n",
            "  (86, 67)\t0.365757498880328\n",
            "  (86, 62)\t0.3158631530409266\n",
            "  (86, 48)\t0.3158631530409266\n",
            "  (86, 1)\t0.731514997760656\n",
            "  (87, 90)\t0.5068456470744803\n",
            "  (87, 76)\t0.2962234834187832\n",
            "  (87, 69)\t0.15146731075043648\n",
            "  (87, 55)\t0.47927619103719404\n",
            "  (87, 52)\t0.3818620358630252\n",
            "  (87, 35)\t0.5068456470744803\n",
            "X.shape (88, 92)\n"
          ]
        }
      ],
      "source": [
        "# get tfidf values\n",
        "X = vectorizer.transform(text_clean)\n",
        "print('X content', X)\n",
        "print('X.shape', X.shape)\n",
        "\n",
        "# (0, 83)\t0.21652613747132152\n",
        "# (index of doc, word number)"
      ]
    },
    {
      "cell_type": "code",
      "execution_count": null,
      "id": "9194bd8b-6a03-4b4a-944f-51959a2e3648",
      "metadata": {
        "id": "9194bd8b-6a03-4b4a-944f-51959a2e3648",
        "colab": {
          "base_uri": "https://localhost:8080/"
        },
        "outputId": "af0f8f5e-caf4-4c55-a38c-88717231ba95"
      },
      "outputs": [
        {
          "output_type": "stream",
          "name": "stdout",
          "text": [
            "i_max shape (88, 1)\n",
            "                                                 page        top_feature\n",
            "0                                     Science fiction            fiction\n",
            "1                                    Computer science           computer\n",
            "2                                 Bachelor of Science           bachelor\n",
            "3                                   Political science          political\n",
            "4                                      Social science             social\n",
            "5                                     Natural science            natural\n",
            "6                                   Science (journal)           academic\n",
            "7                                        Data science               data\n",
            "8                          Science in science fiction            fiction\n",
            "9                                       Pseudoscience         scientific\n",
            "10                                             Botany               life\n",
            "11                                    Applied science             method\n",
            "12                                  Master of Science             degree\n",
            "13                                   Forensic science        application\n",
            "14                                           Medicine           academic\n",
            "15                            Science of team science         scientific\n",
            "16                                          E-Science          computing\n",
            "17                                          Chemistry         scientific\n",
            "18                                   Military science              study\n",
            "19                                  Actuarial science         discipline\n",
            "20                                     Formal science            systems\n",
            "21         Lists of important publications in science              world\n",
            "22                                       Neuroscience         scientific\n",
            "23                                Information science        information\n",
            "24                                     Sports science         discipline\n",
            "25                                          Economics           academic\n",
            "26        List of science fiction television programs            fiction\n",
            "27                         Bachelor of Social Science             social\n",
            "28                   Computer science and engineering        engineering\n",
            "29                         Planets in science fiction            fiction\n",
            "30                                  Christian Science          practices\n",
            "31                                Atmospheric science              earth\n",
            "32                                  Materials science  interdisciplinary\n",
            "33    List of letters used in mathematics and science        engineering\n",
            "34                          Science of science policy               best\n",
            "35                                  Science education            college\n",
            "36         Saturn Award for Best Science Fiction Film            fiction\n",
            "37                                     Web of Science           academic\n",
            "38  Science, technology, engineering, and mathematics        engineering\n",
            "39                                            Biology              earth\n",
            "40                            Imperial College London            college\n",
            "41                                             Occult            english\n",
            "42                                      Human science              human\n",
            "43                               Agricultural science             social\n",
            "44                                             Foobar           computer\n",
            "45      List of Mystery Science Theater 3000 episodes               best\n",
            "46                        Outline of physical science            systems\n",
            "47                                 Management science           problems\n",
            "48                         Lists of unsolved problems           problems\n",
            "49         List of science fiction films of the 2020s              films\n",
            "50                                Branches of science           branches\n",
            "51                                       Live Science               life\n",
            "52                                    Citizen science            science\n",
            "53                           List of years in science            related\n",
            "54       National Natural Science Foundation of China            natural\n",
            "55                                            Geology              earth\n",
            "56                                  Cognitive science         philosophy\n",
            "57                                    Surface science          phenomena\n",
            "58                      Diving Science and Technology         technology\n",
            "59                      Auxiliary sciences of history            history\n",
            "60   McGraw-Hill Encyclopedia of Science & Technology            english\n",
            "61        Academy of Motion Picture Arts and Sciences            academy\n",
            "62                                      Vedic science              refer\n",
            "63                                       Soil science              refer\n",
            "64                                      Earth science              earth\n",
            "65                              Philosophy of science         philosophy\n",
            "66                                  Religious Science            science\n",
            "67               Materials science in science fiction            fiction\n",
            "68                                  Scientific method             method\n",
            "69                                           Elsevier          technical\n",
            "70                                    Popular science            science\n",
            "71                                        Action film               film\n",
            "72                              Mathematical sciences        mathematics\n",
            "73                                     Nanotechnology          shortened\n",
            "74                     Lists of science fiction films              films\n",
            "75                                Speculative fiction            fiction\n",
            "76                                       Oceanography            ancient\n",
            "77                               Science fiction film             travel\n",
            "78                                    Library science        information\n",
            "79              Dianetics: The Evolution of a Science            science\n",
            "80                Bachelor of Business Administration         management\n",
            "81                    Encyclopedia of Science Fiction            fiction\n",
            "82                         London School of Economics             london\n",
            "83          Science and technology in the Philippines            related\n",
            "84                                Veterinary medicine           medicine\n",
            "85                                        Engineering        engineering\n",
            "86  Indiana Academy for Science, Mathematics, and ...            academy\n",
            "87          Relationship between religion and science            history\n"
          ]
        }
      ],
      "source": [
        "# Highestest weighted features\n",
        "i_max = X.argmax(axis=1)\n",
        "print('i_max shape', i_max.shape)\n",
        "\n",
        "page_names = list(documents.keys())\n",
        "\n",
        "# Iterate over documents\n",
        "rows = []\n",
        "for j, i in enumerate(i_max):\n",
        "    rows.append(dict(page=page_names[j], top_feature=feature_names[i].item()))\n",
        "df = pd.DataFrame(rows)\n",
        "print(df)"
      ]
    },
    {
      "cell_type": "code",
      "execution_count": null,
      "id": "75cc4626-84b2-4161-a816-40cd2aabd568",
      "metadata": {
        "id": "75cc4626-84b2-4161-a816-40cd2aabd568",
        "colab": {
          "base_uri": "https://localhost:8080/"
        },
        "outputId": "58fd66a5-6196-4f9e-d0b9-cac6fa273421"
      },
      "outputs": [
        {
          "output_type": "stream",
          "name": "stdout",
          "text": [
            "\n",
            "similarity = [0.03123975]\n",
            "page=0, title=Science fiction, text=Science fiction (sometimes shortened to sf or sci-fi) is a genre of speculative fiction, which typically deals with imaginative and futuristic concepts such as advanced science and technology, space exploration, time travel, parallel universes, and extraterrestrial life.\n",
            "page=1, title=Computer science, text=Computer science is the study of computation, automation, and information.\n",
            "\n",
            "similarity = [0.02027756]\n",
            "page=0, title=Science fiction, text=Science fiction (sometimes shortened to sf or sci-fi) is a genre of speculative fiction, which typically deals with imaginative and futuristic concepts such as advanced science and technology, space exploration, time travel, parallel universes, and extraterrestrial life.\n",
            "page=2, title=Bachelor of Science, text=A Bachelor of Science (BS, BSc, SB, or ScB; from the Latin scientiae baccalaureus) is a bachelor's degree awarded for programs that generally last three to five years.The first university to admit a student to the degree of Bachelor of Science was the University of London in 1860.\n",
            "\n",
            "similarity = [0.033237]\n",
            "page=0, title=Science fiction, text=Science fiction (sometimes shortened to sf or sci-fi) is a genre of speculative fiction, which typically deals with imaginative and futuristic concepts such as advanced science and technology, space exploration, time travel, parallel universes, and extraterrestrial life.\n",
            "page=3, title=Political science, text=Political science is the scientific study of politics.\n",
            "\n",
            "similarity = [0.05775468]\n",
            "page=0, title=Science fiction, text=Science fiction (sometimes shortened to sf or sci-fi) is a genre of speculative fiction, which typically deals with imaginative and futuristic concepts such as advanced science and technology, space exploration, time travel, parallel universes, and extraterrestrial life.\n",
            "page=4, title=Social science, text=Social science is one of the branches of science, devoted to the study of societies and the relationships among individuals within those societies.\n",
            "\n",
            "similarity = [0.0282077]\n",
            "page=1, title=Computer science, text=Computer science is the study of computation, automation, and information.\n",
            "page=2, title=Bachelor of Science, text=A Bachelor of Science (BS, BSc, SB, or ScB; from the Latin scientiae baccalaureus) is a bachelor's degree awarded for programs that generally last three to five years.The first university to admit a student to the degree of Bachelor of Science was the University of London in 1860.\n",
            "\n",
            "similarity = [0.22307304]\n",
            "page=1, title=Computer science, text=Computer science is the study of computation, automation, and information.\n",
            "page=3, title=Political science, text=Political science is the scientific study of politics.\n",
            "\n",
            "similarity = [0.23398349]\n",
            "page=1, title=Computer science, text=Computer science is the study of computation, automation, and information.\n",
            "page=4, title=Social science, text=Social science is one of the branches of science, devoted to the study of societies and the relationships among individuals within those societies.\n",
            "\n",
            "similarity = [0.03001111]\n",
            "page=2, title=Bachelor of Science, text=A Bachelor of Science (BS, BSc, SB, or ScB; from the Latin scientiae baccalaureus) is a bachelor's degree awarded for programs that generally last three to five years.The first university to admit a student to the degree of Bachelor of Science was the University of London in 1860.\n",
            "page=3, title=Political science, text=Political science is the scientific study of politics.\n",
            "\n",
            "similarity = [0.05214917]\n",
            "page=2, title=Bachelor of Science, text=A Bachelor of Science (BS, BSc, SB, or ScB; from the Latin scientiae baccalaureus) is a bachelor's degree awarded for programs that generally last three to five years.The first university to admit a student to the degree of Bachelor of Science was the University of London in 1860.\n",
            "page=4, title=Social science, text=Social science is one of the branches of science, devoted to the study of societies and the relationships among individuals within those societies.\n",
            "\n",
            "similarity = [0.24894275]\n",
            "page=3, title=Political science, text=Political science is the scientific study of politics.\n",
            "page=4, title=Social science, text=Social science is one of the branches of science, devoted to the study of societies and the relationships among individuals within those societies.\n"
          ]
        }
      ],
      "source": [
        "# Get page names and text separately\n",
        "page_names = list(documents.keys())\n",
        "text_original = list(documents.values())\n",
        "\n",
        "similarity = {}\n",
        "N = len(text_clean)\n",
        "for i in range(N):\n",
        "    for j in range(i+1,N):\n",
        "        s = cosine_similarity(X[i], X[j])\n",
        "        similarity[(i, j)] = s\n",
        "\n",
        "        if (i < 5) and (j < 5):\n",
        "            print()\n",
        "            print(f'similarity = {s[0]}')\n",
        "            print(f'page={i}, title={page_names[i]}, text={text_original[i]}')\n",
        "            print(f'page={j}, title={page_names[j]}, text={text_original[j]}')"
      ]
    },
    {
      "cell_type": "code",
      "execution_count": null,
      "id": "bfb06cdc-c82f-445c-b354-b73750d9b7ee",
      "metadata": {
        "id": "bfb06cdc-c82f-445c-b354-b73750d9b7ee"
      },
      "outputs": [],
      "source": [
        "'''\n",
        "\n",
        "Determine the top 5 wikipedia pages that are most similar to\n",
        "'Information science' based on the summary text.  Ignore\n",
        "pages with summaries that are identical to 'Science and technology'.\n",
        "What is the hi features for 'Science and technology' and the top 5\n",
        "matches have the highest TF-IDF values?\n",
        "'''\n",
        "target = 'Information science'"
      ]
    },
    {
      "cell_type": "code",
      "execution_count": null,
      "id": "4270b619-fa71-41ee-aff3-bdc53a4a2769",
      "metadata": {
        "id": "4270b619-fa71-41ee-aff3-bdc53a4a2769",
        "colab": {
          "base_uri": "https://localhost:8080/"
        },
        "outputId": "c748e296-316c-47a1-dd4e-93600a95d610"
      },
      "outputs": [
        {
          "output_type": "stream",
          "name": "stdout",
          "text": [
            "True\n"
          ]
        }
      ],
      "source": [
        "print(target in page_names)"
      ]
    },
    {
      "cell_type": "code",
      "source": [],
      "metadata": {
        "id": "oDk_6UYwK9lG"
      },
      "id": "oDk_6UYwK9lG",
      "execution_count": null,
      "outputs": []
    }
  ],
  "metadata": {
    "kernelspec": {
      "display_name": "Python 3 (ipykernel)",
      "language": "python",
      "name": "python3"
    },
    "language_info": {
      "codemirror_mode": {
        "name": "ipython",
        "version": 3
      },
      "file_extension": ".py",
      "mimetype": "text/x-python",
      "name": "python",
      "nbconvert_exporter": "python",
      "pygments_lexer": "ipython3",
      "version": "3.8.6"
    },
    "colab": {
      "provenance": [],
      "include_colab_link": true
    },
    "widgets": {
      "application/vnd.jupyter.widget-state+json": {
        "7adb9571de4f4decb888aebb7cf35174": {
          "model_module": "@jupyter-widgets/controls",
          "model_name": "HBoxModel",
          "model_module_version": "1.5.0",
          "state": {
            "_dom_classes": [],
            "_model_module": "@jupyter-widgets/controls",
            "_model_module_version": "1.5.0",
            "_model_name": "HBoxModel",
            "_view_count": null,
            "_view_module": "@jupyter-widgets/controls",
            "_view_module_version": "1.5.0",
            "_view_name": "HBoxView",
            "box_style": "",
            "children": [
              "IPY_MODEL_6ef30a2a83d147abac0454c4d1d15b29",
              "IPY_MODEL_4deadbfcdc8b4f2b96c827a9654b3e32",
              "IPY_MODEL_c632293bf43944ba9b7b41452eca61e7"
            ],
            "layout": "IPY_MODEL_eaed5944ef8d404d949b4cf64493fbfb"
          }
        },
        "6ef30a2a83d147abac0454c4d1d15b29": {
          "model_module": "@jupyter-widgets/controls",
          "model_name": "HTMLModel",
          "model_module_version": "1.5.0",
          "state": {
            "_dom_classes": [],
            "_model_module": "@jupyter-widgets/controls",
            "_model_module_version": "1.5.0",
            "_model_name": "HTMLModel",
            "_view_count": null,
            "_view_module": "@jupyter-widgets/controls",
            "_view_module_version": "1.5.0",
            "_view_name": "HTMLView",
            "description": "",
            "description_tooltip": null,
            "layout": "IPY_MODEL_51c71f05e2ca4690b712f5996f6b94d1",
            "placeholder": "​",
            "style": "IPY_MODEL_5ae01a544ae343e5bd19cbbb1f18040f",
            "value": "fetching docs: "
          }
        },
        "4deadbfcdc8b4f2b96c827a9654b3e32": {
          "model_module": "@jupyter-widgets/controls",
          "model_name": "FloatProgressModel",
          "model_module_version": "1.5.0",
          "state": {
            "_dom_classes": [],
            "_model_module": "@jupyter-widgets/controls",
            "_model_module_version": "1.5.0",
            "_model_name": "FloatProgressModel",
            "_view_count": null,
            "_view_module": "@jupyter-widgets/controls",
            "_view_module_version": "1.5.0",
            "_view_name": "ProgressView",
            "bar_style": "success",
            "description": "",
            "description_tooltip": null,
            "layout": "IPY_MODEL_4590ff22afbd4aba919dcc3ca4a289ea",
            "max": 1,
            "min": 0,
            "orientation": "horizontal",
            "style": "IPY_MODEL_ebd22a8cf2454d73bd6cea68cc8a25b7",
            "value": 1
          }
        },
        "c632293bf43944ba9b7b41452eca61e7": {
          "model_module": "@jupyter-widgets/controls",
          "model_name": "HTMLModel",
          "model_module_version": "1.5.0",
          "state": {
            "_dom_classes": [],
            "_model_module": "@jupyter-widgets/controls",
            "_model_module_version": "1.5.0",
            "_model_name": "HTMLModel",
            "_view_count": null,
            "_view_module": "@jupyter-widgets/controls",
            "_view_module_version": "1.5.0",
            "_view_name": "HTMLView",
            "description": "",
            "description_tooltip": null,
            "layout": "IPY_MODEL_d849a25c9ac34106b833db8a59582caf",
            "placeholder": "​",
            "style": "IPY_MODEL_46837b2312a444e89ffe2f4ee5d90965",
            "value": " 100/? [00:56&lt;00:00,  1.70it/s]"
          }
        },
        "eaed5944ef8d404d949b4cf64493fbfb": {
          "model_module": "@jupyter-widgets/base",
          "model_name": "LayoutModel",
          "model_module_version": "1.2.0",
          "state": {
            "_model_module": "@jupyter-widgets/base",
            "_model_module_version": "1.2.0",
            "_model_name": "LayoutModel",
            "_view_count": null,
            "_view_module": "@jupyter-widgets/base",
            "_view_module_version": "1.2.0",
            "_view_name": "LayoutView",
            "align_content": null,
            "align_items": null,
            "align_self": null,
            "border": null,
            "bottom": null,
            "display": null,
            "flex": null,
            "flex_flow": null,
            "grid_area": null,
            "grid_auto_columns": null,
            "grid_auto_flow": null,
            "grid_auto_rows": null,
            "grid_column": null,
            "grid_gap": null,
            "grid_row": null,
            "grid_template_areas": null,
            "grid_template_columns": null,
            "grid_template_rows": null,
            "height": null,
            "justify_content": null,
            "justify_items": null,
            "left": null,
            "margin": null,
            "max_height": null,
            "max_width": null,
            "min_height": null,
            "min_width": null,
            "object_fit": null,
            "object_position": null,
            "order": null,
            "overflow": null,
            "overflow_x": null,
            "overflow_y": null,
            "padding": null,
            "right": null,
            "top": null,
            "visibility": null,
            "width": null
          }
        },
        "51c71f05e2ca4690b712f5996f6b94d1": {
          "model_module": "@jupyter-widgets/base",
          "model_name": "LayoutModel",
          "model_module_version": "1.2.0",
          "state": {
            "_model_module": "@jupyter-widgets/base",
            "_model_module_version": "1.2.0",
            "_model_name": "LayoutModel",
            "_view_count": null,
            "_view_module": "@jupyter-widgets/base",
            "_view_module_version": "1.2.0",
            "_view_name": "LayoutView",
            "align_content": null,
            "align_items": null,
            "align_self": null,
            "border": null,
            "bottom": null,
            "display": null,
            "flex": null,
            "flex_flow": null,
            "grid_area": null,
            "grid_auto_columns": null,
            "grid_auto_flow": null,
            "grid_auto_rows": null,
            "grid_column": null,
            "grid_gap": null,
            "grid_row": null,
            "grid_template_areas": null,
            "grid_template_columns": null,
            "grid_template_rows": null,
            "height": null,
            "justify_content": null,
            "justify_items": null,
            "left": null,
            "margin": null,
            "max_height": null,
            "max_width": null,
            "min_height": null,
            "min_width": null,
            "object_fit": null,
            "object_position": null,
            "order": null,
            "overflow": null,
            "overflow_x": null,
            "overflow_y": null,
            "padding": null,
            "right": null,
            "top": null,
            "visibility": null,
            "width": null
          }
        },
        "5ae01a544ae343e5bd19cbbb1f18040f": {
          "model_module": "@jupyter-widgets/controls",
          "model_name": "DescriptionStyleModel",
          "model_module_version": "1.5.0",
          "state": {
            "_model_module": "@jupyter-widgets/controls",
            "_model_module_version": "1.5.0",
            "_model_name": "DescriptionStyleModel",
            "_view_count": null,
            "_view_module": "@jupyter-widgets/base",
            "_view_module_version": "1.2.0",
            "_view_name": "StyleView",
            "description_width": ""
          }
        },
        "4590ff22afbd4aba919dcc3ca4a289ea": {
          "model_module": "@jupyter-widgets/base",
          "model_name": "LayoutModel",
          "model_module_version": "1.2.0",
          "state": {
            "_model_module": "@jupyter-widgets/base",
            "_model_module_version": "1.2.0",
            "_model_name": "LayoutModel",
            "_view_count": null,
            "_view_module": "@jupyter-widgets/base",
            "_view_module_version": "1.2.0",
            "_view_name": "LayoutView",
            "align_content": null,
            "align_items": null,
            "align_self": null,
            "border": null,
            "bottom": null,
            "display": null,
            "flex": null,
            "flex_flow": null,
            "grid_area": null,
            "grid_auto_columns": null,
            "grid_auto_flow": null,
            "grid_auto_rows": null,
            "grid_column": null,
            "grid_gap": null,
            "grid_row": null,
            "grid_template_areas": null,
            "grid_template_columns": null,
            "grid_template_rows": null,
            "height": null,
            "justify_content": null,
            "justify_items": null,
            "left": null,
            "margin": null,
            "max_height": null,
            "max_width": null,
            "min_height": null,
            "min_width": null,
            "object_fit": null,
            "object_position": null,
            "order": null,
            "overflow": null,
            "overflow_x": null,
            "overflow_y": null,
            "padding": null,
            "right": null,
            "top": null,
            "visibility": null,
            "width": "20px"
          }
        },
        "ebd22a8cf2454d73bd6cea68cc8a25b7": {
          "model_module": "@jupyter-widgets/controls",
          "model_name": "ProgressStyleModel",
          "model_module_version": "1.5.0",
          "state": {
            "_model_module": "@jupyter-widgets/controls",
            "_model_module_version": "1.5.0",
            "_model_name": "ProgressStyleModel",
            "_view_count": null,
            "_view_module": "@jupyter-widgets/base",
            "_view_module_version": "1.2.0",
            "_view_name": "StyleView",
            "bar_color": null,
            "description_width": ""
          }
        },
        "d849a25c9ac34106b833db8a59582caf": {
          "model_module": "@jupyter-widgets/base",
          "model_name": "LayoutModel",
          "model_module_version": "1.2.0",
          "state": {
            "_model_module": "@jupyter-widgets/base",
            "_model_module_version": "1.2.0",
            "_model_name": "LayoutModel",
            "_view_count": null,
            "_view_module": "@jupyter-widgets/base",
            "_view_module_version": "1.2.0",
            "_view_name": "LayoutView",
            "align_content": null,
            "align_items": null,
            "align_self": null,
            "border": null,
            "bottom": null,
            "display": null,
            "flex": null,
            "flex_flow": null,
            "grid_area": null,
            "grid_auto_columns": null,
            "grid_auto_flow": null,
            "grid_auto_rows": null,
            "grid_column": null,
            "grid_gap": null,
            "grid_row": null,
            "grid_template_areas": null,
            "grid_template_columns": null,
            "grid_template_rows": null,
            "height": null,
            "justify_content": null,
            "justify_items": null,
            "left": null,
            "margin": null,
            "max_height": null,
            "max_width": null,
            "min_height": null,
            "min_width": null,
            "object_fit": null,
            "object_position": null,
            "order": null,
            "overflow": null,
            "overflow_x": null,
            "overflow_y": null,
            "padding": null,
            "right": null,
            "top": null,
            "visibility": null,
            "width": null
          }
        },
        "46837b2312a444e89ffe2f4ee5d90965": {
          "model_module": "@jupyter-widgets/controls",
          "model_name": "DescriptionStyleModel",
          "model_module_version": "1.5.0",
          "state": {
            "_model_module": "@jupyter-widgets/controls",
            "_model_module_version": "1.5.0",
            "_model_name": "DescriptionStyleModel",
            "_view_count": null,
            "_view_module": "@jupyter-widgets/base",
            "_view_module_version": "1.2.0",
            "_view_name": "StyleView",
            "description_width": ""
          }
        }
      }
    }
  },
  "nbformat": 4,
  "nbformat_minor": 5
}