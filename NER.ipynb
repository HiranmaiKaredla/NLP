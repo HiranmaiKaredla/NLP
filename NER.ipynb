{
  "nbformat": 4,
  "nbformat_minor": 0,
  "metadata": {
    "colab": {
      "provenance": [],
      "include_colab_link": true
    },
    "kernelspec": {
      "name": "python3",
      "display_name": "Python 3"
    },
    "language_info": {
      "name": "python"
    }
  },
  "cells": [
    {
      "cell_type": "markdown",
      "metadata": {
        "id": "view-in-github",
        "colab_type": "text"
      },
      "source": [
        "<a href=\"https://colab.research.google.com/github/HiranmaiKaredla/NLP/blob/main/NER.ipynb\" target=\"_parent\"><img src=\"https://colab.research.google.com/assets/colab-badge.svg\" alt=\"Open In Colab\"/></a>"
      ]
    },
    {
      "cell_type": "code",
      "execution_count": null,
      "metadata": {
        "id": "YWRIeMsxMW58",
        "colab": {
          "base_uri": "https://localhost:8080/"
        },
        "outputId": "a4ad07d7-cf97-4b8b-f8a0-919edc5f2e97"
      },
      "outputs": [
        {
          "output_type": "stream",
          "name": "stderr",
          "text": [
            "/usr/local/lib/python3.9/dist-packages/torch/cuda/__init__.py:497: UserWarning: Can't initialize NVML\n",
            "  warnings.warn(\"Can't initialize NVML\")\n"
          ]
        }
      ],
      "source": [
        "import spacy\n",
        "# Use the command to install the SpaCy:\n",
        "# > pip install -U spacy\n",
        "import pandas as pd\n",
        "pd.set_option('display.max_rows', 500)\n",
        "pd.set_option('display.max_columns', 500)\n",
        "pd.set_option('display.width', 1000)"
      ]
    },
    {
      "cell_type": "code",
      "source": [],
      "metadata": {
        "id": "E5nAcB-irMFD"
      },
      "execution_count": null,
      "outputs": []
    },
    {
      "cell_type": "code",
      "source": [
        "## Use the command to download the SpaCy English model:\n",
        "!python -m spacy download en_core_web_sm"
      ],
      "metadata": {
        "id": "natooJgYMfZk",
        "colab": {
          "base_uri": "https://localhost:8080/"
        },
        "outputId": "4b650d82-0bf8-49bc-9f63-ca897aae47e4"
      },
      "execution_count": null,
      "outputs": [
        {
          "output_type": "stream",
          "name": "stdout",
          "text": [
            "/usr/local/lib/python3.9/dist-packages/torch/cuda/__init__.py:497: UserWarning: Can't initialize NVML\n",
            "  warnings.warn(\"Can't initialize NVML\")\n",
            "2023-03-21 21:46:35.196653: W tensorflow/compiler/xla/stream_executor/platform/default/dso_loader.cc:64] Could not load dynamic library 'libnvinfer.so.7'; dlerror: libnvinfer.so.7: cannot open shared object file: No such file or directory; LD_LIBRARY_PATH: /usr/local/nvidia/lib:/usr/local/nvidia/lib64\n",
            "2023-03-21 21:46:35.196826: W tensorflow/compiler/xla/stream_executor/platform/default/dso_loader.cc:64] Could not load dynamic library 'libnvinfer_plugin.so.7'; dlerror: libnvinfer_plugin.so.7: cannot open shared object file: No such file or directory; LD_LIBRARY_PATH: /usr/local/nvidia/lib:/usr/local/nvidia/lib64\n",
            "2023-03-21 21:46:35.196861: W tensorflow/compiler/tf2tensorrt/utils/py_utils.cc:38] TF-TRT Warning: Cannot dlopen some TensorRT libraries. If you would like to use Nvidia GPU with TensorRT, please make sure the missing libraries mentioned above are installed properly.\n",
            "2023-03-21 21:46:39.822082: E tensorflow/compiler/xla/stream_executor/cuda/cuda_driver.cc:267] failed call to cuInit: CUDA_ERROR_NO_DEVICE: no CUDA-capable device is detected\n",
            "Looking in indexes: https://pypi.org/simple, https://us-python.pkg.dev/colab-wheels/public/simple/\n",
            "Collecting en-core-web-sm==3.5.0\n",
            "  Downloading https://github.com/explosion/spacy-models/releases/download/en_core_web_sm-3.5.0/en_core_web_sm-3.5.0-py3-none-any.whl (12.8 MB)\n",
            "\u001b[2K     \u001b[90m━━━━━━━━━━━━━━━━━━━━━━━━━━━━━━━━━━━━━━━━\u001b[0m \u001b[32m12.8/12.8 MB\u001b[0m \u001b[31m32.2 MB/s\u001b[0m eta \u001b[36m0:00:00\u001b[0m\n",
            "\u001b[?25hRequirement already satisfied: spacy<3.6.0,>=3.5.0 in /usr/local/lib/python3.9/dist-packages (from en-core-web-sm==3.5.0) (3.5.1)\n",
            "Requirement already satisfied: numpy>=1.15.0 in /usr/local/lib/python3.9/dist-packages (from spacy<3.6.0,>=3.5.0->en-core-web-sm==3.5.0) (1.22.4)\n",
            "Requirement already satisfied: langcodes<4.0.0,>=3.2.0 in /usr/local/lib/python3.9/dist-packages (from spacy<3.6.0,>=3.5.0->en-core-web-sm==3.5.0) (3.3.0)\n",
            "Requirement already satisfied: jinja2 in /usr/local/lib/python3.9/dist-packages (from spacy<3.6.0,>=3.5.0->en-core-web-sm==3.5.0) (3.1.2)\n",
            "Requirement already satisfied: spacy-loggers<2.0.0,>=1.0.0 in /usr/local/lib/python3.9/dist-packages (from spacy<3.6.0,>=3.5.0->en-core-web-sm==3.5.0) (1.0.4)\n",
            "Requirement already satisfied: packaging>=20.0 in /usr/local/lib/python3.9/dist-packages (from spacy<3.6.0,>=3.5.0->en-core-web-sm==3.5.0) (23.0)\n",
            "Requirement already satisfied: smart-open<7.0.0,>=5.2.1 in /usr/local/lib/python3.9/dist-packages (from spacy<3.6.0,>=3.5.0->en-core-web-sm==3.5.0) (6.3.0)\n",
            "Requirement already satisfied: thinc<8.2.0,>=8.1.8 in /usr/local/lib/python3.9/dist-packages (from spacy<3.6.0,>=3.5.0->en-core-web-sm==3.5.0) (8.1.9)\n",
            "Requirement already satisfied: srsly<3.0.0,>=2.4.3 in /usr/local/lib/python3.9/dist-packages (from spacy<3.6.0,>=3.5.0->en-core-web-sm==3.5.0) (2.4.6)\n",
            "Requirement already satisfied: cymem<2.1.0,>=2.0.2 in /usr/local/lib/python3.9/dist-packages (from spacy<3.6.0,>=3.5.0->en-core-web-sm==3.5.0) (2.0.7)\n",
            "Requirement already satisfied: spacy-legacy<3.1.0,>=3.0.11 in /usr/local/lib/python3.9/dist-packages (from spacy<3.6.0,>=3.5.0->en-core-web-sm==3.5.0) (3.0.12)\n",
            "Requirement already satisfied: tqdm<5.0.0,>=4.38.0 in /usr/local/lib/python3.9/dist-packages (from spacy<3.6.0,>=3.5.0->en-core-web-sm==3.5.0) (4.65.0)\n",
            "Requirement already satisfied: wasabi<1.2.0,>=0.9.1 in /usr/local/lib/python3.9/dist-packages (from spacy<3.6.0,>=3.5.0->en-core-web-sm==3.5.0) (1.1.1)\n",
            "Requirement already satisfied: pathy>=0.10.0 in /usr/local/lib/python3.9/dist-packages (from spacy<3.6.0,>=3.5.0->en-core-web-sm==3.5.0) (0.10.1)\n",
            "Requirement already satisfied: setuptools in /usr/local/lib/python3.9/dist-packages (from spacy<3.6.0,>=3.5.0->en-core-web-sm==3.5.0) (63.4.3)\n",
            "Requirement already satisfied: catalogue<2.1.0,>=2.0.6 in /usr/local/lib/python3.9/dist-packages (from spacy<3.6.0,>=3.5.0->en-core-web-sm==3.5.0) (2.0.8)\n",
            "Requirement already satisfied: murmurhash<1.1.0,>=0.28.0 in /usr/local/lib/python3.9/dist-packages (from spacy<3.6.0,>=3.5.0->en-core-web-sm==3.5.0) (1.0.9)\n",
            "Requirement already satisfied: pydantic!=1.8,!=1.8.1,<1.11.0,>=1.7.4 in /usr/local/lib/python3.9/dist-packages (from spacy<3.6.0,>=3.5.0->en-core-web-sm==3.5.0) (1.10.6)\n",
            "Requirement already satisfied: preshed<3.1.0,>=3.0.2 in /usr/local/lib/python3.9/dist-packages (from spacy<3.6.0,>=3.5.0->en-core-web-sm==3.5.0) (3.0.8)\n",
            "Requirement already satisfied: typer<0.8.0,>=0.3.0 in /usr/local/lib/python3.9/dist-packages (from spacy<3.6.0,>=3.5.0->en-core-web-sm==3.5.0) (0.7.0)\n",
            "Requirement already satisfied: requests<3.0.0,>=2.13.0 in /usr/local/lib/python3.9/dist-packages (from spacy<3.6.0,>=3.5.0->en-core-web-sm==3.5.0) (2.27.1)\n",
            "Requirement already satisfied: typing-extensions>=4.2.0 in /usr/local/lib/python3.9/dist-packages (from pydantic!=1.8,!=1.8.1,<1.11.0,>=1.7.4->spacy<3.6.0,>=3.5.0->en-core-web-sm==3.5.0) (4.5.0)\n",
            "Requirement already satisfied: charset-normalizer~=2.0.0 in /usr/local/lib/python3.9/dist-packages (from requests<3.0.0,>=2.13.0->spacy<3.6.0,>=3.5.0->en-core-web-sm==3.5.0) (2.0.12)\n",
            "Requirement already satisfied: urllib3<1.27,>=1.21.1 in /usr/local/lib/python3.9/dist-packages (from requests<3.0.0,>=2.13.0->spacy<3.6.0,>=3.5.0->en-core-web-sm==3.5.0) (1.26.15)\n",
            "Requirement already satisfied: idna<4,>=2.5 in /usr/local/lib/python3.9/dist-packages (from requests<3.0.0,>=2.13.0->spacy<3.6.0,>=3.5.0->en-core-web-sm==3.5.0) (3.4)\n",
            "Requirement already satisfied: certifi>=2017.4.17 in /usr/local/lib/python3.9/dist-packages (from requests<3.0.0,>=2.13.0->spacy<3.6.0,>=3.5.0->en-core-web-sm==3.5.0) (2022.12.7)\n",
            "Requirement already satisfied: confection<1.0.0,>=0.0.1 in /usr/local/lib/python3.9/dist-packages (from thinc<8.2.0,>=8.1.8->spacy<3.6.0,>=3.5.0->en-core-web-sm==3.5.0) (0.0.4)\n",
            "Requirement already satisfied: blis<0.8.0,>=0.7.8 in /usr/local/lib/python3.9/dist-packages (from thinc<8.2.0,>=8.1.8->spacy<3.6.0,>=3.5.0->en-core-web-sm==3.5.0) (0.7.9)\n",
            "Requirement already satisfied: click<9.0.0,>=7.1.1 in /usr/local/lib/python3.9/dist-packages (from typer<0.8.0,>=0.3.0->spacy<3.6.0,>=3.5.0->en-core-web-sm==3.5.0) (8.1.3)\n",
            "Requirement already satisfied: MarkupSafe>=2.0 in /usr/local/lib/python3.9/dist-packages (from jinja2->spacy<3.6.0,>=3.5.0->en-core-web-sm==3.5.0) (2.1.2)\n",
            "\u001b[38;5;2m✔ Download and installation successful\u001b[0m\n",
            "You can now load the package via spacy.load('en_core_web_sm')\n"
          ]
        }
      ]
    },
    {
      "cell_type": "code",
      "source": [
        "# Import SpaCy English model\n",
        "import en_core_web_sm\n",
        "from spacy import displacy\n",
        "from collections import Counter\n",
        "from pprint import pprint"
      ],
      "metadata": {
        "id": "sA9j2Z_EMlM1"
      },
      "execution_count": null,
      "outputs": []
    },
    {
      "cell_type": "code",
      "source": [
        "# Load English tokenizer, tagger, parser, NER and word vectors\n",
        "nlp = en_core_web_sm.load()"
      ],
      "metadata": {
        "id": "36lpHxvFMp0y"
      },
      "execution_count": null,
      "outputs": []
    },
    {
      "cell_type": "code",
      "source": [
        "# transform the text to spacy doc format\n",
        "sentence = 'Albert Einstein was born in Germany'\n"
      ],
      "metadata": {
        "id": "uOS9Vl34M0gj"
      },
      "execution_count": null,
      "outputs": []
    },
    {
      "cell_type": "code",
      "source": [
        "print('Original sentence:')\n",
        "print(sentence)\n",
        "spacy_obj= nlp(sentence)"
      ],
      "metadata": {
        "id": "zTvk_RpRNwiF",
        "colab": {
          "base_uri": "https://localhost:8080/"
        },
        "outputId": "412ee7c1-3bea-4ed4-efe1-e95eecc9f139"
      },
      "execution_count": null,
      "outputs": [
        {
          "output_type": "stream",
          "name": "stdout",
          "text": [
            "Original sentence:\n",
            "Albert Einstein was born in Germany\n"
          ]
        }
      ]
    },
    {
      "cell_type": "code",
      "source": [
        "print('Token-labels:')\n",
        "for x in spacy_obj:\n",
        "  print(dict(text=x, prefix=x.ent_iob_, entity_type=x.ent_type_))"
      ],
      "metadata": {
        "id": "K_uyPUDIQ35G",
        "colab": {
          "base_uri": "https://localhost:8080/"
        },
        "outputId": "975e2658-dee4-4d6e-8449-45cae9aa89be"
      },
      "execution_count": null,
      "outputs": [
        {
          "output_type": "stream",
          "name": "stdout",
          "text": [
            "Token-labels:\n",
            "{'text': Albert, 'prefix': 'B', 'entity_type': 'PERSON'}\n",
            "{'text': Einstein, 'prefix': 'I', 'entity_type': 'PERSON'}\n",
            "{'text': was, 'prefix': 'O', 'entity_type': ''}\n",
            "{'text': born, 'prefix': 'O', 'entity_type': ''}\n",
            "{'text': in, 'prefix': 'O', 'entity_type': ''}\n",
            "{'text': Germany, 'prefix': 'B', 'entity_type': 'GPE'}\n"
          ]
        }
      ]
    },
    {
      "cell_type": "code",
      "source": [
        "print('Entitites:')\n",
        "for x in spacy_obj.ents:\n",
        "  print(dict(text=x.text, label=x.label_, start_char=x.start_char, end_char=x.start_char+len(x.text)))\n"
      ],
      "metadata": {
        "id": "KMbEvyiEQ7fM",
        "colab": {
          "base_uri": "https://localhost:8080/"
        },
        "outputId": "2112b151-0159-43a7-acad-dbf6ab4ed943"
      },
      "execution_count": null,
      "outputs": [
        {
          "output_type": "stream",
          "name": "stdout",
          "text": [
            "Entitites:\n",
            "{'text': 'Albert Einstein', 'label': 'PERSON', 'start_char': 0, 'end_char': 15}\n",
            "{'text': 'Germany', 'label': 'GPE', 'start_char': 28, 'end_char': 35}\n"
          ]
        }
      ]
    },
    {
      "cell_type": "code",
      "source": [
        "print('Entity counts:')\n",
        "# Count every named entity\n",
        "labels = [x.label_ for x in spacy_obj.ents]\n",
        "from collections import Counter\n",
        "counts = Counter(labels)\n",
        "print(counts)\n"
      ],
      "metadata": {
        "id": "FvEobU3JQ9ec",
        "colab": {
          "base_uri": "https://localhost:8080/"
        },
        "outputId": "a60479fb-6114-4c70-b172-7114c937a9f8"
      },
      "execution_count": null,
      "outputs": [
        {
          "output_type": "stream",
          "name": "stdout",
          "text": [
            "Entity counts:\n",
            "Counter({'PERSON': 1, 'GPE': 1})\n"
          ]
        }
      ]
    },
    {
      "cell_type": "code",
      "source": [
        "print('Get detailed info:')\n",
        "# Get more detailed infor for named entities and descriptions for corresponding labels\n",
        "for ent in spacy_obj.ents:\n",
        "  print(ent.text, ent.start_char, ent.end_char, \\\n",
        "        ent.label_, spacy.explain(ent.label_))\n"
      ],
      "metadata": {
        "id": "xlX9FRtgQ-81",
        "colab": {
          "base_uri": "https://localhost:8080/"
        },
        "outputId": "b841625f-80ef-4505-b5a5-aaaebeb8fbc6"
      },
      "execution_count": null,
      "outputs": [
        {
          "output_type": "stream",
          "name": "stdout",
          "text": [
            "Get detailed info:\n",
            "Albert Einstein 0 15 PERSON People, including fictional\n",
            "Germany 28 35 GPE Countries, cities, states\n"
          ]
        }
      ]
    },
    {
      "cell_type": "code",
      "source": [
        "# Visualize Entities\n",
        "displacy.render(spacy_obj, jupyter=True, style='ent')"
      ],
      "metadata": {
        "id": "Fd13XCv7OdV7",
        "colab": {
          "base_uri": "https://localhost:8080/",
          "height": 52
        },
        "outputId": "125d78ca-a591-4afe-83bb-0b3dfa059bd3"
      },
      "execution_count": null,
      "outputs": [
        {
          "output_type": "display_data",
          "data": {
            "text/plain": [
              "<IPython.core.display.HTML object>"
            ],
            "text/html": [
              "<span class=\"tex2jax_ignore\"><div class=\"entities\" style=\"line-height: 2.5; direction: ltr\">\n",
              "<mark class=\"entity\" style=\"background: #aa9cfc; padding: 0.45em 0.6em; margin: 0 0.25em; line-height: 1; border-radius: 0.35em;\">\n",
              "    Albert Einstein\n",
              "    <span style=\"font-size: 0.8em; font-weight: bold; line-height: 1; border-radius: 0.35em; vertical-align: middle; margin-left: 0.5rem\">PERSON</span>\n",
              "</mark>\n",
              " was born in \n",
              "<mark class=\"entity\" style=\"background: #feca74; padding: 0.45em 0.6em; margin: 0 0.25em; line-height: 1; border-radius: 0.35em;\">\n",
              "    Germany\n",
              "    <span style=\"font-size: 0.8em; font-weight: bold; line-height: 1; border-radius: 0.35em; vertical-align: middle; margin-left: 0.5rem\">GPE</span>\n",
              "</mark>\n",
              "</div></span>"
            ]
          },
          "metadata": {}
        }
      ]
    },
    {
      "cell_type": "code",
      "source": [
        "''' Task\n",
        "Replace all identified named entities with the assigned tag in square brackets.\n",
        "\n",
        "For example:\n",
        "  Albert Einstein was born in Germany -->\n",
        "  [PERSON] was born in [GPE].\n",
        "\n",
        "Tips: The most correct way to de-identify the text is to use the character\n",
        "indices output by Spacy to locate the named entities, as opposed to doing a\n",
        "global search and replace based on the entity strings. Before starting,\n",
        "formulate a plan. Is it better to start at the beginning of the document or at\n",
        "the end?\n",
        "\n",
        "'''\n",
        "\n",
        "# https://www.nobelprize.org/prizes/physics/1903/marie-curie/biographical/\n",
        "text = '''\n",
        "Marie Curie, née Maria Sklodowska, was born in Warsaw on November 7, 1867, the daughter of a secondary-school teacher.\n",
        "She received a general education in local schools and some scientific training from her father.\n",
        "She became involved in a students’ revolutionary organization and found it prudent to leave Warsaw, then in the part of Poland dominated by Russia, for Cracow, which at that time was under Austrian rule.\n",
        "In 1891, she went to Paris to continue her studies at the Sorbonne where she obtained Licenciateships in Physics and the Mathematical Sciences.\n",
        "She met Pierre Curie, Professor in the School of Physics in 1894 and in the following year they were married.\n",
        "She succeeded her husband as Head of the Physics Laboratory at the Sorbonne, gained her Doctor of Science degree in 1903, and following the tragic death of Pierre Curie in 1906, she took his place as Professor of General Physics in the Faculty of Sciences, the first time a woman had held this position.\n",
        "She was also appointed Director of the Curie Laboratory in the Radium Institute of the University of Paris, founded in 1914.\n",
        "'''\n",
        "print(text)\n",
        "\n",
        "\n"
      ],
      "metadata": {
        "id": "Ag1AmOwjYuLa",
        "colab": {
          "base_uri": "https://localhost:8080/"
        },
        "outputId": "0b95b8cc-b168-452f-a13d-118df439d4af"
      },
      "execution_count": null,
      "outputs": [
        {
          "output_type": "stream",
          "name": "stdout",
          "text": [
            "\n",
            "Marie Curie, née Maria Sklodowska, was born in Warsaw on November 7, 1867, the daughter of a secondary-school teacher. \n",
            "She received a general education in local schools and some scientific training from her father. \n",
            "She became involved in a students’ revolutionary organization and found it prudent to leave Warsaw, then in the part of Poland dominated by Russia, for Cracow, which at that time was under Austrian rule. \n",
            "In 1891, she went to Paris to continue her studies at the Sorbonne where she obtained Licenciateships in Physics and the Mathematical Sciences. \n",
            "She met Pierre Curie, Professor in the School of Physics in 1894 and in the following year they were married. \n",
            "She succeeded her husband as Head of the Physics Laboratory at the Sorbonne, gained her Doctor of Science degree in 1903, and following the tragic death of Pierre Curie in 1906, she took his place as Professor of General Physics in the Faculty of Sciences, the first time a woman had held this position. \n",
            "She was also appointed Director of the Curie Laboratory in the Radium Institute of the University of Paris, founded in 1914.\n",
            "\n"
          ]
        }
      ]
    },
    {
      "cell_type": "code",
      "source": [
        "# Create entity tagger function\n",
        "nlp = en_core_web_sm.load()\n",
        "def tagger(sentence, nlp=nlp):\n",
        "\n",
        "  print('')\n",
        "  print('Original sentence')\n",
        "  print(sentence)\n",
        "\n",
        "  spacy_obj= nlp(sentence)\n",
        "  entities = list(spacy_obj.ents)\n",
        "\n",
        "  #print('Entitites:')\n",
        "  rows = []\n",
        "  for x in entities:\n",
        "    rows.append(dict(text=x.text, label=x.label_, start_char=x.start_char, end_char=x.start_char+len(x.text)))\n",
        "\n",
        "  df = pd.DataFrame(rows)\n",
        "  print(df)\n",
        "\n",
        "  # Visualize Entities\n",
        "  displacy.render(spacy_obj, jupyter=True, style='ent')\n",
        "\n",
        "  return entities"
      ],
      "metadata": {
        "id": "3q7jqB0Wqfie"
      },
      "execution_count": null,
      "outputs": []
    },
    {
      "cell_type": "code",
      "source": [
        "# Get all entites in document\n",
        "entities = tagger(text)"
      ],
      "metadata": {
        "id": "_kwhWEEFqmp6",
        "colab": {
          "base_uri": "https://localhost:8080/",
          "height": 1000
        },
        "outputId": "99801f91-ef5d-4e89-95f5-e1e7ad4df84e"
      },
      "execution_count": null,
      "outputs": [
        {
          "output_type": "stream",
          "name": "stdout",
          "text": [
            "\n",
            "Original sentence\n",
            "\n",
            "Marie Curie, née Maria Sklodowska, was born in Warsaw on November 7, 1867, the daughter of a secondary-school teacher. \n",
            "She received a general education in local schools and some scientific training from her father. \n",
            "She became involved in a students’ revolutionary organization and found it prudent to leave Warsaw, then in the part of Poland dominated by Russia, for Cracow, which at that time was under Austrian rule. \n",
            "In 1891, she went to Paris to continue her studies at the Sorbonne where she obtained Licenciateships in Physics and the Mathematical Sciences. \n",
            "She met Pierre Curie, Professor in the School of Physics in 1894 and in the following year they were married. \n",
            "She succeeded her husband as Head of the Physics Laboratory at the Sorbonne, gained her Doctor of Science degree in 1903, and following the tragic death of Pierre Curie in 1906, she took his place as Professor of General Physics in the Faculty of Sciences, the first time a woman had held this position. \n",
            "She was also appointed Director of the Curie Laboratory in the Radium Institute of the University of Paris, founded in 1914.\n",
            "\n",
            "                                               text    label  start_char  end_char\n",
            "0                                       Marie Curie   PERSON           1        12\n",
            "1                                  Maria Sklodowska   PERSON          18        34\n",
            "2                                            Warsaw      GPE          48        54\n",
            "3                                  November 7, 1867     DATE          58        74\n",
            "4                                            Warsaw      GPE         310       316\n",
            "5                                            Poland      GPE         338       344\n",
            "6                                            Russia      GPE         358       364\n",
            "7                                            Cracow      GPE         370       376\n",
            "8                                          Austrian     NORP         407       415\n",
            "9                                              1891     DATE         426       430\n",
            "10                                            Paris      GPE         444       449\n",
            "11                                         Sorbonne  PRODUCT         481       489\n",
            "12                       Licenciateships in Physics      ORG         509       535\n",
            "13                        the Mathematical Sciences      ORG         540       565\n",
            "14                                     Pierre Curie   PERSON         576       588\n",
            "15                            the School of Physics      ORG         603       624\n",
            "16                                             1894     DATE         628       632\n",
            "17                               the following year     DATE         640       658\n",
            "18                           the Physics Laboratory      ORG         716       738\n",
            "19                                         Sorbonne  PRODUCT         746       754\n",
            "20                                             1903     DATE         795       799\n",
            "21                                     Pierre Curie   PERSON         835       847\n",
            "22                                             1906     DATE         851       855\n",
            "23                                  General Physics      ORG         892       907\n",
            "24                          the Faculty of Sciences      ORG         911       934\n",
            "25                                            first  ORDINAL         940       945\n",
            "26                             the Curie Laboratory      ORG        1019      1039\n",
            "27  the Radium Institute of the University of Paris      ORG        1043      1090\n",
            "28                                             1914     DATE        1103      1107\n"
          ]
        },
        {
          "output_type": "display_data",
          "data": {
            "text/plain": [
              "<IPython.core.display.HTML object>"
            ],
            "text/html": [
              "<span class=\"tex2jax_ignore\"><div class=\"entities\" style=\"line-height: 2.5; direction: ltr\"></br>\n",
              "<mark class=\"entity\" style=\"background: #aa9cfc; padding: 0.45em 0.6em; margin: 0 0.25em; line-height: 1; border-radius: 0.35em;\">\n",
              "    Marie Curie\n",
              "    <span style=\"font-size: 0.8em; font-weight: bold; line-height: 1; border-radius: 0.35em; vertical-align: middle; margin-left: 0.5rem\">PERSON</span>\n",
              "</mark>\n",
              ", née \n",
              "<mark class=\"entity\" style=\"background: #aa9cfc; padding: 0.45em 0.6em; margin: 0 0.25em; line-height: 1; border-radius: 0.35em;\">\n",
              "    Maria Sklodowska\n",
              "    <span style=\"font-size: 0.8em; font-weight: bold; line-height: 1; border-radius: 0.35em; vertical-align: middle; margin-left: 0.5rem\">PERSON</span>\n",
              "</mark>\n",
              ", was born in \n",
              "<mark class=\"entity\" style=\"background: #feca74; padding: 0.45em 0.6em; margin: 0 0.25em; line-height: 1; border-radius: 0.35em;\">\n",
              "    Warsaw\n",
              "    <span style=\"font-size: 0.8em; font-weight: bold; line-height: 1; border-radius: 0.35em; vertical-align: middle; margin-left: 0.5rem\">GPE</span>\n",
              "</mark>\n",
              " on \n",
              "<mark class=\"entity\" style=\"background: #bfe1d9; padding: 0.45em 0.6em; margin: 0 0.25em; line-height: 1; border-radius: 0.35em;\">\n",
              "    November 7, 1867\n",
              "    <span style=\"font-size: 0.8em; font-weight: bold; line-height: 1; border-radius: 0.35em; vertical-align: middle; margin-left: 0.5rem\">DATE</span>\n",
              "</mark>\n",
              ", the daughter of a secondary-school teacher. </br>She received a general education in local schools and some scientific training from her father. </br>She became involved in a students’ revolutionary organization and found it prudent to leave \n",
              "<mark class=\"entity\" style=\"background: #feca74; padding: 0.45em 0.6em; margin: 0 0.25em; line-height: 1; border-radius: 0.35em;\">\n",
              "    Warsaw\n",
              "    <span style=\"font-size: 0.8em; font-weight: bold; line-height: 1; border-radius: 0.35em; vertical-align: middle; margin-left: 0.5rem\">GPE</span>\n",
              "</mark>\n",
              ", then in the part of \n",
              "<mark class=\"entity\" style=\"background: #feca74; padding: 0.45em 0.6em; margin: 0 0.25em; line-height: 1; border-radius: 0.35em;\">\n",
              "    Poland\n",
              "    <span style=\"font-size: 0.8em; font-weight: bold; line-height: 1; border-radius: 0.35em; vertical-align: middle; margin-left: 0.5rem\">GPE</span>\n",
              "</mark>\n",
              " dominated by \n",
              "<mark class=\"entity\" style=\"background: #feca74; padding: 0.45em 0.6em; margin: 0 0.25em; line-height: 1; border-radius: 0.35em;\">\n",
              "    Russia\n",
              "    <span style=\"font-size: 0.8em; font-weight: bold; line-height: 1; border-radius: 0.35em; vertical-align: middle; margin-left: 0.5rem\">GPE</span>\n",
              "</mark>\n",
              ", for \n",
              "<mark class=\"entity\" style=\"background: #feca74; padding: 0.45em 0.6em; margin: 0 0.25em; line-height: 1; border-radius: 0.35em;\">\n",
              "    Cracow\n",
              "    <span style=\"font-size: 0.8em; font-weight: bold; line-height: 1; border-radius: 0.35em; vertical-align: middle; margin-left: 0.5rem\">GPE</span>\n",
              "</mark>\n",
              ", which at that time was under \n",
              "<mark class=\"entity\" style=\"background: #c887fb; padding: 0.45em 0.6em; margin: 0 0.25em; line-height: 1; border-radius: 0.35em;\">\n",
              "    Austrian\n",
              "    <span style=\"font-size: 0.8em; font-weight: bold; line-height: 1; border-radius: 0.35em; vertical-align: middle; margin-left: 0.5rem\">NORP</span>\n",
              "</mark>\n",
              " rule. </br>In \n",
              "<mark class=\"entity\" style=\"background: #bfe1d9; padding: 0.45em 0.6em; margin: 0 0.25em; line-height: 1; border-radius: 0.35em;\">\n",
              "    1891\n",
              "    <span style=\"font-size: 0.8em; font-weight: bold; line-height: 1; border-radius: 0.35em; vertical-align: middle; margin-left: 0.5rem\">DATE</span>\n",
              "</mark>\n",
              ", she went to \n",
              "<mark class=\"entity\" style=\"background: #feca74; padding: 0.45em 0.6em; margin: 0 0.25em; line-height: 1; border-radius: 0.35em;\">\n",
              "    Paris\n",
              "    <span style=\"font-size: 0.8em; font-weight: bold; line-height: 1; border-radius: 0.35em; vertical-align: middle; margin-left: 0.5rem\">GPE</span>\n",
              "</mark>\n",
              " to continue her studies at the \n",
              "<mark class=\"entity\" style=\"background: #bfeeb7; padding: 0.45em 0.6em; margin: 0 0.25em; line-height: 1; border-radius: 0.35em;\">\n",
              "    Sorbonne\n",
              "    <span style=\"font-size: 0.8em; font-weight: bold; line-height: 1; border-radius: 0.35em; vertical-align: middle; margin-left: 0.5rem\">PRODUCT</span>\n",
              "</mark>\n",
              " where she obtained \n",
              "<mark class=\"entity\" style=\"background: #7aecec; padding: 0.45em 0.6em; margin: 0 0.25em; line-height: 1; border-radius: 0.35em;\">\n",
              "    Licenciateships in Physics\n",
              "    <span style=\"font-size: 0.8em; font-weight: bold; line-height: 1; border-radius: 0.35em; vertical-align: middle; margin-left: 0.5rem\">ORG</span>\n",
              "</mark>\n",
              " and \n",
              "<mark class=\"entity\" style=\"background: #7aecec; padding: 0.45em 0.6em; margin: 0 0.25em; line-height: 1; border-radius: 0.35em;\">\n",
              "    the Mathematical Sciences\n",
              "    <span style=\"font-size: 0.8em; font-weight: bold; line-height: 1; border-radius: 0.35em; vertical-align: middle; margin-left: 0.5rem\">ORG</span>\n",
              "</mark>\n",
              ". </br>She met \n",
              "<mark class=\"entity\" style=\"background: #aa9cfc; padding: 0.45em 0.6em; margin: 0 0.25em; line-height: 1; border-radius: 0.35em;\">\n",
              "    Pierre Curie\n",
              "    <span style=\"font-size: 0.8em; font-weight: bold; line-height: 1; border-radius: 0.35em; vertical-align: middle; margin-left: 0.5rem\">PERSON</span>\n",
              "</mark>\n",
              ", Professor in \n",
              "<mark class=\"entity\" style=\"background: #7aecec; padding: 0.45em 0.6em; margin: 0 0.25em; line-height: 1; border-radius: 0.35em;\">\n",
              "    the School of Physics\n",
              "    <span style=\"font-size: 0.8em; font-weight: bold; line-height: 1; border-radius: 0.35em; vertical-align: middle; margin-left: 0.5rem\">ORG</span>\n",
              "</mark>\n",
              " in \n",
              "<mark class=\"entity\" style=\"background: #bfe1d9; padding: 0.45em 0.6em; margin: 0 0.25em; line-height: 1; border-radius: 0.35em;\">\n",
              "    1894\n",
              "    <span style=\"font-size: 0.8em; font-weight: bold; line-height: 1; border-radius: 0.35em; vertical-align: middle; margin-left: 0.5rem\">DATE</span>\n",
              "</mark>\n",
              " and in \n",
              "<mark class=\"entity\" style=\"background: #bfe1d9; padding: 0.45em 0.6em; margin: 0 0.25em; line-height: 1; border-radius: 0.35em;\">\n",
              "    the following year\n",
              "    <span style=\"font-size: 0.8em; font-weight: bold; line-height: 1; border-radius: 0.35em; vertical-align: middle; margin-left: 0.5rem\">DATE</span>\n",
              "</mark>\n",
              " they were married. </br>She succeeded her husband as Head of \n",
              "<mark class=\"entity\" style=\"background: #7aecec; padding: 0.45em 0.6em; margin: 0 0.25em; line-height: 1; border-radius: 0.35em;\">\n",
              "    the Physics Laboratory\n",
              "    <span style=\"font-size: 0.8em; font-weight: bold; line-height: 1; border-radius: 0.35em; vertical-align: middle; margin-left: 0.5rem\">ORG</span>\n",
              "</mark>\n",
              " at the \n",
              "<mark class=\"entity\" style=\"background: #bfeeb7; padding: 0.45em 0.6em; margin: 0 0.25em; line-height: 1; border-radius: 0.35em;\">\n",
              "    Sorbonne\n",
              "    <span style=\"font-size: 0.8em; font-weight: bold; line-height: 1; border-radius: 0.35em; vertical-align: middle; margin-left: 0.5rem\">PRODUCT</span>\n",
              "</mark>\n",
              ", gained her Doctor of Science degree in \n",
              "<mark class=\"entity\" style=\"background: #bfe1d9; padding: 0.45em 0.6em; margin: 0 0.25em; line-height: 1; border-radius: 0.35em;\">\n",
              "    1903\n",
              "    <span style=\"font-size: 0.8em; font-weight: bold; line-height: 1; border-radius: 0.35em; vertical-align: middle; margin-left: 0.5rem\">DATE</span>\n",
              "</mark>\n",
              ", and following the tragic death of \n",
              "<mark class=\"entity\" style=\"background: #aa9cfc; padding: 0.45em 0.6em; margin: 0 0.25em; line-height: 1; border-radius: 0.35em;\">\n",
              "    Pierre Curie\n",
              "    <span style=\"font-size: 0.8em; font-weight: bold; line-height: 1; border-radius: 0.35em; vertical-align: middle; margin-left: 0.5rem\">PERSON</span>\n",
              "</mark>\n",
              " in \n",
              "<mark class=\"entity\" style=\"background: #bfe1d9; padding: 0.45em 0.6em; margin: 0 0.25em; line-height: 1; border-radius: 0.35em;\">\n",
              "    1906\n",
              "    <span style=\"font-size: 0.8em; font-weight: bold; line-height: 1; border-radius: 0.35em; vertical-align: middle; margin-left: 0.5rem\">DATE</span>\n",
              "</mark>\n",
              ", she took his place as Professor of \n",
              "<mark class=\"entity\" style=\"background: #7aecec; padding: 0.45em 0.6em; margin: 0 0.25em; line-height: 1; border-radius: 0.35em;\">\n",
              "    General Physics\n",
              "    <span style=\"font-size: 0.8em; font-weight: bold; line-height: 1; border-radius: 0.35em; vertical-align: middle; margin-left: 0.5rem\">ORG</span>\n",
              "</mark>\n",
              " in \n",
              "<mark class=\"entity\" style=\"background: #7aecec; padding: 0.45em 0.6em; margin: 0 0.25em; line-height: 1; border-radius: 0.35em;\">\n",
              "    the Faculty of Sciences\n",
              "    <span style=\"font-size: 0.8em; font-weight: bold; line-height: 1; border-radius: 0.35em; vertical-align: middle; margin-left: 0.5rem\">ORG</span>\n",
              "</mark>\n",
              ", the \n",
              "<mark class=\"entity\" style=\"background: #e4e7d2; padding: 0.45em 0.6em; margin: 0 0.25em; line-height: 1; border-radius: 0.35em;\">\n",
              "    first\n",
              "    <span style=\"font-size: 0.8em; font-weight: bold; line-height: 1; border-radius: 0.35em; vertical-align: middle; margin-left: 0.5rem\">ORDINAL</span>\n",
              "</mark>\n",
              " time a woman had held this position. </br>She was also appointed Director of \n",
              "<mark class=\"entity\" style=\"background: #7aecec; padding: 0.45em 0.6em; margin: 0 0.25em; line-height: 1; border-radius: 0.35em;\">\n",
              "    the Curie Laboratory\n",
              "    <span style=\"font-size: 0.8em; font-weight: bold; line-height: 1; border-radius: 0.35em; vertical-align: middle; margin-left: 0.5rem\">ORG</span>\n",
              "</mark>\n",
              " in \n",
              "<mark class=\"entity\" style=\"background: #7aecec; padding: 0.45em 0.6em; margin: 0 0.25em; line-height: 1; border-radius: 0.35em;\">\n",
              "    the Radium Institute of the University of Paris\n",
              "    <span style=\"font-size: 0.8em; font-weight: bold; line-height: 1; border-radius: 0.35em; vertical-align: middle; margin-left: 0.5rem\">ORG</span>\n",
              "</mark>\n",
              ", founded in \n",
              "<mark class=\"entity\" style=\"background: #bfe1d9; padding: 0.45em 0.6em; margin: 0 0.25em; line-height: 1; border-radius: 0.35em;\">\n",
              "    1914\n",
              "    <span style=\"font-size: 0.8em; font-weight: bold; line-height: 1; border-radius: 0.35em; vertical-align: middle; margin-left: 0.5rem\">DATE</span>\n",
              "</mark>\n",
              ".</br></div></span>"
            ]
          },
          "metadata": {}
        }
      ]
    },
    {
      "cell_type": "code",
      "source": [
        "# Deidentify entity\n",
        "\n",
        "# Get entity\n",
        "entity = entities[-1]\n",
        "print(f'entity: {entity}')\n",
        "\n",
        "# Convert str to list of characters\n",
        "text_as_list = list(text)\n",
        "print(f'text_as_list: {text_as_list}')\n",
        "\n",
        "# Replace entity with deidentification token\n",
        "start = entity.start_char\n",
        "end = entity.end_char\n",
        "label = entity.label_\n",
        "deid_token = '[' + label + ']'\n",
        "text_as_list[start:end]  = list(deid_token)\n",
        "\n",
        "# Convert list of char back to string\n",
        "text_as_str = ''.join(text_as_list)\n",
        "print(f'text_as_str: {text_as_str}')"
      ],
      "metadata": {
        "id": "5K_8oXhjy3Gb",
        "colab": {
          "base_uri": "https://localhost:8080/"
        },
        "outputId": "4d5f7ce3-71ca-4105-f442-d04c84bdd1c7"
      },
      "execution_count": null,
      "outputs": [
        {
          "output_type": "stream",
          "name": "stdout",
          "text": [
            "entity: 1914\n",
            "text_as_list: ['\\n', 'M', 'a', 'r', 'i', 'e', ' ', 'C', 'u', 'r', 'i', 'e', ',', ' ', 'n', 'é', 'e', ' ', 'M', 'a', 'r', 'i', 'a', ' ', 'S', 'k', 'l', 'o', 'd', 'o', 'w', 's', 'k', 'a', ',', ' ', 'w', 'a', 's', ' ', 'b', 'o', 'r', 'n', ' ', 'i', 'n', ' ', 'W', 'a', 'r', 's', 'a', 'w', ' ', 'o', 'n', ' ', 'N', 'o', 'v', 'e', 'm', 'b', 'e', 'r', ' ', '7', ',', ' ', '1', '8', '6', '7', ',', ' ', 't', 'h', 'e', ' ', 'd', 'a', 'u', 'g', 'h', 't', 'e', 'r', ' ', 'o', 'f', ' ', 'a', ' ', 's', 'e', 'c', 'o', 'n', 'd', 'a', 'r', 'y', '-', 's', 'c', 'h', 'o', 'o', 'l', ' ', 't', 'e', 'a', 'c', 'h', 'e', 'r', '.', ' ', '\\n', 'S', 'h', 'e', ' ', 'r', 'e', 'c', 'e', 'i', 'v', 'e', 'd', ' ', 'a', ' ', 'g', 'e', 'n', 'e', 'r', 'a', 'l', ' ', 'e', 'd', 'u', 'c', 'a', 't', 'i', 'o', 'n', ' ', 'i', 'n', ' ', 'l', 'o', 'c', 'a', 'l', ' ', 's', 'c', 'h', 'o', 'o', 'l', 's', ' ', 'a', 'n', 'd', ' ', 's', 'o', 'm', 'e', ' ', 's', 'c', 'i', 'e', 'n', 't', 'i', 'f', 'i', 'c', ' ', 't', 'r', 'a', 'i', 'n', 'i', 'n', 'g', ' ', 'f', 'r', 'o', 'm', ' ', 'h', 'e', 'r', ' ', 'f', 'a', 't', 'h', 'e', 'r', '.', ' ', '\\n', 'S', 'h', 'e', ' ', 'b', 'e', 'c', 'a', 'm', 'e', ' ', 'i', 'n', 'v', 'o', 'l', 'v', 'e', 'd', ' ', 'i', 'n', ' ', 'a', ' ', 's', 't', 'u', 'd', 'e', 'n', 't', 's', '’', ' ', 'r', 'e', 'v', 'o', 'l', 'u', 't', 'i', 'o', 'n', 'a', 'r', 'y', ' ', 'o', 'r', 'g', 'a', 'n', 'i', 'z', 'a', 't', 'i', 'o', 'n', ' ', 'a', 'n', 'd', ' ', 'f', 'o', 'u', 'n', 'd', ' ', 'i', 't', ' ', 'p', 'r', 'u', 'd', 'e', 'n', 't', ' ', 't', 'o', ' ', 'l', 'e', 'a', 'v', 'e', ' ', 'W', 'a', 'r', 's', 'a', 'w', ',', ' ', 't', 'h', 'e', 'n', ' ', 'i', 'n', ' ', 't', 'h', 'e', ' ', 'p', 'a', 'r', 't', ' ', 'o', 'f', ' ', 'P', 'o', 'l', 'a', 'n', 'd', ' ', 'd', 'o', 'm', 'i', 'n', 'a', 't', 'e', 'd', ' ', 'b', 'y', ' ', 'R', 'u', 's', 's', 'i', 'a', ',', ' ', 'f', 'o', 'r', ' ', 'C', 'r', 'a', 'c', 'o', 'w', ',', ' ', 'w', 'h', 'i', 'c', 'h', ' ', 'a', 't', ' ', 't', 'h', 'a', 't', ' ', 't', 'i', 'm', 'e', ' ', 'w', 'a', 's', ' ', 'u', 'n', 'd', 'e', 'r', ' ', 'A', 'u', 's', 't', 'r', 'i', 'a', 'n', ' ', 'r', 'u', 'l', 'e', '.', ' ', '\\n', 'I', 'n', ' ', '1', '8', '9', '1', ',', ' ', 's', 'h', 'e', ' ', 'w', 'e', 'n', 't', ' ', 't', 'o', ' ', 'P', 'a', 'r', 'i', 's', ' ', 't', 'o', ' ', 'c', 'o', 'n', 't', 'i', 'n', 'u', 'e', ' ', 'h', 'e', 'r', ' ', 's', 't', 'u', 'd', 'i', 'e', 's', ' ', 'a', 't', ' ', 't', 'h', 'e', ' ', 'S', 'o', 'r', 'b', 'o', 'n', 'n', 'e', ' ', 'w', 'h', 'e', 'r', 'e', ' ', 's', 'h', 'e', ' ', 'o', 'b', 't', 'a', 'i', 'n', 'e', 'd', ' ', 'L', 'i', 'c', 'e', 'n', 'c', 'i', 'a', 't', 'e', 's', 'h', 'i', 'p', 's', ' ', 'i', 'n', ' ', 'P', 'h', 'y', 's', 'i', 'c', 's', ' ', 'a', 'n', 'd', ' ', 't', 'h', 'e', ' ', 'M', 'a', 't', 'h', 'e', 'm', 'a', 't', 'i', 'c', 'a', 'l', ' ', 'S', 'c', 'i', 'e', 'n', 'c', 'e', 's', '.', ' ', '\\n', 'S', 'h', 'e', ' ', 'm', 'e', 't', ' ', 'P', 'i', 'e', 'r', 'r', 'e', ' ', 'C', 'u', 'r', 'i', 'e', ',', ' ', 'P', 'r', 'o', 'f', 'e', 's', 's', 'o', 'r', ' ', 'i', 'n', ' ', 't', 'h', 'e', ' ', 'S', 'c', 'h', 'o', 'o', 'l', ' ', 'o', 'f', ' ', 'P', 'h', 'y', 's', 'i', 'c', 's', ' ', 'i', 'n', ' ', '1', '8', '9', '4', ' ', 'a', 'n', 'd', ' ', 'i', 'n', ' ', 't', 'h', 'e', ' ', 'f', 'o', 'l', 'l', 'o', 'w', 'i', 'n', 'g', ' ', 'y', 'e', 'a', 'r', ' ', 't', 'h', 'e', 'y', ' ', 'w', 'e', 'r', 'e', ' ', 'm', 'a', 'r', 'r', 'i', 'e', 'd', '.', ' ', '\\n', 'S', 'h', 'e', ' ', 's', 'u', 'c', 'c', 'e', 'e', 'd', 'e', 'd', ' ', 'h', 'e', 'r', ' ', 'h', 'u', 's', 'b', 'a', 'n', 'd', ' ', 'a', 's', ' ', 'H', 'e', 'a', 'd', ' ', 'o', 'f', ' ', 't', 'h', 'e', ' ', 'P', 'h', 'y', 's', 'i', 'c', 's', ' ', 'L', 'a', 'b', 'o', 'r', 'a', 't', 'o', 'r', 'y', ' ', 'a', 't', ' ', 't', 'h', 'e', ' ', 'S', 'o', 'r', 'b', 'o', 'n', 'n', 'e', ',', ' ', 'g', 'a', 'i', 'n', 'e', 'd', ' ', 'h', 'e', 'r', ' ', 'D', 'o', 'c', 't', 'o', 'r', ' ', 'o', 'f', ' ', 'S', 'c', 'i', 'e', 'n', 'c', 'e', ' ', 'd', 'e', 'g', 'r', 'e', 'e', ' ', 'i', 'n', ' ', '1', '9', '0', '3', ',', ' ', 'a', 'n', 'd', ' ', 'f', 'o', 'l', 'l', 'o', 'w', 'i', 'n', 'g', ' ', 't', 'h', 'e', ' ', 't', 'r', 'a', 'g', 'i', 'c', ' ', 'd', 'e', 'a', 't', 'h', ' ', 'o', 'f', ' ', 'P', 'i', 'e', 'r', 'r', 'e', ' ', 'C', 'u', 'r', 'i', 'e', ' ', 'i', 'n', ' ', '1', '9', '0', '6', ',', ' ', 's', 'h', 'e', ' ', 't', 'o', 'o', 'k', ' ', 'h', 'i', 's', ' ', 'p', 'l', 'a', 'c', 'e', ' ', 'a', 's', ' ', 'P', 'r', 'o', 'f', 'e', 's', 's', 'o', 'r', ' ', 'o', 'f', ' ', 'G', 'e', 'n', 'e', 'r', 'a', 'l', ' ', 'P', 'h', 'y', 's', 'i', 'c', 's', ' ', 'i', 'n', ' ', 't', 'h', 'e', ' ', 'F', 'a', 'c', 'u', 'l', 't', 'y', ' ', 'o', 'f', ' ', 'S', 'c', 'i', 'e', 'n', 'c', 'e', 's', ',', ' ', 't', 'h', 'e', ' ', 'f', 'i', 'r', 's', 't', ' ', 't', 'i', 'm', 'e', ' ', 'a', ' ', 'w', 'o', 'm', 'a', 'n', ' ', 'h', 'a', 'd', ' ', 'h', 'e', 'l', 'd', ' ', 't', 'h', 'i', 's', ' ', 'p', 'o', 's', 'i', 't', 'i', 'o', 'n', '.', ' ', '\\n', 'S', 'h', 'e', ' ', 'w', 'a', 's', ' ', 'a', 'l', 's', 'o', ' ', 'a', 'p', 'p', 'o', 'i', 'n', 't', 'e', 'd', ' ', 'D', 'i', 'r', 'e', 'c', 't', 'o', 'r', ' ', 'o', 'f', ' ', 't', 'h', 'e', ' ', 'C', 'u', 'r', 'i', 'e', ' ', 'L', 'a', 'b', 'o', 'r', 'a', 't', 'o', 'r', 'y', ' ', 'i', 'n', ' ', 't', 'h', 'e', ' ', 'R', 'a', 'd', 'i', 'u', 'm', ' ', 'I', 'n', 's', 't', 'i', 't', 'u', 't', 'e', ' ', 'o', 'f', ' ', 't', 'h', 'e', ' ', 'U', 'n', 'i', 'v', 'e', 'r', 's', 'i', 't', 'y', ' ', 'o', 'f', ' ', 'P', 'a', 'r', 'i', 's', ',', ' ', 'f', 'o', 'u', 'n', 'd', 'e', 'd', ' ', 'i', 'n', ' ', '1', '9', '1', '4', '.', '\\n']\n",
            "text_as_str: \n",
            "Marie Curie, née Maria Sklodowska, was born in Warsaw on November 7, 1867, the daughter of a secondary-school teacher. \n",
            "She received a general education in local schools and some scientific training from her father. \n",
            "She became involved in a students’ revolutionary organization and found it prudent to leave Warsaw, then in the part of Poland dominated by Russia, for Cracow, which at that time was under Austrian rule. \n",
            "In 1891, she went to Paris to continue her studies at the Sorbonne where she obtained Licenciateships in Physics and the Mathematical Sciences. \n",
            "She met Pierre Curie, Professor in the School of Physics in 1894 and in the following year they were married. \n",
            "She succeeded her husband as Head of the Physics Laboratory at the Sorbonne, gained her Doctor of Science degree in 1903, and following the tragic death of Pierre Curie in 1906, she took his place as Professor of General Physics in the Faculty of Sciences, the first time a woman had held this position. \n",
            "She was also appointed Director of the Curie Laboratory in the Radium Institute of the University of Paris, founded in [DATE].\n",
            "\n"
          ]
        }
      ]
    },
    {
      "cell_type": "code",
      "source": [
        "entities"
      ],
      "metadata": {
        "colab": {
          "base_uri": "https://localhost:8080/"
        },
        "id": "ffGDEHHSJQsr",
        "outputId": "6933ccc9-6ee5-4de4-e5ce-fa47bb4e45bd"
      },
      "execution_count": null,
      "outputs": [
        {
          "output_type": "execute_result",
          "data": {
            "text/plain": [
              "[Marie Curie,\n",
              " Maria Sklodowska,\n",
              " Warsaw,\n",
              " November 7, 1867,\n",
              " Warsaw,\n",
              " Poland,\n",
              " Russia,\n",
              " Cracow,\n",
              " Austrian,\n",
              " 1891,\n",
              " Paris,\n",
              " Sorbonne,\n",
              " Licenciateships in Physics,\n",
              " the Mathematical Sciences,\n",
              " Pierre Curie,\n",
              " the School of Physics,\n",
              " 1894,\n",
              " the following year,\n",
              " the Physics Laboratory,\n",
              " Sorbonne,\n",
              " 1903,\n",
              " Pierre Curie,\n",
              " 1906,\n",
              " General Physics,\n",
              " the Faculty of Sciences,\n",
              " first,\n",
              " the Curie Laboratory,\n",
              " the Radium Institute of the University of Paris,\n",
              " 1914]"
            ]
          },
          "metadata": {},
          "execution_count": 17
        }
      ]
    },
    {
      "cell_type": "code",
      "source": [
        "entities.reverse()"
      ],
      "metadata": {
        "id": "MHr7-tt5JaIv"
      },
      "execution_count": null,
      "outputs": []
    },
    {
      "cell_type": "code",
      "source": [
        "for entity in entities[1:] :\n",
        "  print(entity)\n",
        "  start = entity.start_char\n",
        "  end = entity.end_char\n",
        "  label = entity.label_\n",
        "  deid_token = '[' + label + ']'\n",
        "  text_as_list[start:end]  = list(deid_token)\n",
        "\n",
        "  # Convert list of char back to string\n",
        "  text_as_str = ''.join(text_as_list)"
      ],
      "metadata": {
        "colab": {
          "base_uri": "https://localhost:8080/"
        },
        "id": "oY70r3K8I2MM",
        "outputId": "3ad4c956-4319-49a3-c5ec-ff92d473491c"
      },
      "execution_count": null,
      "outputs": [
        {
          "output_type": "stream",
          "name": "stdout",
          "text": [
            "the Radium Institute of the University of Paris\n",
            "the Curie Laboratory\n",
            "first\n",
            "the Faculty of Sciences\n",
            "General Physics\n",
            "1906\n",
            "Pierre Curie\n",
            "1903\n",
            "Sorbonne\n",
            "the Physics Laboratory\n",
            "the following year\n",
            "1894\n",
            "the School of Physics\n",
            "Pierre Curie\n",
            "the Mathematical Sciences\n",
            "Licenciateships in Physics\n",
            "Sorbonne\n",
            "Paris\n",
            "1891\n",
            "Austrian\n",
            "Cracow\n",
            "Russia\n",
            "Poland\n",
            "Warsaw\n",
            "November 7, 1867\n",
            "Warsaw\n",
            "Maria Sklodowska\n",
            "Marie Curie\n"
          ]
        }
      ]
    },
    {
      "cell_type": "code",
      "source": [
        "print(f'text_as_str: {text_as_str}')"
      ],
      "metadata": {
        "colab": {
          "base_uri": "https://localhost:8080/"
        },
        "id": "A5MRGo9RJLMt",
        "outputId": "3a29d654-41af-48dc-de80-7ba59f557f44"
      },
      "execution_count": null,
      "outputs": [
        {
          "output_type": "stream",
          "name": "stdout",
          "text": [
            "text_as_str: \n",
            "[PERSON], née [PERSON], was born in [GPE] on [DATE], the daughter of a secondary-school teacher. \n",
            "She received a general education in local schools and some scientific training from her father. \n",
            "She became involved in a students’ revolutionary organization and found it prudent to leave [GPE], then in the part of [GPE] dominated by [GPE], for [GPE], which at that time was under [NORP] rule. \n",
            "In [DATE], she went to [GPE] to continue her studies at the [PRODUCT] where she obtained [ORG] and [ORG]. \n",
            "She met [PERSON], Professor in [ORG] in [DATE] and in [DATE] they were married. \n",
            "She succeeded her husband as Head of [ORG] at the [PRODUCT], gained her Doctor of Science degree in [DATE], and following the tragic death of [PERSON] in [DATE], she took his place as Professor of [ORG] in [ORG], the [ORDINAL] time a woman had held this position. \n",
            "She was also appointed Director of [ORG] in [ORG], founded in [DATE].\n",
            "\n"
          ]
        }
      ]
    },
    {
      "cell_type": "code",
      "source": [],
      "metadata": {
        "id": "aalWX8luKXEu"
      },
      "execution_count": null,
      "outputs": []
    }
  ]
}