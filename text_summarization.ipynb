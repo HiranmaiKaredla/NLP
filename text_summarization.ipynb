{
  "nbformat": 4,
  "nbformat_minor": 0,
  "metadata": {
    "colab": {
      "provenance": [],
      "authorship_tag": "ABX9TyMbcjc8rxUZ+5hEcVAQ44sj",
      "include_colab_link": true
    },
    "kernelspec": {
      "name": "python3",
      "display_name": "Python 3"
    },
    "language_info": {
      "name": "python"
    }
  },
  "cells": [
    {
      "cell_type": "markdown",
      "metadata": {
        "id": "view-in-github",
        "colab_type": "text"
      },
      "source": [
        "<a href=\"https://colab.research.google.com/github/HiranmaiKaredla/NLP/blob/main/text_summarization.ipynb\" target=\"_parent\"><img src=\"https://colab.research.google.com/assets/colab-badge.svg\" alt=\"Open In Colab\"/></a>"
      ]
    },
    {
      "cell_type": "markdown",
      "source": [
        "## Importing libraries"
      ],
      "metadata": {
        "id": "2VYNDomiilpE"
      }
    },
    {
      "cell_type": "code",
      "execution_count": null,
      "metadata": {
        "colab": {
          "base_uri": "https://localhost:8080/"
        },
        "id": "p1CUvLSccofD",
        "outputId": "ad9a5ff0-75c3-4dd8-fee2-69b4d49b35a3"
      },
      "outputs": [
        {
          "output_type": "stream",
          "name": "stdout",
          "text": [
            "Looking in indexes: https://pypi.org/simple, https://us-python.pkg.dev/colab-wheels/public/simple/\n",
            "Requirement already satisfied: spacy in /usr/local/lib/python3.8/dist-packages (3.4.4)\n",
            "Requirement already satisfied: jinja2 in /usr/local/lib/python3.8/dist-packages (from spacy) (2.11.3)\n",
            "Requirement already satisfied: thinc<8.2.0,>=8.1.0 in /usr/local/lib/python3.8/dist-packages (from spacy) (8.1.7)\n",
            "Requirement already satisfied: packaging>=20.0 in /usr/local/lib/python3.8/dist-packages (from spacy) (23.0)\n",
            "Requirement already satisfied: pydantic!=1.8,!=1.8.1,<1.11.0,>=1.7.4 in /usr/local/lib/python3.8/dist-packages (from spacy) (1.10.5)\n",
            "Requirement already satisfied: srsly<3.0.0,>=2.4.3 in /usr/local/lib/python3.8/dist-packages (from spacy) (2.4.5)\n",
            "Requirement already satisfied: spacy-loggers<2.0.0,>=1.0.0 in /usr/local/lib/python3.8/dist-packages (from spacy) (1.0.4)\n",
            "Requirement already satisfied: preshed<3.1.0,>=3.0.2 in /usr/local/lib/python3.8/dist-packages (from spacy) (3.0.8)\n",
            "Requirement already satisfied: wasabi<1.1.0,>=0.9.1 in /usr/local/lib/python3.8/dist-packages (from spacy) (0.10.1)\n",
            "Requirement already satisfied: numpy>=1.15.0 in /usr/local/lib/python3.8/dist-packages (from spacy) (1.22.4)\n",
            "Requirement already satisfied: murmurhash<1.1.0,>=0.28.0 in /usr/local/lib/python3.8/dist-packages (from spacy) (1.0.9)\n",
            "Requirement already satisfied: spacy-legacy<3.1.0,>=3.0.10 in /usr/local/lib/python3.8/dist-packages (from spacy) (3.0.12)\n",
            "Requirement already satisfied: typer<0.8.0,>=0.3.0 in /usr/local/lib/python3.8/dist-packages (from spacy) (0.7.0)\n",
            "Requirement already satisfied: tqdm<5.0.0,>=4.38.0 in /usr/local/lib/python3.8/dist-packages (from spacy) (4.64.1)\n",
            "Requirement already satisfied: setuptools in /usr/local/lib/python3.8/dist-packages (from spacy) (57.4.0)\n",
            "Requirement already satisfied: smart-open<7.0.0,>=5.2.1 in /usr/local/lib/python3.8/dist-packages (from spacy) (6.3.0)\n",
            "Requirement already satisfied: cymem<2.1.0,>=2.0.2 in /usr/local/lib/python3.8/dist-packages (from spacy) (2.0.7)\n",
            "Requirement already satisfied: requests<3.0.0,>=2.13.0 in /usr/local/lib/python3.8/dist-packages (from spacy) (2.25.1)\n",
            "Requirement already satisfied: catalogue<2.1.0,>=2.0.6 in /usr/local/lib/python3.8/dist-packages (from spacy) (2.0.8)\n",
            "Requirement already satisfied: pathy>=0.3.5 in /usr/local/lib/python3.8/dist-packages (from spacy) (0.10.1)\n",
            "Requirement already satisfied: langcodes<4.0.0,>=3.2.0 in /usr/local/lib/python3.8/dist-packages (from spacy) (3.3.0)\n",
            "Requirement already satisfied: typing-extensions>=4.2.0 in /usr/local/lib/python3.8/dist-packages (from pydantic!=1.8,!=1.8.1,<1.11.0,>=1.7.4->spacy) (4.5.0)\n",
            "Requirement already satisfied: chardet<5,>=3.0.2 in /usr/local/lib/python3.8/dist-packages (from requests<3.0.0,>=2.13.0->spacy) (4.0.0)\n",
            "Requirement already satisfied: urllib3<1.27,>=1.21.1 in /usr/local/lib/python3.8/dist-packages (from requests<3.0.0,>=2.13.0->spacy) (1.24.3)\n",
            "Requirement already satisfied: idna<3,>=2.5 in /usr/local/lib/python3.8/dist-packages (from requests<3.0.0,>=2.13.0->spacy) (2.10)\n",
            "Requirement already satisfied: certifi>=2017.4.17 in /usr/local/lib/python3.8/dist-packages (from requests<3.0.0,>=2.13.0->spacy) (2022.12.7)\n",
            "Requirement already satisfied: blis<0.8.0,>=0.7.8 in /usr/local/lib/python3.8/dist-packages (from thinc<8.2.0,>=8.1.0->spacy) (0.7.9)\n",
            "Requirement already satisfied: confection<1.0.0,>=0.0.1 in /usr/local/lib/python3.8/dist-packages (from thinc<8.2.0,>=8.1.0->spacy) (0.0.4)\n",
            "Requirement already satisfied: click<9.0.0,>=7.1.1 in /usr/local/lib/python3.8/dist-packages (from typer<0.8.0,>=0.3.0->spacy) (7.1.2)\n",
            "Requirement already satisfied: MarkupSafe>=0.23 in /usr/local/lib/python3.8/dist-packages (from jinja2->spacy) (2.0.1)\n",
            "/usr/local/lib/python3.8/dist-packages/torch/cuda/__init__.py:497: UserWarning: Can't initialize NVML\n",
            "  warnings.warn(\"Can't initialize NVML\")\n",
            "2023-02-27 03:02:53.901952: I tensorflow/core/platform/cpu_feature_guard.cc:193] This TensorFlow binary is optimized with oneAPI Deep Neural Network Library (oneDNN) to use the following CPU instructions in performance-critical operations:  AVX2 FMA\n",
            "To enable them in other operations, rebuild TensorFlow with the appropriate compiler flags.\n",
            "2023-02-27 03:02:55.678091: W tensorflow/compiler/xla/stream_executor/platform/default/dso_loader.cc:64] Could not load dynamic library 'libnvinfer.so.7'; dlerror: libnvinfer.so.7: cannot open shared object file: No such file or directory; LD_LIBRARY_PATH: /usr/local/nvidia/lib:/usr/local/nvidia/lib64\n",
            "2023-02-27 03:02:55.678194: W tensorflow/compiler/xla/stream_executor/platform/default/dso_loader.cc:64] Could not load dynamic library 'libnvinfer_plugin.so.7'; dlerror: libnvinfer_plugin.so.7: cannot open shared object file: No such file or directory; LD_LIBRARY_PATH: /usr/local/nvidia/lib:/usr/local/nvidia/lib64\n",
            "2023-02-27 03:02:55.678214: W tensorflow/compiler/tf2tensorrt/utils/py_utils.cc:38] TF-TRT Warning: Cannot dlopen some TensorRT libraries. If you would like to use Nvidia GPU with TensorRT, please make sure the missing libraries mentioned above are installed properly.\n",
            "2023-02-27 03:02:59.332243: E tensorflow/compiler/xla/stream_executor/cuda/cuda_driver.cc:267] failed call to cuInit: CUDA_ERROR_NO_DEVICE: no CUDA-capable device is detected\n",
            "Looking in indexes: https://pypi.org/simple, https://us-python.pkg.dev/colab-wheels/public/simple/\n",
            "Collecting en-core-web-sm==3.4.1\n",
            "  Downloading https://github.com/explosion/spacy-models/releases/download/en_core_web_sm-3.4.1/en_core_web_sm-3.4.1-py3-none-any.whl (12.8 MB)\n",
            "\u001b[2K     \u001b[90m━━━━━━━━━━━━━━━━━━━━━━━━━━━━━━━━━━━━━━━━\u001b[0m \u001b[32m12.8/12.8 MB\u001b[0m \u001b[31m35.9 MB/s\u001b[0m eta \u001b[36m0:00:00\u001b[0m\n",
            "\u001b[?25hRequirement already satisfied: spacy<3.5.0,>=3.4.0 in /usr/local/lib/python3.8/dist-packages (from en-core-web-sm==3.4.1) (3.4.4)\n",
            "Requirement already satisfied: typer<0.8.0,>=0.3.0 in /usr/local/lib/python3.8/dist-packages (from spacy<3.5.0,>=3.4.0->en-core-web-sm==3.4.1) (0.7.0)\n",
            "Requirement already satisfied: thinc<8.2.0,>=8.1.0 in /usr/local/lib/python3.8/dist-packages (from spacy<3.5.0,>=3.4.0->en-core-web-sm==3.4.1) (8.1.7)\n",
            "Requirement already satisfied: tqdm<5.0.0,>=4.38.0 in /usr/local/lib/python3.8/dist-packages (from spacy<3.5.0,>=3.4.0->en-core-web-sm==3.4.1) (4.64.1)\n",
            "Requirement already satisfied: murmurhash<1.1.0,>=0.28.0 in /usr/local/lib/python3.8/dist-packages (from spacy<3.5.0,>=3.4.0->en-core-web-sm==3.4.1) (1.0.9)\n",
            "Requirement already satisfied: preshed<3.1.0,>=3.0.2 in /usr/local/lib/python3.8/dist-packages (from spacy<3.5.0,>=3.4.0->en-core-web-sm==3.4.1) (3.0.8)\n",
            "Requirement already satisfied: langcodes<4.0.0,>=3.2.0 in /usr/local/lib/python3.8/dist-packages (from spacy<3.5.0,>=3.4.0->en-core-web-sm==3.4.1) (3.3.0)\n",
            "Requirement already satisfied: jinja2 in /usr/local/lib/python3.8/dist-packages (from spacy<3.5.0,>=3.4.0->en-core-web-sm==3.4.1) (2.11.3)\n",
            "Requirement already satisfied: pydantic!=1.8,!=1.8.1,<1.11.0,>=1.7.4 in /usr/local/lib/python3.8/dist-packages (from spacy<3.5.0,>=3.4.0->en-core-web-sm==3.4.1) (1.10.5)\n",
            "Requirement already satisfied: setuptools in /usr/local/lib/python3.8/dist-packages (from spacy<3.5.0,>=3.4.0->en-core-web-sm==3.4.1) (57.4.0)\n",
            "Requirement already satisfied: catalogue<2.1.0,>=2.0.6 in /usr/local/lib/python3.8/dist-packages (from spacy<3.5.0,>=3.4.0->en-core-web-sm==3.4.1) (2.0.8)\n",
            "Requirement already satisfied: smart-open<7.0.0,>=5.2.1 in /usr/local/lib/python3.8/dist-packages (from spacy<3.5.0,>=3.4.0->en-core-web-sm==3.4.1) (6.3.0)\n",
            "Requirement already satisfied: requests<3.0.0,>=2.13.0 in /usr/local/lib/python3.8/dist-packages (from spacy<3.5.0,>=3.4.0->en-core-web-sm==3.4.1) (2.25.1)\n",
            "Requirement already satisfied: pathy>=0.3.5 in /usr/local/lib/python3.8/dist-packages (from spacy<3.5.0,>=3.4.0->en-core-web-sm==3.4.1) (0.10.1)\n",
            "Requirement already satisfied: spacy-loggers<2.0.0,>=1.0.0 in /usr/local/lib/python3.8/dist-packages (from spacy<3.5.0,>=3.4.0->en-core-web-sm==3.4.1) (1.0.4)\n",
            "Requirement already satisfied: spacy-legacy<3.1.0,>=3.0.10 in /usr/local/lib/python3.8/dist-packages (from spacy<3.5.0,>=3.4.0->en-core-web-sm==3.4.1) (3.0.12)\n",
            "Requirement already satisfied: wasabi<1.1.0,>=0.9.1 in /usr/local/lib/python3.8/dist-packages (from spacy<3.5.0,>=3.4.0->en-core-web-sm==3.4.1) (0.10.1)\n",
            "Requirement already satisfied: srsly<3.0.0,>=2.4.3 in /usr/local/lib/python3.8/dist-packages (from spacy<3.5.0,>=3.4.0->en-core-web-sm==3.4.1) (2.4.5)\n",
            "Requirement already satisfied: numpy>=1.15.0 in /usr/local/lib/python3.8/dist-packages (from spacy<3.5.0,>=3.4.0->en-core-web-sm==3.4.1) (1.22.4)\n",
            "Requirement already satisfied: cymem<2.1.0,>=2.0.2 in /usr/local/lib/python3.8/dist-packages (from spacy<3.5.0,>=3.4.0->en-core-web-sm==3.4.1) (2.0.7)\n",
            "Requirement already satisfied: packaging>=20.0 in /usr/local/lib/python3.8/dist-packages (from spacy<3.5.0,>=3.4.0->en-core-web-sm==3.4.1) (23.0)\n",
            "Requirement already satisfied: typing-extensions>=4.2.0 in /usr/local/lib/python3.8/dist-packages (from pydantic!=1.8,!=1.8.1,<1.11.0,>=1.7.4->spacy<3.5.0,>=3.4.0->en-core-web-sm==3.4.1) (4.5.0)\n",
            "Requirement already satisfied: idna<3,>=2.5 in /usr/local/lib/python3.8/dist-packages (from requests<3.0.0,>=2.13.0->spacy<3.5.0,>=3.4.0->en-core-web-sm==3.4.1) (2.10)\n",
            "Requirement already satisfied: urllib3<1.27,>=1.21.1 in /usr/local/lib/python3.8/dist-packages (from requests<3.0.0,>=2.13.0->spacy<3.5.0,>=3.4.0->en-core-web-sm==3.4.1) (1.24.3)\n",
            "Requirement already satisfied: certifi>=2017.4.17 in /usr/local/lib/python3.8/dist-packages (from requests<3.0.0,>=2.13.0->spacy<3.5.0,>=3.4.0->en-core-web-sm==3.4.1) (2022.12.7)\n",
            "Requirement already satisfied: chardet<5,>=3.0.2 in /usr/local/lib/python3.8/dist-packages (from requests<3.0.0,>=2.13.0->spacy<3.5.0,>=3.4.0->en-core-web-sm==3.4.1) (4.0.0)\n",
            "Requirement already satisfied: blis<0.8.0,>=0.7.8 in /usr/local/lib/python3.8/dist-packages (from thinc<8.2.0,>=8.1.0->spacy<3.5.0,>=3.4.0->en-core-web-sm==3.4.1) (0.7.9)\n",
            "Requirement already satisfied: confection<1.0.0,>=0.0.1 in /usr/local/lib/python3.8/dist-packages (from thinc<8.2.0,>=8.1.0->spacy<3.5.0,>=3.4.0->en-core-web-sm==3.4.1) (0.0.4)\n",
            "Requirement already satisfied: click<9.0.0,>=7.1.1 in /usr/local/lib/python3.8/dist-packages (from typer<0.8.0,>=0.3.0->spacy<3.5.0,>=3.4.0->en-core-web-sm==3.4.1) (7.1.2)\n",
            "Requirement already satisfied: MarkupSafe>=0.23 in /usr/local/lib/python3.8/dist-packages (from jinja2->spacy<3.5.0,>=3.4.0->en-core-web-sm==3.4.1) (2.0.1)\n",
            "\u001b[38;5;2m✔ Download and installation successful\u001b[0m\n",
            "You can now load the package via spacy.load('en_core_web_sm')\n",
            "Looking in indexes: https://pypi.org/simple, https://us-python.pkg.dev/colab-wheels/public/simple/\n",
            "Requirement already satisfied: nltk in /usr/local/lib/python3.8/dist-packages (3.7)\n",
            "Requirement already satisfied: joblib in /usr/local/lib/python3.8/dist-packages (from nltk) (1.2.0)\n",
            "Requirement already satisfied: click in /usr/local/lib/python3.8/dist-packages (from nltk) (7.1.2)\n",
            "Requirement already satisfied: regex>=2021.8.3 in /usr/local/lib/python3.8/dist-packages (from nltk) (2022.6.2)\n",
            "Requirement already satisfied: tqdm in /usr/local/lib/python3.8/dist-packages (from nltk) (4.64.1)\n"
          ]
        },
        {
          "output_type": "stream",
          "name": "stderr",
          "text": [
            "[nltk_data] Downloading package punkt to /root/nltk_data...\n",
            "[nltk_data]   Package punkt is already up-to-date!\n",
            "[nltk_data] Downloading package stopwords to /root/nltk_data...\n",
            "[nltk_data]   Package stopwords is already up-to-date!\n"
          ]
        },
        {
          "output_type": "execute_result",
          "data": {
            "text/plain": [
              "True"
            ]
          },
          "metadata": {},
          "execution_count": 1
        }
      ],
      "source": [
        "import sys\n",
        "!{sys.executable} -m pip install spacy\n",
        "!{sys.executable} -m spacy download en_core_web_sm\n",
        "\n",
        "!pip install nltk\n",
        "import nltk\n",
        "nltk.download('punkt')\n",
        "nltk.download('stopwords')\n",
        "\n"
      ]
    },
    {
      "cell_type": "code",
      "source": [
        "nltk.download('punkt')"
      ],
      "metadata": {
        "colab": {
          "base_uri": "https://localhost:8080/"
        },
        "id": "2yIo5DPUug3T",
        "outputId": "0e059ba3-049e-453b-8562-79f3ff6a954b"
      },
      "execution_count": null,
      "outputs": [
        {
          "output_type": "stream",
          "name": "stderr",
          "text": [
            "[nltk_data] Downloading package punkt to /root/nltk_data...\n",
            "[nltk_data]   Package punkt is already up-to-date!\n"
          ]
        },
        {
          "output_type": "execute_result",
          "data": {
            "text/plain": [
              "True"
            ]
          },
          "metadata": {},
          "execution_count": 2
        }
      ]
    },
    {
      "cell_type": "code",
      "source": [
        "import bs4 as bs\n",
        "import urllib.request\n",
        "import re\n",
        "from sklearn.feature_extraction.text import TfidfVectorizer\n",
        "import spacy\n",
        "import numpy as np\n",
        "from nltk.stem import WordNetLemmatizer\n",
        "from nltk.corpus import stopwords\n",
        "from nltk.probability import FreqDist\n",
        "from nltk.util import ngrams\n",
        "from string import punctuation\n",
        "import pandas as pd"
      ],
      "metadata": {
        "colab": {
          "base_uri": "https://localhost:8080/"
        },
        "id": "V0KS9pydfFDw",
        "outputId": "0078f88b-7429-4481-9dfa-746383b10f3f"
      },
      "execution_count": null,
      "outputs": [
        {
          "output_type": "stream",
          "name": "stderr",
          "text": [
            "/usr/local/lib/python3.8/dist-packages/torch/cuda/__init__.py:497: UserWarning: Can't initialize NVML\n",
            "  warnings.warn(\"Can't initialize NVML\")\n"
          ]
        }
      ]
    },
    {
      "cell_type": "markdown",
      "source": [
        "## Webscraping"
      ],
      "metadata": {
        "id": "LOIjYAl0iuoH"
      }
    },
    {
      "cell_type": "markdown",
      "source": [
        "### Task 1"
      ],
      "metadata": {
        "id": "N9dQrZc6izpZ"
      }
    },
    {
      "cell_type": "markdown",
      "source": [
        "#### 1.1"
      ],
      "metadata": {
        "id": "wGqAB6ZYi2lr"
      }
    },
    {
      "cell_type": "code",
      "source": [
        "data_url = \"https://en.wikipedia.org/wiki/Natural_language_processing\""
      ],
      "metadata": {
        "id": "EgVbpbjDeX8l"
      },
      "execution_count": null,
      "outputs": []
    },
    {
      "cell_type": "code",
      "source": [
        "def scrape_webpage(url):\n",
        "  '''\n",
        "  Function for scraping webpage\n",
        "  '''\n",
        "  # Open connection\n",
        "  connection = urllib.request.urlopen(url)\n",
        "\n",
        "  # Read data\n",
        "  data = connection.read()\n",
        "\n",
        "  # Parse xml\n",
        "  parsed = bs.BeautifulSoup(data, 'lxml')\n",
        "\n",
        "  # Get paragraphs\n",
        "  paragraphs = parsed.find_all('p')\n",
        "\n",
        "  # Get text from paragraphs\n",
        "  text = [p.text for p in paragraphs]\n",
        "\n",
        "  # Merge paragraph text into single string\n",
        "  text = '\\n'.join(text)\n",
        "  return text"
      ],
      "metadata": {
        "id": "9PiCJ2QHfGsR"
      },
      "execution_count": null,
      "outputs": []
    },
    {
      "cell_type": "code",
      "source": [
        "# Scrape webpage\n",
        "text = scrape_webpage(data_url)\n",
        "\n",
        "# Print first 1000 char\n",
        "print(text[:500], '...')"
      ],
      "metadata": {
        "colab": {
          "base_uri": "https://localhost:8080/"
        },
        "id": "Ybeoc07YfXeS",
        "outputId": "38027005-89c3-4709-b786-acf26ba95352"
      },
      "execution_count": null,
      "outputs": [
        {
          "output_type": "stream",
          "name": "stdout",
          "text": [
            "Natural language processing (NLP) is an interdisciplinary subfield of linguistics, computer science, and artificial intelligence concerned with the interactions between computers and human language, in particular how to program computers to process and analyze large amounts of natural language data.  The goal is a computer capable of \"understanding\" the contents of documents, including the contextual nuances of the language within them. The technology can then accurately extract information and  ...\n"
          ]
        }
      ]
    },
    {
      "cell_type": "markdown",
      "source": [
        "#### 1.2"
      ],
      "metadata": {
        "id": "KDkB8hk5i6MM"
      }
    },
    {
      "cell_type": "code",
      "source": [
        "'''\n",
        "Parse into sentences\n",
        "'''\n",
        "\n",
        "# Load tokenizer\n",
        "tokenizer = spacy.load('en_core_web_sm')\n",
        "\n",
        "# Process with tokenizer\n",
        "doc = tokenizer(text)\n",
        "\n",
        "# Get sentences\n",
        "sentences_orig = [[token.text for token in sent] for sent in doc.sents if not sent.text.isspace()]\n",
        "print('')\n",
        "print('Sentence examples, original')\n",
        "for i in range(0, 5):\n",
        "  print(f'{i} - {sentences_orig[i]}')\n",
        "\n",
        "print('')\n",
        "print('Sentence count', len(sentences_orig))"
      ],
      "metadata": {
        "colab": {
          "base_uri": "https://localhost:8080/"
        },
        "id": "B2c2RdrMfeiw",
        "outputId": "39ca01c3-da1a-47ea-b1f5-8fae1b6f1fb9"
      },
      "execution_count": null,
      "outputs": [
        {
          "output_type": "stream",
          "name": "stdout",
          "text": [
            "\n",
            "Sentence examples, original\n",
            "0 - ['Natural', 'language', 'processing', '(', 'NLP', ')', 'is', 'an', 'interdisciplinary', 'subfield', 'of', 'linguistics', ',', 'computer', 'science', ',', 'and', 'artificial', 'intelligence', 'concerned', 'with', 'the', 'interactions', 'between', 'computers', 'and', 'human', 'language', ',', 'in', 'particular', 'how', 'to', 'program', 'computers', 'to', 'process', 'and', 'analyze', 'large', 'amounts', 'of', 'natural', 'language', 'data', '.', ' ']\n",
            "1 - ['The', 'goal', 'is', 'a', 'computer', 'capable', 'of', '\"', 'understanding', '\"', 'the', 'contents', 'of', 'documents', ',', 'including', 'the', 'contextual', 'nuances', 'of', 'the', 'language', 'within', 'them', '.']\n",
            "2 - ['The', 'technology', 'can', 'then', 'accurately', 'extract', 'information', 'and', 'insights', 'contained', 'in', 'the', 'documents', 'as', 'well', 'as', 'categorize', 'and', 'organize', 'the', 'documents', 'themselves', '.', '\\n\\n']\n",
            "3 - ['Challenges', 'in', 'natural', 'language', 'processing', 'frequently', 'involve', 'speech', 'recognition', ',', 'natural', '-', 'language', 'understanding', ',', 'and', 'natural', '-', 'language', 'generation', '.']\n",
            "4 - ['Natural', 'language', 'processing', 'has', 'its', 'roots', 'in', 'the', '1950s', '.']\n",
            "\n",
            "Sentence count 42\n"
          ]
        }
      ]
    },
    {
      "cell_type": "code",
      "source": [
        "# Remove whitespace tokens\n",
        "sentences = [[token for token in sent if not token.isspace()] for sent in sentences_orig]\n",
        "\n",
        "print('Sentence examples, no ws')\n",
        "for i in range(0, 5):\n",
        "  print(f'{i} - {sentences[i]}')"
      ],
      "metadata": {
        "colab": {
          "base_uri": "https://localhost:8080/"
        },
        "id": "QpYnI2itgHlB",
        "outputId": "a9029c7b-efe5-46f3-8412-d2ff87307efc"
      },
      "execution_count": null,
      "outputs": [
        {
          "output_type": "stream",
          "name": "stdout",
          "text": [
            "Sentence examples, no ws\n",
            "0 - ['Natural', 'language', 'processing', '(', 'NLP', ')', 'is', 'an', 'interdisciplinary', 'subfield', 'of', 'linguistics', ',', 'computer', 'science', ',', 'and', 'artificial', 'intelligence', 'concerned', 'with', 'the', 'interactions', 'between', 'computers', 'and', 'human', 'language', ',', 'in', 'particular', 'how', 'to', 'program', 'computers', 'to', 'process', 'and', 'analyze', 'large', 'amounts', 'of', 'natural', 'language', 'data', '.']\n",
            "1 - ['The', 'goal', 'is', 'a', 'computer', 'capable', 'of', '\"', 'understanding', '\"', 'the', 'contents', 'of', 'documents', ',', 'including', 'the', 'contextual', 'nuances', 'of', 'the', 'language', 'within', 'them', '.']\n",
            "2 - ['The', 'technology', 'can', 'then', 'accurately', 'extract', 'information', 'and', 'insights', 'contained', 'in', 'the', 'documents', 'as', 'well', 'as', 'categorize', 'and', 'organize', 'the', 'documents', 'themselves', '.']\n",
            "3 - ['Challenges', 'in', 'natural', 'language', 'processing', 'frequently', 'involve', 'speech', 'recognition', ',', 'natural', '-', 'language', 'understanding', ',', 'and', 'natural', '-', 'language', 'generation', '.']\n",
            "4 - ['Natural', 'language', 'processing', 'has', 'its', 'roots', 'in', 'the', '1950s', '.']\n"
          ]
        }
      ]
    },
    {
      "cell_type": "code",
      "source": [
        "# Get sentences lengths\n",
        "sentences_length = np.array([len(sent) for sent in sentences])\n",
        "\n",
        "print(f'Sentence lengths:\\n{sentences_length}')"
      ],
      "metadata": {
        "colab": {
          "base_uri": "https://localhost:8080/"
        },
        "id": "0wpO8AWqgRtb",
        "outputId": "8be141a5-d014-479a-8f02-208b068455e7"
      },
      "execution_count": null,
      "outputs": [
        {
          "output_type": "stream",
          "name": "stdout",
          "text": [
            "Sentence lengths:\n",
            "[46 25 23 21 10 47 17 58 21 27 77 40 79 66 49 19 20 50 40 31 52 19 43 18\n",
            " 18 14 20 61 39 56 18 28 18  7 20 42 32 25 54 66 68 46]\n"
          ]
        }
      ]
    },
    {
      "cell_type": "code",
      "source": [
        "# Remove punctuation\n",
        "sentences = [[token for token in sent if not token in punctuation] for sent in sentences]\n",
        "\n",
        "print('Sentence examples, no punct')\n",
        "for i in range(0, 5):\n",
        "  print(f'{i} - {sentences[i]}')"
      ],
      "metadata": {
        "colab": {
          "base_uri": "https://localhost:8080/"
        },
        "id": "hGO8ISmqgU6w",
        "outputId": "6218e80a-2c93-4c94-8309-5c4d2ca12e99"
      },
      "execution_count": null,
      "outputs": [
        {
          "output_type": "stream",
          "name": "stdout",
          "text": [
            "Sentence examples, no punct\n",
            "0 - ['Natural', 'language', 'processing', 'NLP', 'is', 'an', 'interdisciplinary', 'subfield', 'of', 'linguistics', 'computer', 'science', 'and', 'artificial', 'intelligence', 'concerned', 'with', 'the', 'interactions', 'between', 'computers', 'and', 'human', 'language', 'in', 'particular', 'how', 'to', 'program', 'computers', 'to', 'process', 'and', 'analyze', 'large', 'amounts', 'of', 'natural', 'language', 'data']\n",
            "1 - ['The', 'goal', 'is', 'a', 'computer', 'capable', 'of', 'understanding', 'the', 'contents', 'of', 'documents', 'including', 'the', 'contextual', 'nuances', 'of', 'the', 'language', 'within', 'them']\n",
            "2 - ['The', 'technology', 'can', 'then', 'accurately', 'extract', 'information', 'and', 'insights', 'contained', 'in', 'the', 'documents', 'as', 'well', 'as', 'categorize', 'and', 'organize', 'the', 'documents', 'themselves']\n",
            "3 - ['Challenges', 'in', 'natural', 'language', 'processing', 'frequently', 'involve', 'speech', 'recognition', 'natural', 'language', 'understanding', 'and', 'natural', 'language', 'generation']\n",
            "4 - ['Natural', 'language', 'processing', 'has', 'its', 'roots', 'in', 'the', '1950s']\n"
          ]
        }
      ]
    },
    {
      "cell_type": "code",
      "source": [
        "# Remove numbers\n",
        "sentences = [[token for token in sent if not re.match(r'^\\d+$', token)] for sent in sentences]\n",
        "\n",
        "print('Sentence examples, no punct')\n",
        "for i in range(0, 5):\n",
        "  print(f'{i} - {sentences[i]}')"
      ],
      "metadata": {
        "colab": {
          "base_uri": "https://localhost:8080/"
        },
        "id": "Orpo6qu0gX31",
        "outputId": "cf94381a-0150-41cb-fa1d-de649f2312bf"
      },
      "execution_count": null,
      "outputs": [
        {
          "output_type": "stream",
          "name": "stdout",
          "text": [
            "Sentence examples, no punct\n",
            "0 - ['Natural', 'language', 'processing', 'NLP', 'is', 'an', 'interdisciplinary', 'subfield', 'of', 'linguistics', 'computer', 'science', 'and', 'artificial', 'intelligence', 'concerned', 'with', 'the', 'interactions', 'between', 'computers', 'and', 'human', 'language', 'in', 'particular', 'how', 'to', 'program', 'computers', 'to', 'process', 'and', 'analyze', 'large', 'amounts', 'of', 'natural', 'language', 'data']\n",
            "1 - ['The', 'goal', 'is', 'a', 'computer', 'capable', 'of', 'understanding', 'the', 'contents', 'of', 'documents', 'including', 'the', 'contextual', 'nuances', 'of', 'the', 'language', 'within', 'them']\n",
            "2 - ['The', 'technology', 'can', 'then', 'accurately', 'extract', 'information', 'and', 'insights', 'contained', 'in', 'the', 'documents', 'as', 'well', 'as', 'categorize', 'and', 'organize', 'the', 'documents', 'themselves']\n",
            "3 - ['Challenges', 'in', 'natural', 'language', 'processing', 'frequently', 'involve', 'speech', 'recognition', 'natural', 'language', 'understanding', 'and', 'natural', 'language', 'generation']\n",
            "4 - ['Natural', 'language', 'processing', 'has', 'its', 'roots', 'in', 'the', '1950s']\n"
          ]
        }
      ]
    },
    {
      "cell_type": "code",
      "source": [
        "# sentences = [[token for token in sent if re.search('[\\w]', token)] for sent in sentences]\n",
        "# print('Sentence examples, no punct')\n",
        "# for i in range(0, 5):\n",
        "#   print(f'{i} - {sentences[i]}')"
      ],
      "metadata": {
        "id": "LsDhaw_iJByO"
      },
      "execution_count": null,
      "outputs": []
    },
    {
      "cell_type": "code",
      "source": [
        "# Lower case\n",
        "sentences = [[token.lower() for token in sent] for sent in sentences]\n",
        "\n",
        "print('Sentence examples, lower case')\n",
        "for i in range(0, 5):\n",
        "  print(f'{i} - {sentences[i]}')"
      ],
      "metadata": {
        "colab": {
          "base_uri": "https://localhost:8080/"
        },
        "id": "aCI2EVvWgeZH",
        "outputId": "8f74e4f9-5132-4c0e-ee18-69c4b535b99f"
      },
      "execution_count": null,
      "outputs": [
        {
          "output_type": "stream",
          "name": "stdout",
          "text": [
            "Sentence examples, lower case\n",
            "0 - ['natural', 'language', 'processing', 'nlp', 'is', 'an', 'interdisciplinary', 'subfield', 'of', 'linguistics', 'computer', 'science', 'and', 'artificial', 'intelligence', 'concerned', 'with', 'the', 'interactions', 'between', 'computers', 'and', 'human', 'language', 'in', 'particular', 'how', 'to', 'program', 'computers', 'to', 'process', 'and', 'analyze', 'large', 'amounts', 'of', 'natural', 'language', 'data']\n",
            "1 - ['the', 'goal', 'is', 'a', 'computer', 'capable', 'of', 'understanding', 'the', 'contents', 'of', 'documents', 'including', 'the', 'contextual', 'nuances', 'of', 'the', 'language', 'within', 'them']\n",
            "2 - ['the', 'technology', 'can', 'then', 'accurately', 'extract', 'information', 'and', 'insights', 'contained', 'in', 'the', 'documents', 'as', 'well', 'as', 'categorize', 'and', 'organize', 'the', 'documents', 'themselves']\n",
            "3 - ['challenges', 'in', 'natural', 'language', 'processing', 'frequently', 'involve', 'speech', 'recognition', 'natural', 'language', 'understanding', 'and', 'natural', 'language', 'generation']\n",
            "4 - ['natural', 'language', 'processing', 'has', 'its', 'roots', 'in', 'the', '1950s']\n"
          ]
        }
      ]
    },
    {
      "cell_type": "code",
      "source": [
        "# Remove stop words\n",
        "sw = stopwords.words('english')\n",
        "sentences = [[token for token in sent if token not in sw] for sent in sentences]\n",
        "\n",
        "print('Sentence examples, no stop words')\n",
        "for i in range(0, 5):\n",
        "  print(f'{i} - {sentences[i]}')"
      ],
      "metadata": {
        "colab": {
          "base_uri": "https://localhost:8080/"
        },
        "id": "_KaTEeTCgimh",
        "outputId": "31db2f3b-08e6-4bbd-aaf2-dfde514065f1"
      },
      "execution_count": null,
      "outputs": [
        {
          "output_type": "stream",
          "name": "stdout",
          "text": [
            "Sentence examples, no stop words\n",
            "0 - ['natural', 'language', 'processing', 'nlp', 'interdisciplinary', 'subfield', 'linguistics', 'computer', 'science', 'artificial', 'intelligence', 'concerned', 'interactions', 'computers', 'human', 'language', 'particular', 'program', 'computers', 'process', 'analyze', 'large', 'amounts', 'natural', 'language', 'data']\n",
            "1 - ['goal', 'computer', 'capable', 'understanding', 'contents', 'documents', 'including', 'contextual', 'nuances', 'language', 'within']\n",
            "2 - ['technology', 'accurately', 'extract', 'information', 'insights', 'contained', 'documents', 'well', 'categorize', 'organize', 'documents']\n",
            "3 - ['challenges', 'natural', 'language', 'processing', 'frequently', 'involve', 'speech', 'recognition', 'natural', 'language', 'understanding', 'natural', 'language', 'generation']\n",
            "4 - ['natural', 'language', 'processing', 'roots', '1950s']\n"
          ]
        }
      ]
    },
    {
      "cell_type": "code",
      "source": [
        "# Make tokens list from all the sentences\n",
        "tokens = []\n",
        "for each in sentences:\n",
        "  tokens.extend(each)"
      ],
      "metadata": {
        "id": "vYoddZn5gmJR"
      },
      "execution_count": null,
      "outputs": []
    },
    {
      "cell_type": "markdown",
      "source": [
        "#### 1.3"
      ],
      "metadata": {
        "id": "rzG5uqsMjJiK"
      }
    },
    {
      "cell_type": "code",
      "source": [
        "# create frequency distribution of unigram tokens\n",
        "freq_dist = FreqDist(tokens)"
      ],
      "metadata": {
        "id": "dHxAYDFOh893"
      },
      "execution_count": null,
      "outputs": []
    },
    {
      "cell_type": "code",
      "source": [
        "# top 10 common words\n",
        "freq_dist.most_common(10)"
      ],
      "metadata": {
        "colab": {
          "base_uri": "https://localhost:8080/"
        },
        "id": "iYyPu1vUiGtg",
        "outputId": "9d9e7149-b4d9-4b9f-a669-c4b18e600746"
      },
      "execution_count": null,
      "outputs": [
        {
          "output_type": "execute_result",
          "data": {
            "text/plain": [
              "[('language', 28),\n",
              " ('natural', 20),\n",
              " ('nlp', 17),\n",
              " ('processing', 15),\n",
              " ('machine', 13),\n",
              " ('learning', 13),\n",
              " ('cognitive', 13),\n",
              " ('statistical', 12),\n",
              " ('tasks', 10),\n",
              " ('rules', 9)]"
            ]
          },
          "metadata": {},
          "execution_count": 17
        }
      ]
    },
    {
      "cell_type": "code",
      "source": [
        "# pattern = re.compile(r\"(.)*(\\[[0-9]+)\", re.IGNORECASE)\n",
        "# m = pattern.match(\"observed:[41\")"
      ],
      "metadata": {
        "id": "mQA5PmTBm1R4"
      },
      "execution_count": null,
      "outputs": []
    },
    {
      "cell_type": "markdown",
      "source": [
        "#### 1.4"
      ],
      "metadata": {
        "id": "ArTilcOrjaW4"
      }
    },
    {
      "cell_type": "code",
      "source": [
        "# Convert sent from list of tokens to string for tfidf module\n",
        "sentences = [' '.join(sent) for sent in sentences]\n",
        "\n",
        "print('Sentence examples, as string')\n",
        "for i in range(0, 5):\n",
        "  print(f'{i} - {sentences[i]}')"
      ],
      "metadata": {
        "colab": {
          "base_uri": "https://localhost:8080/"
        },
        "id": "3iwsFcWDwQaZ",
        "outputId": "d6ed8b22-e0a7-4a45-f44c-726de46b9a8f"
      },
      "execution_count": null,
      "outputs": [
        {
          "output_type": "stream",
          "name": "stdout",
          "text": [
            "Sentence examples, as string\n",
            "0 - natural language processing nlp interdisciplinary subfield linguistics computer science artificial intelligence concerned interactions computers human language particular program computers process analyze large amounts natural language data\n",
            "1 - goal computer capable understanding contents documents including contextual nuances language within\n",
            "2 - technology accurately extract information insights contained documents well categorize organize documents\n",
            "3 - challenges natural language processing frequently involve speech recognition natural language understanding natural language generation\n",
            "4 - natural language processing roots 1950s\n"
          ]
        }
      ]
    },
    {
      "cell_type": "code",
      "source": [
        "# Tf-IDf vectorizer for unigrams\n",
        "vectorizer = TfidfVectorizer( \\\n",
        "                            ngram_range = (1,1),    # use unigrams  / (1,2) yields unigrams and brigrams\n",
        "                            min_df = 10,             # vocab based on tokens that have doc freq of 1\n",
        "                            use_idf = False,         # use idf?\n",
        "                            norm = None)\n",
        "\n",
        "# \"Train\"/fit\n",
        "# Note - X is a spare matrix\n",
        "tfidf_sparse = vectorizer.fit_transform(sentences)\n",
        "print('')\n",
        "print('tfidf_sparse, values', tfidf_sparse)\n",
        "print('tfidf_sparse, shape ', tfidf_sparse.shape)\n",
        "\n",
        "# Feature names\n",
        "print('')\n",
        "print('Features, names', vectorizer.get_feature_names_out())\n",
        "print('Features, count', len(vectorizer.get_feature_names_out()))"
      ],
      "metadata": {
        "colab": {
          "base_uri": "https://localhost:8080/"
        },
        "id": "90fKjqvGp9Qd",
        "outputId": "8bca1526-5b64-42b9-9f88-b98c34fa92d9"
      },
      "execution_count": null,
      "outputs": [
        {
          "output_type": "stream",
          "name": "stdout",
          "text": [
            "\n",
            "tfidf_sparse, values   (0, 1)\t2.0\n",
            "  (0, 0)\t3.0\n",
            "  (0, 3)\t1.0\n",
            "  (0, 2)\t1.0\n",
            "  (1, 0)\t1.0\n",
            "  (3, 1)\t3.0\n",
            "  (3, 0)\t3.0\n",
            "  (3, 3)\t1.0\n",
            "  (4, 1)\t1.0\n",
            "  (4, 0)\t1.0\n",
            "  (4, 3)\t1.0\n",
            "  (6, 1)\t1.0\n",
            "  (6, 0)\t1.0\n",
            "  (7, 1)\t1.0\n",
            "  (7, 0)\t1.0\n",
            "  (7, 2)\t2.0\n",
            "  (8, 1)\t1.0\n",
            "  (8, 0)\t1.0\n",
            "  (8, 3)\t1.0\n",
            "  (9, 1)\t1.0\n",
            "  (9, 0)\t2.0\n",
            "  (9, 3)\t2.0\n",
            "  (10, 1)\t1.0\n",
            "  (10, 0)\t2.0\n",
            "  (10, 3)\t2.0\n",
            "  :\t:\n",
            "  (28, 0)\t1.0\n",
            "  (28, 3)\t1.0\n",
            "  (28, 2)\t1.0\n",
            "  (28, 4)\t1.0\n",
            "  (29, 0)\t1.0\n",
            "  (29, 4)\t1.0\n",
            "  (30, 1)\t1.0\n",
            "  (30, 0)\t1.0\n",
            "  (30, 3)\t1.0\n",
            "  (32, 1)\t1.0\n",
            "  (32, 0)\t1.0\n",
            "  (32, 3)\t1.0\n",
            "  (34, 2)\t1.0\n",
            "  (35, 1)\t1.0\n",
            "  (35, 0)\t1.0\n",
            "  (35, 2)\t1.0\n",
            "  (36, 2)\t1.0\n",
            "  (38, 2)\t1.0\n",
            "  (39, 1)\t1.0\n",
            "  (39, 0)\t1.0\n",
            "  (39, 3)\t1.0\n",
            "  (39, 2)\t2.0\n",
            "  (39, 4)\t1.0\n",
            "  (40, 2)\t1.0\n",
            "  (41, 2)\t3.0\n",
            "tfidf_sparse, shape  (42, 5)\n",
            "\n",
            "Features, names ['language' 'natural' 'nlp' 'processing' 'statistical']\n",
            "Features, count 5\n"
          ]
        }
      ]
    },
    {
      "cell_type": "code",
      "source": [
        "# Rows are sentences\n",
        "# Columns are feature values\n",
        "tfidf = tfidf_sparse.todense()\n",
        "print('tfidf, values', tfidf)\n",
        "print('tfidf, shape ', tfidf.shape)\n",
        "\n"
      ],
      "metadata": {
        "colab": {
          "base_uri": "https://localhost:8080/"
        },
        "id": "Y7r5P2fHwGdk",
        "outputId": "0432fe2e-2bea-4967-f41f-b05b3f5b9cbe"
      },
      "execution_count": null,
      "outputs": [
        {
          "output_type": "stream",
          "name": "stdout",
          "text": [
            "tfidf, values [[3. 2. 1. 1. 0.]\n",
            " [1. 0. 0. 0. 0.]\n",
            " [0. 0. 0. 0. 0.]\n",
            " [3. 3. 0. 1. 0.]\n",
            " [1. 1. 0. 1. 0.]\n",
            " [0. 0. 0. 0. 0.]\n",
            " [1. 1. 0. 0. 0.]\n",
            " [1. 1. 2. 0. 0.]\n",
            " [1. 1. 0. 1. 0.]\n",
            " [2. 1. 0. 2. 0.]\n",
            " [2. 1. 0. 2. 0.]\n",
            " [2. 1. 0. 0. 0.]\n",
            " [1. 0. 1. 1. 0.]\n",
            " [1. 1. 1. 1. 1.]\n",
            " [0. 0. 0. 0. 1.]\n",
            " [1. 1. 0. 1. 0.]\n",
            " [0. 0. 0. 0. 0.]\n",
            " [0. 0. 0. 0. 1.]\n",
            " [0. 0. 0. 0. 0.]\n",
            " [0. 0. 0. 0. 0.]\n",
            " [1. 1. 0. 1. 1.]\n",
            " [1. 0. 0. 0. 1.]\n",
            " [0. 0. 0. 0. 0.]\n",
            " [0. 0. 1. 0. 1.]\n",
            " [0. 0. 0. 0. 1.]\n",
            " [0. 0. 0. 0. 1.]\n",
            " [0. 0. 0. 0. 1.]\n",
            " [0. 0. 0. 0. 0.]\n",
            " [1. 1. 1. 1. 1.]\n",
            " [1. 0. 0. 0. 1.]\n",
            " [1. 1. 0. 1. 0.]\n",
            " [0. 0. 0. 0. 0.]\n",
            " [1. 1. 0. 1. 0.]\n",
            " [0. 0. 0. 0. 0.]\n",
            " [0. 0. 1. 0. 0.]\n",
            " [1. 1. 1. 0. 0.]\n",
            " [0. 0. 1. 0. 0.]\n",
            " [0. 0. 0. 0. 0.]\n",
            " [0. 0. 1. 0. 0.]\n",
            " [1. 1. 2. 1. 1.]\n",
            " [0. 0. 1. 0. 0.]\n",
            " [0. 0. 3. 0. 0.]]\n",
            "tfidf, shape  (42, 5)\n"
          ]
        }
      ]
    },
    {
      "cell_type": "code",
      "source": [
        "# Sum tfidf scores for each sentence\n",
        "sentences_sum = np.sum(tfidf, axis=1)\n",
        "\n",
        "# Count number of nonzero scores in each sentence\n",
        "#sentences_count_nonzero = np.sum(tfidf > 0, axis=1) + 1\n",
        "\n",
        "# Calc average score per tokens\n",
        "sentences_scores_array = sentences_sum/sentences_length\n",
        "#sentences_scores_array = sentences_sum\n",
        "\n",
        "print(f'sentences_sum, shape: {sentences_sum.shape}')\n",
        "\n",
        "print(f'sentences_scores_array, values:\\n{sentences_sum[:10]}...')\n",
        "#print(f'sentences_count_nonzero, values:\\n{sentences_count_nonzero[:10]}...')\n",
        "print(f'sentences_scores_array, values:\\n{sentences_scores_array[:10]}...')\n",
        "\n"
      ],
      "metadata": {
        "colab": {
          "base_uri": "https://localhost:8080/"
        },
        "id": "3jO8mzF1wY-G",
        "outputId": "16c3654d-6c51-4196-b014-beca57c19711"
      },
      "execution_count": null,
      "outputs": [
        {
          "output_type": "stream",
          "name": "stdout",
          "text": [
            "sentences_sum, shape: (42, 1)\n",
            "sentences_scores_array, values:\n",
            "[[7.]\n",
            " [1.]\n",
            " [0.]\n",
            " [7.]\n",
            " [3.]\n",
            " [0.]\n",
            " [2.]\n",
            " [4.]\n",
            " [3.]\n",
            " [5.]]...\n",
            "sentences_scores_array, values:\n",
            "[[0.15217391 0.28       0.30434783 0.33333333 0.7        0.14893617\n",
            "  0.41176471 0.12068966 0.33333333 0.25925926 0.09090909 0.175\n",
            "  0.08860759 0.10606061 0.14285714 0.36842105 0.35       0.14\n",
            "  0.175      0.22580645 0.13461538 0.36842105 0.1627907  0.38888889\n",
            "  0.38888889 0.5        0.35       0.1147541  0.17948718 0.125\n",
            "  0.38888889 0.25       0.38888889 1.         0.35       0.16666667\n",
            "  0.21875    0.28       0.12962963 0.10606061 0.10294118 0.15217391]\n",
            " [0.02173913 0.04       0.04347826 0.04761905 0.1        0.0212766\n",
            "  0.05882353 0.01724138 0.04761905 0.03703704 0.01298701 0.025\n",
            "  0.01265823 0.01515152 0.02040816 0.05263158 0.05       0.02\n",
            "  0.025      0.03225806 0.01923077 0.05263158 0.02325581 0.05555556\n",
            "  0.05555556 0.07142857 0.05       0.01639344 0.02564103 0.01785714\n",
            "  0.05555556 0.03571429 0.05555556 0.14285714 0.05       0.02380952\n",
            "  0.03125    0.04       0.01851852 0.01515152 0.01470588 0.02173913]\n",
            " [0.         0.         0.         0.         0.         0.\n",
            "  0.         0.         0.         0.         0.         0.\n",
            "  0.         0.         0.         0.         0.         0.\n",
            "  0.         0.         0.         0.         0.         0.\n",
            "  0.         0.         0.         0.         0.         0.\n",
            "  0.         0.         0.         0.         0.         0.\n",
            "  0.         0.         0.         0.         0.         0.        ]\n",
            " [0.15217391 0.28       0.30434783 0.33333333 0.7        0.14893617\n",
            "  0.41176471 0.12068966 0.33333333 0.25925926 0.09090909 0.175\n",
            "  0.08860759 0.10606061 0.14285714 0.36842105 0.35       0.14\n",
            "  0.175      0.22580645 0.13461538 0.36842105 0.1627907  0.38888889\n",
            "  0.38888889 0.5        0.35       0.1147541  0.17948718 0.125\n",
            "  0.38888889 0.25       0.38888889 1.         0.35       0.16666667\n",
            "  0.21875    0.28       0.12962963 0.10606061 0.10294118 0.15217391]\n",
            " [0.06521739 0.12       0.13043478 0.14285714 0.3        0.06382979\n",
            "  0.17647059 0.05172414 0.14285714 0.11111111 0.03896104 0.075\n",
            "  0.03797468 0.04545455 0.06122449 0.15789474 0.15       0.06\n",
            "  0.075      0.09677419 0.05769231 0.15789474 0.06976744 0.16666667\n",
            "  0.16666667 0.21428571 0.15       0.04918033 0.07692308 0.05357143\n",
            "  0.16666667 0.10714286 0.16666667 0.42857143 0.15       0.07142857\n",
            "  0.09375    0.12       0.05555556 0.04545455 0.04411765 0.06521739]\n",
            " [0.         0.         0.         0.         0.         0.\n",
            "  0.         0.         0.         0.         0.         0.\n",
            "  0.         0.         0.         0.         0.         0.\n",
            "  0.         0.         0.         0.         0.         0.\n",
            "  0.         0.         0.         0.         0.         0.\n",
            "  0.         0.         0.         0.         0.         0.\n",
            "  0.         0.         0.         0.         0.         0.        ]\n",
            " [0.04347826 0.08       0.08695652 0.0952381  0.2        0.04255319\n",
            "  0.11764706 0.03448276 0.0952381  0.07407407 0.02597403 0.05\n",
            "  0.02531646 0.03030303 0.04081633 0.10526316 0.1        0.04\n",
            "  0.05       0.06451613 0.03846154 0.10526316 0.04651163 0.11111111\n",
            "  0.11111111 0.14285714 0.1        0.03278689 0.05128205 0.03571429\n",
            "  0.11111111 0.07142857 0.11111111 0.28571429 0.1        0.04761905\n",
            "  0.0625     0.08       0.03703704 0.03030303 0.02941176 0.04347826]\n",
            " [0.08695652 0.16       0.17391304 0.19047619 0.4        0.08510638\n",
            "  0.23529412 0.06896552 0.19047619 0.14814815 0.05194805 0.1\n",
            "  0.05063291 0.06060606 0.08163265 0.21052632 0.2        0.08\n",
            "  0.1        0.12903226 0.07692308 0.21052632 0.09302326 0.22222222\n",
            "  0.22222222 0.28571429 0.2        0.06557377 0.1025641  0.07142857\n",
            "  0.22222222 0.14285714 0.22222222 0.57142857 0.2        0.0952381\n",
            "  0.125      0.16       0.07407407 0.06060606 0.05882353 0.08695652]\n",
            " [0.06521739 0.12       0.13043478 0.14285714 0.3        0.06382979\n",
            "  0.17647059 0.05172414 0.14285714 0.11111111 0.03896104 0.075\n",
            "  0.03797468 0.04545455 0.06122449 0.15789474 0.15       0.06\n",
            "  0.075      0.09677419 0.05769231 0.15789474 0.06976744 0.16666667\n",
            "  0.16666667 0.21428571 0.15       0.04918033 0.07692308 0.05357143\n",
            "  0.16666667 0.10714286 0.16666667 0.42857143 0.15       0.07142857\n",
            "  0.09375    0.12       0.05555556 0.04545455 0.04411765 0.06521739]\n",
            " [0.10869565 0.2        0.2173913  0.23809524 0.5        0.10638298\n",
            "  0.29411765 0.0862069  0.23809524 0.18518519 0.06493506 0.125\n",
            "  0.06329114 0.07575758 0.10204082 0.26315789 0.25       0.1\n",
            "  0.125      0.16129032 0.09615385 0.26315789 0.11627907 0.27777778\n",
            "  0.27777778 0.35714286 0.25       0.08196721 0.12820513 0.08928571\n",
            "  0.27777778 0.17857143 0.27777778 0.71428571 0.25       0.11904762\n",
            "  0.15625    0.2        0.09259259 0.07575758 0.07352941 0.10869565]]...\n"
          ]
        }
      ]
    },
    {
      "cell_type": "code",
      "source": [
        "sentences_scores_list = sentences_scores_array.tolist()\n",
        "sentences_scores_list = [sent[0] for sent in sentences_scores_list]\n",
        "print('sentences_scores_array, values', sentences_scores_list)\n",
        "print('sentences_scores_array, shape ', len(sentences_scores_list))"
      ],
      "metadata": {
        "colab": {
          "base_uri": "https://localhost:8080/"
        },
        "id": "PwkwV12iwmq6",
        "outputId": "9810e26a-8b55-4f90-a4a4-5e0ce1f92ac8"
      },
      "execution_count": null,
      "outputs": [
        {
          "output_type": "stream",
          "name": "stdout",
          "text": [
            "sentences_scores_array, values [0.15217391304347827, 0.021739130434782608, 0.0, 0.15217391304347827, 0.06521739130434782, 0.0, 0.043478260869565216, 0.08695652173913043, 0.06521739130434782, 0.10869565217391304, 0.10869565217391304, 0.06521739130434782, 0.06521739130434782, 0.10869565217391304, 0.021739130434782608, 0.06521739130434782, 0.0, 0.021739130434782608, 0.0, 0.0, 0.08695652173913043, 0.043478260869565216, 0.0, 0.043478260869565216, 0.021739130434782608, 0.021739130434782608, 0.021739130434782608, 0.0, 0.10869565217391304, 0.043478260869565216, 0.06521739130434782, 0.0, 0.06521739130434782, 0.0, 0.021739130434782608, 0.06521739130434782, 0.021739130434782608, 0.0, 0.021739130434782608, 0.13043478260869565, 0.021739130434782608, 0.06521739130434782]\n",
            "sentences_scores_array, shape  42\n"
          ]
        }
      ]
    },
    {
      "cell_type": "markdown",
      "source": [
        "#### 1.5"
      ],
      "metadata": {
        "id": "mX4oe6uXjkTO"
      }
    },
    {
      "cell_type": "code",
      "source": [
        "# Mapping sentence scores with original sentences list in descending order (Ranking the sentences)\n",
        "assert len(sentences_scores_list) == len(sentences)\n",
        "sentences_orig_string = [' '.join(sent) for sent in sentences_orig]\n",
        "\n",
        "sentence_pairs = list(zip(sentences_scores_list, sentences_orig_string))\n",
        "sentence_pairs.sort(key = lambda x: x[0], reverse=True)\n",
        "\n",
        "for s in sentence_pairs:\n",
        "    print(s)"
      ],
      "metadata": {
        "colab": {
          "base_uri": "https://localhost:8080/"
        },
        "id": "3zwNt4rHwwSB",
        "outputId": "35e66ad5-ae37-40b2-de3f-e4128ab6352f"
      },
      "execution_count": null,
      "outputs": [
        {
          "output_type": "stream",
          "name": "stdout",
          "text": [
            "(0.15217391304347827, 'Natural language processing ( NLP ) is an interdisciplinary subfield of linguistics , computer science , and artificial intelligence concerned with the interactions between computers and human language , in particular how to program computers to process and analyze large amounts of natural language data .  ')\n",
            "(0.15217391304347827, 'Challenges in natural language processing frequently involve speech recognition , natural - language understanding , and natural - language generation .')\n",
            "(0.13043478260869565, 'As an example , George Lakoff offers a methodology to build natural language processing ( NLP ) algorithms through the perspective of cognitive science , along with the findings of cognitive linguistics,[45 ] with two defining aspects : \\n\\n Ties with cognitive linguistics are part of the historical heritage of NLP , but they have been less frequently addressed since the statistical turn during the 1990s .')\n",
            "(0.10869565217391304, 'Starting in the late 1980s , however , there was a revolution in natural language processing with the introduction of machine learning algorithms for language processing .  ')\n",
            "(0.10869565217391304, \"This was due to both the steady increase in computational power ( see Moore 's law ) and the gradual lessening of the dominance of Chomskyan theories of linguistics ( e.g. transformational grammar ) , whose theoretical underpinnings discouraged the sort of corpus linguistics that underlies the machine - learning approach to language processing.[7 ] \\n\\n In the 2010s , representation learning and deep neural network - style machine learning methods became widespread in natural language processing .\")\n",
            "(0.10869565217391304, 'More recent systems based on machine - learning algorithms have many advantages over hand - produced rules : \\n\\n Despite the popularity of machine learning in NLP research , symbolic methods are still ( 2020 ) commonly used : \\n\\n Since the so - called \" statistical revolution\"[16][17 ] in the late 1980s and mid-1990s , much natural language processing research has relied heavily on machine learning .')\n",
            "(0.10869565217391304, 'In some areas , this shift has entailed substantial changes in how NLP systems are designed , such that deep neural network - based approaches may be viewed as a new paradigm distinct from statistical natural language processing .')\n",
            "(0.08695652173913043, \"The premise of symbolic NLP is well - summarized by John Searle 's Chinese room experiment : Given a collection of rules ( e.g. , a Chinese phrasebook , with questions and matching answers ) , the computer emulates natural language understanding ( or other NLP tasks ) by applying those rules to the data it confronts .\")\n",
            "(0.08695652173913043, 'However , part - of - speech tagging introduced the use of hidden Markov models to natural language processing , and increasingly , research has focused on statistical models , which make soft , probabilistic decisions based on attaching real - valued weights to the features making up the input data .')\n",
            "(0.06521739130434782, 'Natural language processing has its roots in the 1950s .')\n",
            "(0.06521739130434782, 'Up to the 1980s , most natural language processing systems were based on complex sets of hand - written rules .  ')\n",
            "(0.06521739130434782, 'That popularity was due partly to a flurry of results showing that such techniques[8][9 ] can achieve state - of - the - art results in many natural language tasks , e.g. , in language modeling[10 ] and parsing.[11][12 ]')\n",
            "(0.06521739130434782, 'This is increasingly important in medicine and healthcare , where NLP helps analyze notes and text in electronic health records that would otherwise be inaccessible for study when seeking to improve care.[13 ] \\n\\n In the early days , many language - processing systems were designed by symbolic methods , i.e. , the hand - coding of a set of rules , coupled with a dictionary lookup:[14][15 ] such as by writing grammars or devising heuristic rules for stemming . \\n\\n')\n",
            "(0.06521739130434782, 'Many different classes of machine - learning algorithms have been applied to natural - language - processing tasks .')\n",
            "(0.06521739130434782, 'The following is a list of some of the most commonly researched tasks in natural language processing .')\n",
            "(0.06521739130434782, 'Though natural language processing tasks are closely intertwined , they can be subdivided into categories for convenience .')\n",
            "(0.06521739130434782, 'As of 2020 , three trends among the topics of the long - standing series of CoNLL Shared Tasks can be observed:[41 ] \\n\\n Most higher - level NLP applications involve aspects that emulate intelligent behaviour and apparent comprehension of natural language .')\n",
            "(0.06521739130434782, 'More recently , ideas of cognitive NLP have been revived as an approach to achieve explainability , e.g. , under the notion of \" cognitive AI\".[51 ] Likewise , ideas of cognitive NLP are inherent to neural models multimodal NLP ( although rarely made explicit).[52 ] \\n')\n",
            "(0.043478260869565216, 'The proposed test includes a task that involves the automated interpretation and generation of natural language . \\n\\n')\n",
            "(0.043478260869565216, 'The cache language models upon which many speech recognition systems now rely are examples of such statistical models .  ')\n",
            "(0.043478260869565216, 'Since the neural turn , statistical methods in NLP research have been largely replaced by neural networks .')\n",
            "(0.043478260869565216, 'For instance , the term neural machine translation ( NMT ) emphasizes the fact that deep learning - based approaches to machine translation directly learn sequence - to - sequence transformations , obviating the need for intermediate steps such as word alignment and language modeling that was used in statistical machine translation ( SMT ) . \\n\\n')\n",
            "(0.021739130434782608, 'The goal is a computer capable of \" understanding \" the contents of documents , including the contextual nuances of the language within them .')\n",
            "(0.021739130434782608, 'The machine - learning paradigm calls instead for using statistical inference to automatically learn such rules through the analysis of large corpora ( the plural form of corpus , is a set of documents , possibly with human or computer annotations ) of typical real - world examples . \\n\\n')\n",
            "(0.021739130434782608, 'Increasingly , however , research has focused on statistical models , which make soft , probabilistic decisions based on attaching real - valued weights to each input feature ( complex - valued embeddings,[18 ] and neural networks in general have also been proposed , for e.g. speech[19 ] ) .')\n",
            "(0.021739130434782608, 'However , they continue to be relevant for contexts in which statistical interpretability and transparency is required . \\n\\n')\n",
            "(0.021739130434782608, 'A major drawback of statistical methods is that they require elaborate feature engineering .')\n",
            "(0.021739130434782608, 'Since 2015,[20 ] the field has thus largely abandoned statistical methods and shifted to neural networks for machine learning .')\n",
            "(0.021739130434782608, 'Based on long - standing trends in the field , it is possible to extrapolate future directions of NLP .')\n",
            "(0.021739130434782608, 'More broadly speaking , the technical operationalization of increasingly advanced aspects of cognitive behaviour represents one of the developmental trajectories of NLP ( see trends among CoNLL shared tasks above ) . \\n\\n')\n",
            "(0.021739130434782608, 'Cognitive science is the interdisciplinary , scientific study of the mind and its processes.[43 ] Cognitive linguistics is an interdisciplinary branch of linguistics , combining knowledge and research from both psychology and linguistics.[44 ] Especially during the age of symbolic NLP , the area of computational linguistics maintained strong ties with cognitive studies . \\n\\n')\n",
            "(0.021739130434782608, 'Nevertheless , approaches to develop cognitive models towards technically operationalizable frameworks have been pursued in the context of various frameworks , e.g. , of cognitive grammar,[47 ] functional grammar,[48 ] construction grammar,[49 ] computational psycholinguistics and cognitive neuroscience ( e.g. , ACT - R ) , however , with limited uptake in mainstream NLP ( as measured by presence on major conferences[50 ] of the ACL ) .')\n",
            "(0.0, 'The technology can then accurately extract information and insights contained in the documents as well as categorize and organize the documents themselves . \\n\\n')\n",
            "(0.0, 'Already in 1950 , Alan Turing published an article titled \" Computing Machinery and Intelligence \" which proposed what is now called the Turing test as a criterion of intelligence , though at the time that was not articulated as a problem separate from artificial intelligence .')\n",
            "(0.0, 'These algorithms take as input a large set of \" features \" that are generated from the input data .')\n",
            "(0.0, 'Such models have the advantage that they can express the relative certainty of many different possible answers rather than only one , producing more reliable results when such a model is included as a component of a larger system . \\n\\n')\n",
            "(0.0, 'Some of the earliest - used machine learning algorithms , such as decision trees , produced systems of hard if - then rules similar to existing hand - written rules .  ')\n",
            "(0.0, 'Such models are generally more robust when given unfamiliar input , especially input that contains errors ( as is very common for real - world data ) , and produce more reliable results when integrated into a larger system comprising multiple subtasks . \\n\\n')\n",
            "(0.0, 'Popular techniques include the use of word embeddings to capture semantic properties of words , and an increase in end - to - end learning of a higher - level task ( e.g. , question answering ) instead of relying on a pipeline of separate intermediate tasks ( e.g. , part - of - speech tagging and dependency parsing ) .')\n",
            "(0.0, 'Some of these tasks have direct real - world applications , while others more commonly serve as subtasks that are used to aid in solving larger tasks . \\n\\n')\n",
            "(0.0, 'A coarse division is given below . \\n\\n')\n",
            "(0.0, 'Cognition refers to \" the mental action or process of acquiring knowledge and understanding through thought , experience , and the senses . \"[42 ]')\n"
          ]
        }
      ]
    },
    {
      "cell_type": "markdown",
      "source": [
        "#### 1.6"
      ],
      "metadata": {
        "id": "UZpuJv3ej8hl"
      }
    },
    {
      "cell_type": "code",
      "source": [
        "# creating summary with top N scoring sentences\n",
        "N = 10\n",
        "summary = \"\"\n",
        "for score, sent in sentence_pairs[:N]:\n",
        "  summary = summary + \" \" + sent\n",
        "\n",
        "summary"
      ],
      "metadata": {
        "id": "QGkkOFyIwzbh",
        "colab": {
          "base_uri": "https://localhost:8080/",
          "height": 178
        },
        "outputId": "460a3181-3be6-4752-930a-4ea6a139f5ff"
      },
      "execution_count": null,
      "outputs": [
        {
          "output_type": "execute_result",
          "data": {
            "text/plain": [
              "' Natural language processing ( NLP ) is an interdisciplinary subfield of linguistics , computer science , and artificial intelligence concerned with the interactions between computers and human language , in particular how to program computers to process and analyze large amounts of natural language data .   Challenges in natural language processing frequently involve speech recognition , natural - language understanding , and natural - language generation . As an example , George Lakoff offers a methodology to build natural language processing ( NLP ) algorithms through the perspective of cognitive science , along with the findings of cognitive linguistics,[45 ] with two defining aspects : \\n\\n Ties with cognitive linguistics are part of the historical heritage of NLP , but they have been less frequently addressed since the statistical turn during the 1990s . Starting in the late 1980s , however , there was a revolution in natural language processing with the introduction of machine learning algorithms for language processing .   This was due to both the steady increase in computational power ( see Moore \\'s law ) and the gradual lessening of the dominance of Chomskyan theories of linguistics ( e.g. transformational grammar ) , whose theoretical underpinnings discouraged the sort of corpus linguistics that underlies the machine - learning approach to language processing.[7 ] \\n\\n In the 2010s , representation learning and deep neural network - style machine learning methods became widespread in natural language processing . More recent systems based on machine - learning algorithms have many advantages over hand - produced rules : \\n\\n Despite the popularity of machine learning in NLP research , symbolic methods are still ( 2020 ) commonly used : \\n\\n Since the so - called \" statistical revolution\"[16][17 ] in the late 1980s and mid-1990s , much natural language processing research has relied heavily on machine learning . In some areas , this shift has entailed substantial changes in how NLP systems are designed , such that deep neural network - based approaches may be viewed as a new paradigm distinct from statistical natural language processing . The premise of symbolic NLP is well - summarized by John Searle \\'s Chinese room experiment : Given a collection of rules ( e.g. , a Chinese phrasebook , with questions and matching answers ) , the computer emulates natural language understanding ( or other NLP tasks ) by applying those rules to the data it confronts . However , part - of - speech tagging introduced the use of hidden Markov models to natural language processing , and increasingly , research has focused on statistical models , which make soft , probabilistic decisions based on attaching real - valued weights to the features making up the input data . Natural language processing has its roots in the 1950s .'"
            ],
            "application/vnd.google.colaboratory.intrinsic+json": {
              "type": "string"
            }
          },
          "metadata": {},
          "execution_count": 25
        }
      ]
    },
    {
      "cell_type": "markdown",
      "source": [
        "#### 1.6 - sub 1"
      ],
      "metadata": {
        "id": "vdpq_ZpLkgi2"
      }
    },
    {
      "cell_type": "code",
      "source": [
        "k=3"
      ],
      "metadata": {
        "id": "K0ujkLazmK0g"
      },
      "execution_count": null,
      "outputs": []
    },
    {
      "cell_type": "code",
      "source": [
        "freq_tokens = dict(freq_dist.most_common(k)).keys()"
      ],
      "metadata": {
        "id": "zbyR9XDhkgPf"
      },
      "execution_count": null,
      "outputs": []
    },
    {
      "cell_type": "code",
      "source": [
        "# Creating summary with sentences including K frequent tokens within the document\n",
        "count =0\n",
        "summary = \"\"\n",
        "for score, sent in sentence_pairs:\n",
        "  for each in freq_tokens:\n",
        "    if each in sent:\n",
        "      summary += \" \"+ sent\n",
        "      count += 1\n",
        "      break\n"
      ],
      "metadata": {
        "id": "3qRruRTKmTIW"
      },
      "execution_count": null,
      "outputs": []
    },
    {
      "cell_type": "code",
      "source": [
        "print(\"No of sentences used for summary with K tokens -\", count)"
      ],
      "metadata": {
        "colab": {
          "base_uri": "https://localhost:8080/"
        },
        "id": "ZCmkpjK0Icck",
        "outputId": "d208892c-f767-4ea8-d393-e05133eb0af6"
      },
      "execution_count": null,
      "outputs": [
        {
          "output_type": "stream",
          "name": "stdout",
          "text": [
            "No of sentences used for summary with K tokens - 21\n"
          ]
        }
      ]
    },
    {
      "cell_type": "code",
      "source": [
        "\n",
        "print(summary)"
      ],
      "metadata": {
        "colab": {
          "base_uri": "https://localhost:8080/"
        },
        "id": "MUBiZ8KJoHKR",
        "outputId": "559a7b49-7564-441f-d163-86a20d277362"
      },
      "execution_count": null,
      "outputs": [
        {
          "output_type": "stream",
          "name": "stdout",
          "text": [
            " Natural language processing ( NLP ) is an interdisciplinary subfield of linguistics , computer science , and artificial intelligence concerned with the interactions between computers and human language , in particular how to program computers to process and analyze large amounts of natural language data .   Challenges in natural language processing frequently involve speech recognition , natural - language understanding , and natural - language generation . As an example , George Lakoff offers a methodology to build natural language processing ( NLP ) algorithms through the perspective of cognitive science , along with the findings of cognitive linguistics,[45 ] with two defining aspects : \n",
            "\n",
            " Ties with cognitive linguistics are part of the historical heritage of NLP , but they have been less frequently addressed since the statistical turn during the 1990s . Starting in the late 1980s , however , there was a revolution in natural language processing with the introduction of machine learning algorithms for language processing .   This was due to both the steady increase in computational power ( see Moore 's law ) and the gradual lessening of the dominance of Chomskyan theories of linguistics ( e.g. transformational grammar ) , whose theoretical underpinnings discouraged the sort of corpus linguistics that underlies the machine - learning approach to language processing.[7 ] \n",
            "\n",
            " In the 2010s , representation learning and deep neural network - style machine learning methods became widespread in natural language processing . More recent systems based on machine - learning algorithms have many advantages over hand - produced rules : \n",
            "\n",
            " Despite the popularity of machine learning in NLP research , symbolic methods are still ( 2020 ) commonly used : \n",
            "\n",
            " Since the so - called \" statistical revolution\"[16][17 ] in the late 1980s and mid-1990s , much natural language processing research has relied heavily on machine learning . In some areas , this shift has entailed substantial changes in how NLP systems are designed , such that deep neural network - based approaches may be viewed as a new paradigm distinct from statistical natural language processing . The premise of symbolic NLP is well - summarized by John Searle 's Chinese room experiment : Given a collection of rules ( e.g. , a Chinese phrasebook , with questions and matching answers ) , the computer emulates natural language understanding ( or other NLP tasks ) by applying those rules to the data it confronts . However , part - of - speech tagging introduced the use of hidden Markov models to natural language processing , and increasingly , research has focused on statistical models , which make soft , probabilistic decisions based on attaching real - valued weights to the features making up the input data . Natural language processing has its roots in the 1950s . Up to the 1980s , most natural language processing systems were based on complex sets of hand - written rules .   That popularity was due partly to a flurry of results showing that such techniques[8][9 ] can achieve state - of - the - art results in many natural language tasks , e.g. , in language modeling[10 ] and parsing.[11][12 ] This is increasingly important in medicine and healthcare , where NLP helps analyze notes and text in electronic health records that would otherwise be inaccessible for study when seeking to improve care.[13 ] \n",
            "\n",
            " In the early days , many language - processing systems were designed by symbolic methods , i.e. , the hand - coding of a set of rules , coupled with a dictionary lookup:[14][15 ] such as by writing grammars or devising heuristic rules for stemming . \n",
            "\n",
            " Many different classes of machine - learning algorithms have been applied to natural - language - processing tasks . The following is a list of some of the most commonly researched tasks in natural language processing . Though natural language processing tasks are closely intertwined , they can be subdivided into categories for convenience . As of 2020 , three trends among the topics of the long - standing series of CoNLL Shared Tasks can be observed:[41 ] \n",
            "\n",
            " Most higher - level NLP applications involve aspects that emulate intelligent behaviour and apparent comprehension of natural language . The proposed test includes a task that involves the automated interpretation and generation of natural language . \n",
            "\n",
            " The cache language models upon which many speech recognition systems now rely are examples of such statistical models .   For instance , the term neural machine translation ( NMT ) emphasizes the fact that deep learning - based approaches to machine translation directly learn sequence - to - sequence transformations , obviating the need for intermediate steps such as word alignment and language modeling that was used in statistical machine translation ( SMT ) . \n",
            "\n",
            " The goal is a computer capable of \" understanding \" the contents of documents , including the contextual nuances of the language within them .\n"
          ]
        }
      ]
    },
    {
      "cell_type": "markdown",
      "source": [
        "### Task 2"
      ],
      "metadata": {
        "id": "lUS6v55XiESw"
      }
    },
    {
      "cell_type": "markdown",
      "source": [
        "#### 2.1"
      ],
      "metadata": {
        "id": "zIsBIWvYkCf7"
      }
    },
    {
      "cell_type": "code",
      "source": [
        "def generate_ngrams(text,n):\n",
        "  \"\"\"\n",
        "  Retuns list of ngrams for the text paragraph\n",
        "  \"\"\"\n",
        "  text = text.lower()\n",
        "\n",
        "  n_grams = ngrams(nltk.word_tokenize(text),n)\n",
        "  return [\" \".join(grams) for grams in n_grams]\n",
        "\n"
      ],
      "metadata": {
        "id": "_u2Kq0Q-sQl2"
      },
      "execution_count": null,
      "outputs": []
    },
    {
      "cell_type": "code",
      "source": [
        "# n value for ngrams\n",
        "n=3"
      ],
      "metadata": {
        "id": "__6cZLa6slA1"
      },
      "execution_count": null,
      "outputs": []
    },
    {
      "cell_type": "code",
      "source": [
        "# join the processed sentences\n",
        "text2 = \" \".join(sentences)"
      ],
      "metadata": {
        "id": "UPYpES7fruUO"
      },
      "execution_count": null,
      "outputs": []
    },
    {
      "cell_type": "code",
      "source": [
        "# creating n grams\n",
        "grams_n = generate_ngrams(text, n)"
      ],
      "metadata": {
        "id": "Q7J3iOnBt_Xx"
      },
      "execution_count": null,
      "outputs": []
    },
    {
      "cell_type": "markdown",
      "source": [
        "#### 2.2 a"
      ],
      "metadata": {
        "id": "efQOe03vkgPr"
      }
    },
    {
      "cell_type": "code",
      "source": [
        "# Frequency distribution of ngrams\n",
        "freq_dist_ngrams = FreqDist(grams_n)\n",
        "freq_dist_ngrams.plot(15)"
      ],
      "metadata": {
        "id": "rJm7R1g7ubvJ",
        "colab": {
          "base_uri": "https://localhost:8080/",
          "height": 430
        },
        "outputId": "df96af0e-c1ba-4643-c5fd-738405b17412"
      },
      "execution_count": null,
      "outputs": [
        {
          "output_type": "display_data",
          "data": {
            "text/plain": [
              "<Figure size 432x288 with 1 Axes>"
            ],
            "image/png": "[encoded data removed]"
          },
          "metadata": {
            "needs_background": "light"
          }
        },
        {
          "output_type": "execute_result",
          "data": {
            "text/plain": [
              "<AxesSubplot:xlabel='Samples', ylabel='Counts'>"
            ]
          },
          "metadata": {},
          "execution_count": 35
        }
      ]
    },
    {
      "cell_type": "markdown",
      "source": [
        "#### 2.2 b"
      ],
      "metadata": {
        "id": "HbtTJ9tPyVsl"
      }
    },
    {
      "cell_type": "code",
      "source": [
        "def find_weighted_frequency(n, sentences):\n",
        "  \"\"\"\n",
        "  creates the ngrams from the sentence corpus\n",
        "  Returns sorted weighted frequencies of ngrams and Tf Idf vectorizer\n",
        "  \"\"\"\n",
        "  vectorizer = TfidfVectorizer(ngram_range=(n, n))\n",
        "  # X is a sparse matrix\n",
        "  X = vectorizer.fit_transform(sentences)\n",
        "  #print('Features, names', vectorizer.get_feature_names_out())\n",
        "  df = pd.DataFrame(X.toarray(), columns=vectorizer.get_feature_names_out())\n",
        "  # convert from sparse to dense\n",
        "  ngram_tf_idf = df.sum(axis=0)\n",
        "  d = ngram_tf_idf.to_dict()\n",
        "  # sorting the ngrams based on weighted term frequency in descending order\n",
        "  d = sorted(d.items(), key=lambda x:x[1], reverse=True)\n",
        "  return d, vectorizer\n",
        "  #for each in d.items():\n",
        "  #  print(each)"
      ],
      "metadata": {
        "id": "YNfzX8n11bPp"
      },
      "execution_count": null,
      "outputs": []
    },
    {
      "cell_type": "code",
      "source": [
        "ngram_freqs, vectorizer = find_weighted_frequency(n, sentences)\n"
      ],
      "metadata": {
        "id": "yPqIS0uiupd_"
      },
      "execution_count": null,
      "outputs": []
    },
    {
      "cell_type": "code",
      "source": [
        "ngram_freqs[:20]"
      ],
      "metadata": {
        "colab": {
          "base_uri": "https://localhost:8080/"
        },
        "id": "VOUx-Nvtkovv",
        "outputId": "fb8c6fef-736b-4a05-d84a-c4e304e4b9a0"
      },
      "execution_count": null,
      "outputs": [
        {
          "output_type": "execute_result",
          "data": {
            "text/plain": [
              "[('natural language processing', 2.0472477104781506),\n",
              " ('coarse division given', 1.0),\n",
              " ('machine learning algorithms', 0.8519354846311136),\n",
              " ('language processing roots', 0.6634121736137125),\n",
              " ('processing roots 1950s', 0.6634121736137125),\n",
              " ('language processing tasks', 0.6631149769936411),\n",
              " ('hand written rules', 0.5663102273786268),\n",
              " ('language processing systems', 0.45969659994479883),\n",
              " ('natural language understanding', 0.44432398212786794),\n",
              " ('commonly researched tasks', 0.43551884853852296),\n",
              " ('following list commonly', 0.43551884853852296),\n",
              " ('list commonly researched', 0.43551884853852296),\n",
              " ('researched tasks natural', 0.43551884853852296),\n",
              " ('tasks natural language', 0.43551884853852296),\n",
              " ('contexts statistical interpretability', 0.4082482904638631),\n",
              " ('continue relevant contexts', 0.4082482904638631),\n",
              " ('drawback statistical methods', 0.4082482904638631),\n",
              " ('elaborate feature engineering', 0.4082482904638631),\n",
              " ('however continue relevant', 0.4082482904638631),\n",
              " ('interpretability transparency required', 0.4082482904638631)]"
            ]
          },
          "metadata": {},
          "execution_count": 38
        }
      ]
    },
    {
      "cell_type": "markdown",
      "source": [
        "#### 2.2 c"
      ],
      "metadata": {
        "id": "npxJeA5hk5zD"
      }
    },
    {
      "cell_type": "code",
      "source": [
        "sentences_scores_list = []\n",
        "\n",
        "def calculate_sentence_scores_ngram(n, sentences, vectorizer):\n",
        "  \"\"\"\n",
        "  calculates sentence score for each sentence in the corpus\n",
        "  \"\"\"\n",
        "  vectorizer = TfidfVectorizer(ngram_range=(1, n))\n",
        "  # fitting tf-idf for 1 to n grams\n",
        "  X = vectorizer.fit_transform(sentences)\n",
        "\n",
        "  for i in range(len(sentences)):\n",
        "    ngram_tfidf = vectorizer.transform([sentences[i]])\n",
        "    # Calculating the sentence score as the sum of the TF IDF weights of the ngrams\n",
        "    sentence_score = np.sum(ngram_tfidf)\n",
        "    # appending all sentences scores to a list\n",
        "    sentences_scores_list.append(sentence_score)\n",
        "\n",
        "\n"
      ],
      "metadata": {
        "id": "Fx5lTHNW19GK"
      },
      "execution_count": null,
      "outputs": []
    },
    {
      "cell_type": "code",
      "source": [
        "n = 3 # ngrams\n",
        "calculate_sentence_scores_ngram(n, sentences, vectorizer)\n",
        "# calculating average sentence scores\n",
        "sentences_scores_list = sentences_scores_list/sentences_length"
      ],
      "metadata": {
        "id": "Zyd9WBcRzhxn"
      },
      "execution_count": null,
      "outputs": []
    },
    {
      "cell_type": "code",
      "source": [
        "assert len(sentences_scores_list) == len(sentences)\n",
        "sentences_orig_string = [' '.join(sent) for sent in sentences_orig]\n",
        "# Mapping sentences scores with original sentences\n",
        "sentence_pairs = list(zip(sentences_scores_list, sentences_orig_string))\n",
        "# order the sentence pairs in descending order of sentence scores\n",
        "sentence_pairs.sort(key = lambda x: x[0], reverse=True)\n",
        "\n",
        "for s in sentence_pairs[:10]:\n",
        "    print(s)"
      ],
      "metadata": {
        "colab": {
          "base_uri": "https://localhost:8080/"
        },
        "id": "jDWUYvlk7d9j",
        "outputId": "4e15a2e8-2ac1-4234-de01-9f0464ff3452"
      },
      "execution_count": null,
      "outputs": [
        {
          "output_type": "stream",
          "name": "stdout",
          "text": [
            "(0.3491821555468993, 'A coarse division is given below . \\n\\n')\n",
            "(0.3263442636930275, 'Natural language processing has its roots in the 1950s .')\n",
            "(0.3247968968400032, 'A major drawback of statistical methods is that they require elaborate feature engineering .')\n",
            "(0.30882397815880946, 'Since 2015,[20 ] the field has thus largely abandoned statistical methods and shifted to neural networks for machine learning .')\n",
            "(0.3003226499514399, 'The proposed test includes a task that involves the automated interpretation and generation of natural language . \\n\\n')\n",
            "(0.2949944807415735, 'Since the neural turn , statistical methods in NLP research have been largely replaced by neural networks .')\n",
            "(0.2933252901965463, 'The cache language models upon which many speech recognition systems now rely are examples of such statistical models .  ')\n",
            "(0.2797244332265072, 'Though natural language processing tasks are closely intertwined , they can be subdivided into categories for convenience .')\n",
            "(0.2788755316750394, 'Many different classes of machine - learning algorithms have been applied to natural - language - processing tasks .')\n",
            "(0.26832400864791817, 'Challenges in natural language processing frequently involve speech recognition , natural - language understanding , and natural - language generation .')\n"
          ]
        }
      ]
    },
    {
      "cell_type": "markdown",
      "source": [
        "#### 2.2 d"
      ],
      "metadata": {
        "id": "Y528ypUl-IGH"
      }
    },
    {
      "cell_type": "code",
      "source": [
        "N=10"
      ],
      "metadata": {
        "id": "YhVGYAMXhzRx"
      },
      "execution_count": null,
      "outputs": []
    },
    {
      "cell_type": "code",
      "source": [
        "# generating summary with top N scored sentences\n",
        "summary = \"\"\n",
        "for score, sent in sentence_pairs[:N]:\n",
        "\n",
        "  summary += \" \"+ sent\n",
        "\n",
        "summary"
      ],
      "metadata": {
        "colab": {
          "base_uri": "https://localhost:8080/",
          "height": 178
        },
        "id": "Vw2szrnL8wuG",
        "outputId": "6134a434-ab97-4739-8695-aa60191263e4"
      },
      "execution_count": null,
      "outputs": [
        {
          "output_type": "execute_result",
          "data": {
            "text/plain": [
              "' A coarse division is given below . \\n\\n Natural language processing has its roots in the 1950s . A major drawback of statistical methods is that they require elaborate feature engineering . Since 2015,[20 ] the field has thus largely abandoned statistical methods and shifted to neural networks for machine learning . The proposed test includes a task that involves the automated interpretation and generation of natural language . \\n\\n Since the neural turn , statistical methods in NLP research have been largely replaced by neural networks . The cache language models upon which many speech recognition systems now rely are examples of such statistical models .   Though natural language processing tasks are closely intertwined , they can be subdivided into categories for convenience . Many different classes of machine - learning algorithms have been applied to natural - language - processing tasks . Challenges in natural language processing frequently involve speech recognition , natural - language understanding , and natural - language generation .'"
            ],
            "application/vnd.google.colaboratory.intrinsic+json": {
              "type": "string"
            }
          },
          "metadata": {},
          "execution_count": 43
        }
      ]
    },
    {
      "cell_type": "code",
      "source": [
        "k =3"
      ],
      "metadata": {
        "id": "FF8h9GOz_NSv"
      },
      "execution_count": null,
      "outputs": []
    },
    {
      "cell_type": "code",
      "source": [
        "# most frequent k ngram tokens\n",
        "ngram_freqs_tokens = [key for key, value in ngram_freqs][:k]"
      ],
      "metadata": {
        "id": "5hCYD0cd-anh"
      },
      "execution_count": null,
      "outputs": []
    },
    {
      "cell_type": "code",
      "source": [
        "# Generating summary with sentences having most frequent k ngram tokens\n",
        "count =0\n",
        "summary = \"\"\n",
        "for score, sent in sentence_pairs:\n",
        "  for each in ngram_freqs_tokens:\n",
        "    if each in sent:\n",
        "      summary += \" \"+ sent\n",
        "      count += 1\n",
        "      break\n"
      ],
      "metadata": {
        "id": "WXGaHtid7d62"
      },
      "execution_count": null,
      "outputs": []
    },
    {
      "cell_type": "code",
      "source": [
        "print(\"No of sentences used for summary with to K tokens - \", count)"
      ],
      "metadata": {
        "colab": {
          "base_uri": "https://localhost:8080/"
        },
        "id": "O-HhiJSUiib9",
        "outputId": "176224a1-cc6c-4863-9b9e-b205bc678e4f"
      },
      "execution_count": null,
      "outputs": [
        {
          "output_type": "stream",
          "name": "stdout",
          "text": [
            "No of sentences used for summary with to K tokens -  11\n"
          ]
        }
      ]
    },
    {
      "cell_type": "code",
      "source": [
        "\n",
        "print(summary)"
      ],
      "metadata": {
        "colab": {
          "base_uri": "https://localhost:8080/"
        },
        "id": "Ptm-3dSq-GEP",
        "outputId": "84b33086-1f8c-4489-f9ec-8356cecd75d4"
      },
      "execution_count": null,
      "outputs": [
        {
          "output_type": "stream",
          "name": "stdout",
          "text": [
            " Though natural language processing tasks are closely intertwined , they can be subdivided into categories for convenience . Challenges in natural language processing frequently involve speech recognition , natural - language understanding , and natural - language generation . Up to the 1980s , most natural language processing systems were based on complex sets of hand - written rules .   The following is a list of some of the most commonly researched tasks in natural language processing . Starting in the late 1980s , however , there was a revolution in natural language processing with the introduction of machine learning algorithms for language processing .   Some of the earliest - used machine learning algorithms , such as decision trees , produced systems of hard if - then rules similar to existing hand - written rules .   In some areas , this shift has entailed substantial changes in how NLP systems are designed , such that deep neural network - based approaches may be viewed as a new paradigm distinct from statistical natural language processing . However , part - of - speech tagging introduced the use of hidden Markov models to natural language processing , and increasingly , research has focused on statistical models , which make soft , probabilistic decisions based on attaching real - valued weights to the features making up the input data . More recent systems based on machine - learning algorithms have many advantages over hand - produced rules : \n",
            "\n",
            " Despite the popularity of machine learning in NLP research , symbolic methods are still ( 2020 ) commonly used : \n",
            "\n",
            " Since the so - called \" statistical revolution\"[16][17 ] in the late 1980s and mid-1990s , much natural language processing research has relied heavily on machine learning . As an example , George Lakoff offers a methodology to build natural language processing ( NLP ) algorithms through the perspective of cognitive science , along with the findings of cognitive linguistics,[45 ] with two defining aspects : \n",
            "\n",
            " Ties with cognitive linguistics are part of the historical heritage of NLP , but they have been less frequently addressed since the statistical turn during the 1990s . This was due to both the steady increase in computational power ( see Moore 's law ) and the gradual lessening of the dominance of Chomskyan theories of linguistics ( e.g. transformational grammar ) , whose theoretical underpinnings discouraged the sort of corpus linguistics that underlies the machine - learning approach to language processing.[7 ] \n",
            "\n",
            " In the 2010s , representation learning and deep neural network - style machine learning methods became widespread in natural language processing .\n"
          ]
        }
      ]
    },
    {
      "cell_type": "code",
      "source": [],
      "metadata": {
        "id": "6I3p3dzi-GCJ"
      },
      "execution_count": null,
      "outputs": []
    },
    {
      "cell_type": "markdown",
      "source": [
        "**Compare these two methods for text summarization. What are different and why? Please\n",
        "clearly explain**\n",
        "\n",
        "In the first method (k most frequent tokens): As the summarization is based on atleast one of most frequent tokens, the summary will have sentences which are very frequent but it will miss less frequent important words.\n",
        "\n",
        "In the second method(tokens that occur in atleast k sentences): It considers the tokens from the top k ranked sentences. Hence the summary will contain the sentences with important words and related words about the context."
      ],
      "metadata": {
        "id": "xlb-DsDrmhnh"
      }
    },
    {
      "cell_type": "code",
      "source": [],
      "metadata": {
        "id": "OxTDpuKn-F_9"
      },
      "execution_count": null,
      "outputs": []
    },
    {
      "cell_type": "markdown",
      "source": [
        "** References **\n",
        "\n",
        "[1]“sklearn.feature_extraction.text.TfidfVectorizer — scikit-learn 0.24.1 documentation,” scikit-learn.org. https://scikit-learn.org/stable/modules/generated/sklearn.feature_extraction.text.TfidfVectorizer.html#sklearn.feature_extraction.text.TfidfVectorizer\n",
        "\n",
        "[2]A. Panchal, “Text Summarization using TF-IDF,” Medium, Jan. 19, 2020. https://towardsdatascience.com/text-summarization-using-tf-idf-e64a0644ace3\n",
        "‌\n",
        "‌"
      ],
      "metadata": {
        "id": "gB6vqZaSxDGp"
      }
    },
    {
      "cell_type": "code",
      "source": [
        "%%shell\n",
        "jupyter nbconvert --to html ///content/AIT526_Lab2.ipynb"
      ],
      "metadata": {
        "colab": {
          "base_uri": "https://localhost:8080/"
        },
        "id": "TxCl0LUc9j7s",
        "outputId": "2ec75cd4-0aab-439b-cbd3-f4c21e8a2b06"
      },
      "execution_count": null,
      "outputs": [
        {
          "output_type": "stream",
          "name": "stdout",
          "text": [
            "[NbConvertApp] Converting notebook ///content/AIT526_Lab2.ipynb to html\n",
            "[NbConvertApp] Writing 422163 bytes to ///content/AIT526_Lab2.html\n"
          ]
        },
        {
          "output_type": "execute_result",
          "data": {
            "text/plain": []
          },
          "metadata": {},
          "execution_count": 49
        }
      ]
    },
    {
      "cell_type": "code",
      "source": [],
      "metadata": {
        "id": "VgavmYvZ1GYz"
      },
      "execution_count": null,
      "outputs": []
    }
  ]
}